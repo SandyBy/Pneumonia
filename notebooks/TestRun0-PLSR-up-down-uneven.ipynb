{
 "cells": [
  {
   "cell_type": "code",
   "execution_count": 1,
   "metadata": {
    "collapsed": false
   },
   "outputs": [],
   "source": [
    "%matplotlib inline\n",
    "import matplotlib.pyplot as plt\n",
    "import numpy as np\n",
    "import pandas as pd\n",
    "from sklearn.decomposition import PCA\n",
    "from scipy.stats import zscore\n",
    "import seaborn as sns\n",
    "from sklearn.cross_decomposition import PLSRegression\n",
    "from sklearn.svm import SVC\n",
    "from sklearn.ensemble import RandomForestClassifier\n",
    "from itertools import cycle\n",
    "from vips import vipp\n",
    "from calc_metrics import calc_metrics\n",
    "import random\n",
    "from collections import Counter\n",
    "from tqdm import tqdm"
   ]
  },
  {
   "cell_type": "code",
   "execution_count": 2,
   "metadata": {
    "collapsed": false
   },
   "outputs": [],
   "source": [
    "#new_raw_counts = pd.read_csv('../data/BAL/Reseq_ALL/counts_reseq.csv', sep='\\t', \n",
    "#                     index_col='sample_id')\n",
    "meta = pd.read_csv('../data/BAL/Reseq_ALL/meta_reseq.csv', sep='\\t', index_col='sample_id')\n",
    "new_fpkm = pd.read_csv(\"../data/BAL/new_counts_fpkm_R.txt\",sep='\\t')#, index_col='sample_id')\n",
    "\n",
    "old_fpkm = pd.read_csv('../data/BAL/Run0/granges.fpkms.txt', sep='\\t').T\n",
    "old_meta = pd.read_csv('../data/BAL/meta_r0.csv', sep='\\t', index_col=0)"
   ]
  },
  {
   "cell_type": "code",
   "execution_count": 3,
   "metadata": {
    "collapsed": false
   },
   "outputs": [],
   "source": [
    "new_fpkm = new_fpkm.T"
   ]
  },
  {
   "cell_type": "markdown",
   "metadata": {},
   "source": [
    "### Require X % of samples to have Y gene greater than 0"
   ]
  },
  {
   "cell_type": "code",
   "execution_count": 4,
   "metadata": {
    "collapsed": true
   },
   "outputs": [],
   "source": [
    "## Enforce minimum percentage of samples that have > min_count\n",
    "def check_min_percent(df, min_percent, min_count=0):\n",
    "    new_cols = []\n",
    "    for gene in df.columns:\n",
    "        percent_above_zero = float(len([x for x in df[gene].values if x > min_count]))/len(df[gene].values)*100\n",
    "        if percent_above_zero >= min_percent:\n",
    "            new_cols.append(gene)\n",
    "    return df[new_cols]"
   ]
  },
  {
   "cell_type": "code",
   "execution_count": 5,
   "metadata": {
    "collapsed": false
   },
   "outputs": [
    {
     "data": {
      "text/plain": [
       "(95, 57785)"
      ]
     },
     "execution_count": 5,
     "metadata": {},
     "output_type": "execute_result"
    }
   ],
   "source": [
    "new_fpkm.shape"
   ]
  },
  {
   "cell_type": "code",
   "execution_count": 5,
   "metadata": {
    "collapsed": true
   },
   "outputs": [],
   "source": [
    "new_fpkm = new_fpkm.apply(lambda x: np.log2(x + 1))\n",
    "new_fpkm = check_min_percent(new_fpkm, min_percent=75)"
   ]
  },
  {
   "cell_type": "code",
   "execution_count": 60,
   "metadata": {
    "collapsed": false
   },
   "outputs": [
    {
     "data": {
      "text/plain": [
       "(95, 4936)"
      ]
     },
     "execution_count": 60,
     "metadata": {},
     "output_type": "execute_result"
    }
   ],
   "source": [
    "new_fpkm.shape"
   ]
  },
  {
   "cell_type": "code",
   "execution_count": 6,
   "metadata": {
    "collapsed": false
   },
   "outputs": [],
   "source": [
    "old_fpkm = old_fpkm.apply(lambda x: np.log2(x + 1))\n",
    "old_fpkm = check_min_percent(old_fpkm, min_percent=75)"
   ]
  },
  {
   "cell_type": "code",
   "execution_count": 7,
   "metadata": {
    "collapsed": true
   },
   "outputs": [],
   "source": [
    "new_fpkm = new_fpkm[[col for col in new_fpkm.columns if col in old_fpkm.columns]]"
   ]
  },
  {
   "cell_type": "code",
   "execution_count": 8,
   "metadata": {
    "collapsed": false
   },
   "outputs": [
    {
     "data": {
      "text/plain": [
       "((95, 4936), (32, 16746))"
      ]
     },
     "execution_count": 8,
     "metadata": {},
     "output_type": "execute_result"
    }
   ],
   "source": [
    "new_fpkm.shape, old_fpkm.shape"
   ]
  },
  {
   "cell_type": "markdown",
   "metadata": {},
   "source": [
    "## Raw counts to FPKM "
   ]
  },
  {
   "cell_type": "code",
   "execution_count": 15,
   "metadata": {
    "collapsed": false
   },
   "outputs": [
    {
     "name": "stdout",
     "output_type": "stream",
     "text": [
      "(32, 16746) (32, 2)\n",
      "(95, 5175) (95, 32)\n"
     ]
    }
   ],
   "source": [
    "print old_fpkm.shape, old_meta.shape\n",
    "print new_fpkm.shape, meta.shape"
   ]
  },
  {
   "cell_type": "markdown",
   "metadata": {},
   "source": [
    "### In this study we have significantly more negative than positive samples\n",
    "### The function geteven_xy() returns an even number of neg and pos\n",
    "   - sampling = 'up' means that a random number of pos samples are added to make up the difference (there are duplicate pos. samples)\n",
    "   - sampling = 'down' means that a random number of neg. samples are removed (there are no duplicates, but the total number of samples is far fewer than when upsampling). "
   ]
  },
  {
   "cell_type": "code",
   "execution_count": 9,
   "metadata": {
    "collapsed": false
   },
   "outputs": [],
   "source": [
    "def geteven_xy(df, dfm, celltype, sampling='up', norm=False, even=True):\n",
    "    dfm = dfm[dfm['CellType']==celltype]\n",
    "    y = dfm['Pneum'].values\n",
    "    df = df.ix[dfm.index]\n",
    "    #    if z: df = df.apply(lambda x: zscore(x))\n",
    "    genes = df.columns\n",
    "    pos = [i for i in range(len(y)) if y[i]==True]\n",
    "    neg = [i for i in range(len(y)) if y[i]==False]\n",
    "    \n",
    "    npos = len(pos)\n",
    "    nneg = len(neg)\n",
    "\n",
    "    #    print \"Num positive: {}\".format(len(pos))\n",
    "    #    print \"Num negative: {}\".format(len(neg))\n",
    "    if even:\n",
    "        if sampling=='down':\n",
    "            if nneg >= npos:\n",
    "                neg = random.sample(neg, npos)\n",
    "            else:\n",
    "                pos = random.sample(pos, nneg)\n",
    "        if sampling=='up':\n",
    "            if nneg >= npos:\n",
    "                dup_pos = random.sample(pos+pos, nneg-npos)\n",
    "                pos = pos + dup_pos ## pos+pos in case not enough in pos\n",
    "        #            print \"duplicated pos:\", dup_pos\n",
    "            else:\n",
    "                neg = neg + random.sample(neg+neg, npos-nneg)\n",
    "\n",
    "    df = df.ix[(pos+neg),:]\n",
    "    \"\"\"\n",
    "    Normalize from zero to one\n",
    "    5, 8, 10\n",
    "    5 - 5 / (10-5)\n",
    "    8 - 5 / (10-5)\n",
    "    10 - 5 / (10-5)\n",
    "    \"\"\"\n",
    "    \n",
    "    if norm=='zero_one': \n",
    "        for col in df.columns:\n",
    "            mx = np.max(df[col])\n",
    "            mn = np.min(df[col])\n",
    "            df[col] = df[col].map(lambda x: (x - mn)/(mx - mn))\n",
    "            \n",
    "    if norm=='zsc': \n",
    "        df = df.apply(lambda x: zscore(x))\n",
    "    #elif norm==zero_one:\n",
    "    #    df = df.apply(lambda x: )\n",
    "    dfm = dfm.ix[(pos+neg),:]\n",
    "    X = np.array(df)\n",
    "    y = dfm['Pneum'].values\n",
    "    #print \"Num pos after sampling: {}\".format(len(pos))\n",
    "    #print \"Num neg after sampling: {}\".format(len(neg))\n",
    "    #y = y[pos + neg] \n",
    "    #X = X[pos + neg] \n",
    "    return X,y, genes, df, dfm"
   ]
  },
  {
   "cell_type": "code",
   "execution_count": null,
   "metadata": {
    "collapsed": true
   },
   "outputs": [],
   "source": [
    "\n",
    "def get_accuracy_stats(n, sampling, celltype, \n",
    "                   n_top_genes, norm=False,\n",
    "                  flip_test_y=False, flip_train_y=False, train_even=True, test_even=False):\n",
    "    \n",
    "    neg_accuracy_train = []\n",
    "    neg_accuracy_test = []\n",
    "    pos_accuracy_train = []\n",
    "    pos_accuracy_test = []\n",
    "    all_top_genes_train = []\n",
    "    top_top_genes_train = [] # not a typo - these are the top across random samplings (n) of the top genes from LOO\n",
    "    old_genes = old_fpkm.columns\n",
    "    \n",
    "    ### TRAINING\n",
    "    #################\n",
    "    \n",
    "    ## Get most common genes from each model\n",
    "    for i in tqdm(range(n), desc=\"Training\"):\n",
    "        X, y, genes, df, dfm = geteven_xy(new_fpkm, meta, celltype=celltype, sampling=sampling, norm=norm, even=train_even)\n",
    "        #print y\n",
    "        if flip_train_y:\n",
    "            y = np.array(map(lambda x: True if x==0 else False, y))\n",
    "        #    print y\n",
    "        neg_err, pos_err, Q2, pos_corr, neg_corr, vip_inds = calc_metrics(X, y, \n",
    "                                                        n_pcs=5, n_top_genes=n_top_genes)\n",
    "        all_vips = [g for m in vip_inds for g in m]\n",
    "        c = Counter(all_vips)\n",
    "        top_inds = [i[0] for i in c.most_common(n_top_genes)]\n",
    "        top_genes_train = [genes[i] for i in top_inds]\n",
    "        all_top_genes_train += top_genes_train\n",
    "        \n",
    "        neg_accuracy_train.append(neg_corr)\n",
    "        pos_accuracy_train.append(pos_corr)\n",
    "\n",
    "    \n",
    "    ### Get the best of the top genes across all X,y\n",
    "    c = Counter(all_top_genes_train)\n",
    "    top_top_genes_train = [i[0] for i in c.most_common(n_top_genes)]\n",
    "    \n",
    "    ### Build model based on those genes\n",
    "    pls = PLSRegression(5, scale=True)\n",
    "    X = np.array(df[top_top_genes_train])\n",
    "    y = np.array(dfm['Pneum'])\n",
    "    pls.fit(X, y)\n",
    "        \n",
    "    \n",
    "    ### TESTING\n",
    "    ###############\n",
    "    \n",
    "    ### Random up-samples of old data for predictions\n",
    "    if test_even==False:\n",
    "        n = 1\n",
    "        \n",
    "    for i in tqdm(range(n), desc=\"Testing\"):\n",
    "        X_test, y_test, genes_test, df_test, dfm_test = geteven_xy(old_fpkm, \n",
    "                            old_meta, celltype=celltype, sampling=sampling, norm=norm, even=test_even)\n",
    "        #print y_test\n",
    "        if flip_test_y:\n",
    "            y_test = np.array(map(lambda x: True if x==0 else False, y_test))\n",
    "        X_test = np.array(df_test[top_top_genes_train])\n",
    "\n",
    "        y_pred = pls.predict(X_test)\n",
    "        #for i in range(len(y_pred)):\n",
    "        #    print y_test[i] - y_pred[i]\n",
    "        \n",
    "        neg_err = [float(abs(y_pred[i]-y_test[i])) for i in range(len(y_pred)) if y_test[i]==0]\n",
    "        #print \"Negative error: \", neg_err\n",
    "        neg_acc = float(sum([(e < 0.5) for e in neg_err])) / len(neg_err)\n",
    "        #print \"Negative acc: \", neg_acc\n",
    "        \n",
    "        pos_err = [float(abs(y_pred[i]-y_test[i])) for i in range(len(y_pred)) if y_test[i]==1]\n",
    "        print \"Positive error: \", pos_err\n",
    "        pos_acc = float(sum([(e < 0.5) for e in pos_err])) / len(pos_err)\n",
    "        #print \"Positive acc: \", pos_acc\n",
    "\n",
    "        neg_accuracy_test.append(neg_acc)\n",
    "        pos_accuracy_test.append(pos_acc)\n",
    "        \n",
    "    #print \"positive error mean= {}\".format(np.mean(pos_err))\n",
    "    #print \"negative error mean= {}\".format(np.mean(neg_err))\n",
    "    return neg_accuracy_train, neg_accuracy_test, pos_accuracy_train, pos_accuracy_test"
   ]
  },
  {
   "cell_type": "markdown",
   "metadata": {},
   "source": [
    "# Uneven only"
   ]
  },
  {
   "cell_type": "code",
   "execution_count": 25,
   "metadata": {
    "collapsed": false
   },
   "outputs": [
    {
     "name": "stderr",
     "output_type": "stream",
     "text": [
      "\n",
      "Training:   0%|          | 0/1 [00:00<?, ?it/s]\u001b[A\n",
      "Training: 100%|██████████| 1/1 [00:03<00:00,  3.84s/it]\u001b[A\n",
      "\u001b[A\n",
      "Testing:   0%|          | 0/1 [00:00<?, ?it/s]\u001b[A\n",
      "Testing: 100%|██████████| 1/1 [00:02<00:00,  2.16s/it]"
     ]
    },
    {
     "name": "stdout",
     "output_type": "stream",
     "text": [
      "Positive error:  [0.06024259003353727, 0.7307889833997827, 0.6018853869183209, 0.36772097143396154, 0.8402164847985742, 0.5693915556837843]\n"
     ]
    },
    {
     "name": "stderr",
     "output_type": "stream",
     "text": [
      "\u001b[A\n",
      "\u001b[A"
     ]
    }
   ],
   "source": [
    "testAM_uneven = get_accuracy_stats(n=1, celltype='AM', \n",
    "                        n_top_genes=100, sampling='up', \n",
    "                        norm='zsc', flip_test_y=False, flip_train_y=False, train_even=False, test_even=False)\n"
   ]
  },
  {
   "cell_type": "code",
   "execution_count": 26,
   "metadata": {
    "collapsed": false
   },
   "outputs": [
    {
     "name": "stderr",
     "output_type": "stream",
     "text": [
      "\n",
      "Training:   0%|          | 0/1 [00:00<?, ?it/s]\u001b[A\n",
      "Training: 100%|██████████| 1/1 [00:03<00:00,  3.66s/it]\u001b[A\n",
      "\u001b[A\n",
      "Testing:   0%|          | 0/1 [00:00<?, ?it/s]\u001b[A\n",
      "Testing: 100%|██████████| 1/1 [00:02<00:00,  2.39s/it]"
     ]
    },
    {
     "name": "stdout",
     "output_type": "stream",
     "text": [
      "Positive error:  [0.7692910665507061, 0.5143676285054924, 0.1715414681427916, 1.037733377426228, 1.0073048213560754, 1.0432904113950523, 0.07614887264573289]\n"
     ]
    },
    {
     "name": "stderr",
     "output_type": "stream",
     "text": [
      "\u001b[A\n",
      "\u001b[A"
     ]
    }
   ],
   "source": [
    "test163_uneven = get_accuracy_stats(n=1, celltype='CD163', \n",
    "                        n_top_genes=100, sampling='up', \n",
    "                        norm='zsc', flip_test_y=False, flip_train_y=False, train_even=False, test_even=False)\n"
   ]
  },
  {
   "cell_type": "code",
   "execution_count": 28,
   "metadata": {
    "collapsed": false
   },
   "outputs": [
    {
     "data": {
      "text/plain": [
       "([0.21052631578947367], [0.7857142857142857], [0.6], [0.3333333333333333])"
      ]
     },
     "execution_count": 28,
     "metadata": {},
     "output_type": "execute_result"
    }
   ],
   "source": [
    "testAM_uneven"
   ]
  },
  {
   "cell_type": "code",
   "execution_count": 27,
   "metadata": {
    "collapsed": false
   },
   "outputs": [
    {
     "data": {
      "text/plain": [
       "<matplotlib.text.Text at 0x11f55a090>"
      ]
     },
     "execution_count": 27,
     "metadata": {},
     "output_type": "execute_result"
    },
    {
     "data": {
      "image/png": "[encoded data removed]",
      "text/plain": [
       "<matplotlib.figure.Figure at 0x10af8e790>"
      ]
     },
     "metadata": {},
     "output_type": "display_data"
    }
   ],
   "source": [
    "index = np.arange(4)\n",
    "width = 0.5\n",
    "plt.figure(num=None, figsize=(3, 5), dpi=80, facecolor='w', edgecolor='k')\n",
    "plt.bar(index, [0.5, testAM_uneven[1][0], test163_uneven[1][0], testAM_uneven[0][0]], width=width, color='b')\n",
    "plt.xticks(index + width / 2, ('Random', 'Orig. Data', 'Down-sampling', 'Up-sampling'))\n",
    "plt.ylabel(\"Fraction classified correctly\")\n",
    "plt.title(\"Negative Sample Test Predictions\")"
   ]
  },
  {
   "cell_type": "code",
   "execution_count": null,
   "metadata": {
    "collapsed": true
   },
   "outputs": [],
   "source": []
  },
  {
   "cell_type": "markdown",
   "metadata": {},
   "source": [
    "# Up / Down / Uneven"
   ]
  },
  {
   "cell_type": "code",
   "execution_count": 21,
   "metadata": {
    "collapsed": false
   },
   "outputs": [
    {
     "name": "stderr",
     "output_type": "stream",
     "text": [
      "\n",
      "Training:   0%|          | 0/10 [00:00<?, ?it/s]\u001b[A\n",
      "Training:  10%|█         | 1/10 [00:04<00:44,  4.93s/it]\u001b[A\n",
      "Training:  20%|██        | 2/10 [00:09<00:39,  4.89s/it]\u001b[A\n",
      "Training:  30%|███       | 3/10 [00:14<00:34,  4.89s/it]\u001b[A\n",
      "Training:  40%|████      | 4/10 [00:19<00:28,  4.82s/it]\u001b[A\n",
      "Training:  50%|█████     | 5/10 [00:23<00:23,  4.74s/it]\u001b[A\n",
      "Training:  60%|██████    | 6/10 [00:28<00:18,  4.68s/it]\u001b[A\n",
      "Training:  70%|███████   | 7/10 [00:33<00:14,  4.78s/it]\u001b[A\n",
      "Training:  80%|████████  | 8/10 [00:38<00:09,  4.77s/it]\u001b[A\n",
      "Training:  90%|█████████ | 9/10 [00:42<00:04,  4.77s/it]\u001b[A\n",
      "Training: 100%|██████████| 10/10 [00:48<00:00,  4.91s/it]\u001b[A\n",
      "\u001b[A\n",
      "Testing:   0%|          | 0/1 [00:00<?, ?it/s]\u001b[A\n",
      "Testing: 100%|██████████| 1/1 [00:02<00:00,  2.43s/it]"
     ]
    },
    {
     "name": "stdout",
     "output_type": "stream",
     "text": [
      "Positive error:  [0.10663355488801074, 0.7324262998164539, 0.5729073043020005, 0.3639409830012078, 0.7788490363038403, 0.2695271664861464]\n"
     ]
    },
    {
     "name": "stderr",
     "output_type": "stream",
     "text": [
      "\u001b[A\n",
      "\u001b[A"
     ]
    }
   ],
   "source": [
    "testAM_up = get_accuracy_stats(n=10, celltype='AM', \n",
    "                        n_top_genes=100, sampling='up', \n",
    "                        norm='zsc', flip_test_y=False, flip_train_y=False, train_even=True, test_even=False)\n"
   ]
  },
  {
   "cell_type": "code",
   "execution_count": 22,
   "metadata": {
    "collapsed": false
   },
   "outputs": [
    {
     "name": "stderr",
     "output_type": "stream",
     "text": [
      "\n",
      "Training:   0%|          | 0/10 [00:00<?, ?it/s]\u001b[A\n",
      "Training:  10%|█         | 1/10 [00:02<00:26,  3.00s/it]\u001b[A\n",
      "Training:  20%|██        | 2/10 [00:05<00:23,  2.99s/it]\u001b[A\n",
      "Training:  30%|███       | 3/10 [00:08<00:20,  2.99s/it]\u001b[A\n",
      "Training:  40%|████      | 4/10 [00:12<00:18,  3.06s/it]\u001b[A\n",
      "Training:  50%|█████     | 5/10 [00:14<00:14,  2.98s/it]\u001b[A\n",
      "Training:  60%|██████    | 6/10 [00:17<00:11,  2.92s/it]\u001b[A\n",
      "Training:  70%|███████   | 7/10 [00:20<00:08,  2.89s/it]\u001b[A\n",
      "Training:  80%|████████  | 8/10 [00:23<00:05,  2.91s/it]\u001b[A\n",
      "Training:  90%|█████████ | 9/10 [00:26<00:02,  2.95s/it]\u001b[A\n",
      "Training: 100%|██████████| 10/10 [00:29<00:00,  2.93s/it]\u001b[A\n",
      "\u001b[A\n",
      "Testing:   0%|          | 0/1 [00:00<?, ?it/s]\u001b[A\n",
      "Testing: 100%|██████████| 1/1 [00:02<00:00,  2.37s/it]"
     ]
    },
    {
     "name": "stdout",
     "output_type": "stream",
     "text": [
      "Positive error:  [0.23514580982113498, 0.9359173863348738, 0.7323358427080158, 0.506637639761261, 0.5408406415626301, 0.27495781702036415]\n"
     ]
    },
    {
     "name": "stderr",
     "output_type": "stream",
     "text": [
      "\u001b[A\n",
      "\u001b[A"
     ]
    }
   ],
   "source": [
    "testAM_dn = get_accuracy_stats(n=10, celltype='AM', \n",
    "                        n_top_genes=100, sampling='down', \n",
    "                        norm='zsc', flip_test_y=False, flip_train_y=False, train_even=True, test_even=False)\n"
   ]
  },
  {
   "cell_type": "code",
   "execution_count": 23,
   "metadata": {
    "collapsed": false
   },
   "outputs": [
    {
     "name": "stderr",
     "output_type": "stream",
     "text": [
      "\n",
      "Training:   0%|          | 0/10 [00:00<?, ?it/s]\u001b[A\n",
      "Training:  10%|█         | 1/10 [00:03<00:35,  3.89s/it]\u001b[A\n",
      "Training:  20%|██        | 2/10 [00:07<00:30,  3.85s/it]\u001b[A\n",
      "Training:  30%|███       | 3/10 [00:11<00:27,  3.88s/it]\u001b[A\n",
      "Training:  40%|████      | 4/10 [00:16<00:24,  4.10s/it]\u001b[A\n",
      "Training:  50%|█████     | 5/10 [00:20<00:20,  4.13s/it]\u001b[A\n",
      "Training:  60%|██████    | 6/10 [00:25<00:17,  4.29s/it]\u001b[A\n",
      "Training:  70%|███████   | 7/10 [00:29<00:12,  4.27s/it]\u001b[A\n",
      "Training:  80%|████████  | 8/10 [00:33<00:08,  4.37s/it]\u001b[A\n",
      "Training:  90%|█████████ | 9/10 [00:37<00:04,  4.28s/it]\u001b[A\n",
      "Training: 100%|██████████| 10/10 [00:42<00:00,  4.27s/it]\u001b[A\n",
      "\u001b[A\n",
      "Testing:   0%|          | 0/1 [00:00<?, ?it/s]\u001b[A\n",
      "Testing: 100%|██████████| 1/1 [00:03<00:00,  3.08s/it]"
     ]
    },
    {
     "name": "stdout",
     "output_type": "stream",
     "text": [
      "Positive error:  [0.06024259003353727, 0.7307889833997827, 0.6018853869183209, 0.36772097143396154, 0.8402164847985742, 0.5693915556837843]\n"
     ]
    },
    {
     "name": "stderr",
     "output_type": "stream",
     "text": [
      "\u001b[A\n",
      "\u001b[A"
     ]
    }
   ],
   "source": [
    "testAM_uneven = get_accuracy_stats(n=10, celltype='AM', \n",
    "                        n_top_genes=100, sampling='down', \n",
    "                        norm='zsc', flip_test_y=False, flip_train_y=False, train_even=False, test_even=False)\n"
   ]
  },
  {
   "cell_type": "code",
   "execution_count": 16,
   "metadata": {
    "collapsed": true
   },
   "outputs": [],
   "source": [
    "#test163_uneven# = test163_up"
   ]
  },
  {
   "cell_type": "code",
   "execution_count": 24,
   "metadata": {
    "collapsed": false
   },
   "outputs": [
    {
     "data": {
      "text/plain": [
       "<matplotlib.text.Text at 0x1188b9890>"
      ]
     },
     "execution_count": 24,
     "metadata": {},
     "output_type": "execute_result"
    },
    {
     "data": {
      "image/png": "[encoded data removed]",
      "text/plain": [
       "<matplotlib.figure.Figure at 0x10af1f050>"
      ]
     },
     "metadata": {},
     "output_type": "display_data"
    }
   ],
   "source": [
    "index = np.arange(4)\n",
    "width = 0.5\n",
    "plt.figure(num=None, figsize=(3, 5), dpi=80, facecolor='w', edgecolor='k')\n",
    "plt.bar(index, [0.5, testAM_uneven[1][0], testAM_dn[1][0], testAM_up[1][0]], width=width, color='b')\n",
    "plt.xticks(index + width / 2, ('Random', 'Orig. Data', 'Down-sampling', 'Up-sampling'))\n",
    "plt.ylabel(\"Fraction classified correctly\")\n",
    "plt.title(\"Negative Sample Test Predictions\")"
   ]
  },
  {
   "cell_type": "code",
   "execution_count": 32,
   "metadata": {
    "collapsed": false
   },
   "outputs": [
    {
     "data": {
      "text/plain": [
       "[0.7857142857142857]"
      ]
     },
     "execution_count": 32,
     "metadata": {},
     "output_type": "execute_result"
    }
   ],
   "source": [
    "testAM_uneven[1]"
   ]
  },
  {
   "cell_type": "code",
   "execution_count": 33,
   "metadata": {
    "collapsed": false
   },
   "outputs": [
    {
     "data": {
      "text/plain": [
       "<matplotlib.text.Text at 0x10acb5810>"
      ]
     },
     "execution_count": 33,
     "metadata": {},
     "output_type": "execute_result"
    },
    {
     "data": {
      "image/png": "[encoded data removed]",
      "text/plain": [
       "<matplotlib.figure.Figure at 0x110174090>"
      ]
     },
     "metadata": {},
     "output_type": "display_data"
    }
   ],
   "source": [
    "index = np.arange(4)\n",
    "width = 0.5\n",
    "plt.figure(num=None, figsize=(3, 5), dpi=80, facecolor='w', edgecolor='k')\n",
    "plt.bar(index, [0.5, testAM_uneven[0][0], testAM_dn[0][0], testAM_up[0][0]], width=width, color='b')\n",
    "plt.xticks(index + width / 2, ('Random', 'Orig. Data', 'Down-sampling', 'Up-sampling'))\n",
    "plt.ylabel(\"Fraction classified correctly\")\n",
    "plt.title(\"Negative Sample Train Predictions\")"
   ]
  },
  {
   "cell_type": "code",
   "execution_count": 34,
   "metadata": {
    "collapsed": false
   },
   "outputs": [
    {
     "data": {
      "text/plain": [
       "<matplotlib.text.Text at 0x114d68e90>"
      ]
     },
     "execution_count": 34,
     "metadata": {},
     "output_type": "execute_result"
    },
    {
     "data": {
      "image/png": "[encoded data removed]",
      "text/plain": [
       "<matplotlib.figure.Figure at 0x11770e990>"
      ]
     },
     "metadata": {},
     "output_type": "display_data"
    }
   ],
   "source": [
    "index = np.arange(4)\n",
    "width = 0.5\n",
    "plt.figure(num=None, figsize=(3, 5), dpi=80, facecolor='w', edgecolor='k')\n",
    "plt.bar(index, [0.5, test163_uneven[0][0], test163_dn[0][0], test163_up[0][0]], width=width, color='b')\n",
    "plt.xticks(index + width / 2, ('Random', 'Orig. Data', 'Down-sampling', 'Up-sampling'))\n",
    "plt.ylabel(\"Fraction classified correctly\")\n",
    "plt.title(\"Negative 163 Sample Train Predictions\")"
   ]
  },
  {
   "cell_type": "code",
   "execution_count": 19,
   "metadata": {
    "collapsed": false
   },
   "outputs": [
    {
     "data": {
      "text/plain": [
       "<matplotlib.text.Text at 0x10aec0b90>"
      ]
     },
     "execution_count": 19,
     "metadata": {},
     "output_type": "execute_result"
    },
    {
     "data": {
      "image/png": "[encoded data removed]",
      "text/plain": [
       "<matplotlib.figure.Figure at 0x10afa2610>"
      ]
     },
     "metadata": {},
     "output_type": "display_data"
    }
   ],
   "source": [
    "index = np.arange(4)\n",
    "width = 0.5\n",
    "plt.figure(num=None, figsize=(3, 5), dpi=80, facecolor='w', edgecolor='k')\n",
    "plt.bar(index, [0.5, test163_uneven[1][0], test163_dn[1][0], test163_up[1][0]], width=width, color='b')\n",
    "plt.xticks(index + width / 2, ('Random', 'Orig. Data', 'Down-sampling', 'Up-sampling'))\n",
    "plt.ylabel(\"Fraction classified correctly\")\n",
    "plt.title(\"Negative Sample Test Predictions\")"
   ]
  },
  {
   "cell_type": "code",
   "execution_count": null,
   "metadata": {
    "collapsed": true
   },
   "outputs": [],
   "source": [
    "index = np.arange(3)\n",
    "width = 0.5\n",
    "plt.figure(num=None, figsize=(3, 5), dpi=80, facecolor='w', edgecolor='k')\n",
    "plt.bar(index, [0.5, testAM_100[1][0], test163_100[1][0]], width=width, color='b')\n",
    "plt.xticks(index + width / 2, ('Random', 'AM model', 'CD163+ model'))\n",
    "plt.ylabel(\"Fraction classified correctly\")\n",
    "plt.title(\"Negative Sample Test Predictions\")"
   ]
  },
  {
   "cell_type": "markdown",
   "metadata": {},
   "source": [
    "## AM - top 20 genes - \n",
    "### downsampling"
   ]
  },
  {
   "cell_type": "code",
   "execution_count": null,
   "metadata": {
    "collapsed": false
   },
   "outputs": [
    {
     "name": "stderr",
     "output_type": "stream",
     "text": [
      "Training: 100%|██████████| 10/10 [00:49<00:00,  4.86s/it]\n",
      "Testing: 100%|██████████| 1/1 [00:03<00:00,  3.36s/it]"
     ]
    }
   ],
   "source": [
    "test163_up = get_accuracy_stats(n=10, celltype='CD163', \n",
    "                        n_top_genes=100, sampling='up', \n",
    "                        norm='zsc', flip_test_y=False, flip_train_y=False, train_even=True, test_even=False)\n"
   ]
  },
  {
   "cell_type": "markdown",
   "metadata": {},
   "source": [
    "### FINAL FIG"
   ]
  },
  {
   "cell_type": "code",
   "execution_count": 60,
   "metadata": {
    "collapsed": false
   },
   "outputs": [
    {
     "data": {
      "text/plain": [
       "<matplotlib.text.Text at 0x10ba2e510>"
      ]
     },
     "execution_count": 60,
     "metadata": {},
     "output_type": "execute_result"
    },
    {
     "data": {
      "image/png": "[encoded data removed]",
      "text/plain": [
       "<matplotlib.figure.Figure at 0x10b8d7290>"
      ]
     },
     "metadata": {},
     "output_type": "display_data"
    }
   ],
   "source": [
    "index = np.arange(3)\n",
    "width = 0.5\n",
    "plt.figure(num=None, figsize=(3, 5), dpi=80, facecolor='w', edgecolor='k')\n",
    "plt.bar(index, [0.5, testAM_100[1][0], test163_100[1][0]], width=width, color='b')\n",
    "plt.xticks(index + width / 2, ('Random', 'AM model', 'CD163+ model'))\n",
    "plt.ylabel(\"Fraction classified correctly\")\n",
    "plt.title(\"Negative Sample Test Predictions\")"
   ]
  },
  {
   "cell_type": "code",
   "execution_count": 12,
   "metadata": {
    "collapsed": false
   },
   "outputs": [],
   "source": [
    "def calc_metrics(X, y, n_pcs, n_top_genes):\n",
    "    \n",
    "    n_samples = len(X)\n",
    "    pred = []\n",
    "    vip_inds_all = []\n",
    "    #print X.shape, y.shape\n",
    "    \n",
    "    ### Leave-One-Out Cross-validation\n",
    "    \n",
    "    for sample in range(n_samples):\n",
    "        samples = range(n_samples)\n",
    "        samples.remove(sample)\n",
    "        X_t = X[(samples)]\n",
    "        y_t = y[(samples)]\n",
    "        #print X_t.shape    \n",
    "        \n",
    "        ### Get VIPs for model built without the LOO sample\n",
    "        plsv = PLSRegression(5, scale=False)\n",
    "        plsv.fit(X_t, y_t)\n",
    "        vips = vipp(X_t, y_t, plsv.x_scores_, plsv.x_weights_)\n",
    "        vips = [float(v) for v in vips]\n",
    "        vip_inds = np.argsort(vips)[::-1][:n_top_genes]\n",
    "        vip_inds_all.append(vip_inds)\n",
    "        \n",
    "        ### Xn takes the original X to get the loo sample\n",
    "        Xn = X.T[vip_inds].T\n",
    "        loo_sample = Xn[sample]\n",
    "        loo_sample = np.array(loo_sample).reshape((1, -1))\n",
    "        \n",
    "        ### Filter the samples \n",
    "        X_tn = X_t.T[vip_inds].T\n",
    "        #print X_tn.shape\n",
    "        pls = PLSRegression(n_pcs, scale=False)\n",
    "        pls.fit(X_tn, y_t)\n",
    "\n",
    "        pred.append(float(pls.predict(loo_sample)))\n",
    "\n",
    "    # Calculate metrics\n",
    "    ### Q squared\n",
    "    num = sum([float((pred[i] - y[i]))**2 for i in range(len(pred))])\n",
    "    den = sum([(y[i] - np.mean(y))**2 for i in range(len(pred))])\n",
    "    Q2 = float(1 - num/den)\n",
    "\n",
    "    ### Prediction error\n",
    "    errs = [abs(float((pred[i] - y[i]))) for i in range(len(pred))]\n",
    " \n",
    "    ### Percent correct for neg and pos Pneumonia\n",
    "    neg_err = [errs[i] for i in range(len(errs)) if y[i]==0]  \n",
    "    neg_corr = [e < 0.5 for e in neg_err]   \n",
    "    neg_corr = float(sum(neg_corr)) / len(neg_err)\n",
    "\n",
    "    \n",
    "    pos_err = [errs[i] for i in range(len(errs)) if y[i]==1]\n",
    "    pos_corr = [e < 0.5 for e in pos_err]\n",
    "    pos_corr = float(sum(pos_corr)) / len(pos_err)\n",
    "    \n",
    "\n",
    "    #print \"num: {0: .3f}, den: {1: .3f}, \n",
    "    #print \"Q^2: {0: .3f}\".format(Q2)\n",
    "    \n",
    "    return neg_err, pos_err, Q2, neg_corr, pos_corr, vip_inds_all\n",
    "    #return [float(abs(pred[p] - y[p])) for p in range(len(pred))]"
   ]
  },
  {
   "cell_type": "code",
   "execution_count": 13,
   "metadata": {
    "collapsed": true
   },
   "outputs": [],
   "source": [
    "def vipp(x, y, t, w):\n",
    "\n",
    "    \"\"\"\n",
    "    From original MATLAB code\n",
    "    See https://code.google.com/p/carspls/\n",
    "\n",
    "    #+++ vip=vipp(x,y,t,w);\n",
    "    #+++ t: scores, which can be obtained by pls_nipals.m\n",
    "    #+++ w: weight, which can be obtained by pls_nipals.m\n",
    "    #+++ to calculate the vip for each variable to the response;\n",
    "    #+++ vip=sqrt(p*q/s);\n",
    "    \"\"\"\n",
    "    #initializing\n",
    "    [p, h] = w.shape\n",
    "    co = np.matrix(np.zeros([1, h]))\n",
    "\n",
    "    # Calculate s\n",
    "    for ii in range(h):\n",
    "        corr = np.corrcoef(y, t[:, ii], rowvar=0)\n",
    "        co[0, ii] = corr[0, 1]**2\n",
    "    s = np.sum(co)\n",
    "\n",
    "    # Calculate q\n",
    "    # This has been linearized to replace the original nested for loop\n",
    "    w_power = np.power(w, 2)\n",
    "    d = np.multiply(w_power, co)\n",
    "    q = np.sum(d, 1)\n",
    "    vip = np.sqrt(p*q/s)\n",
    "    return vip"
   ]
  },
  {
   "cell_type": "code",
   "execution_count": 75,
   "metadata": {
    "collapsed": true
   },
   "outputs": [],
   "source": [
    "def calc_Q2_kfold(X, y, k=5, n_rand=10, n_pcs=5, method='PLSR'):\n",
    "    n_samples = len(X)\n",
    "    pred = []\n",
    "    Q2s = []\n",
    "    for ki in range(n_rand):\n",
    "        sample_ind = range(n_samples)\n",
    "        withheld_samples = random.sample(sample_ind, k)\n",
    "        lo_samples = X[withheld_samples]\n",
    "        for s in withheld_samples:\n",
    "            sample_ind.remove(s)\n",
    "        X_t = X[(sample_ind)]\n",
    "        y_t = y[(sample_ind)]\n",
    "        if method=='PLSR':\n",
    "            model = PLSRegression(n_pcs, scale=False)\n",
    "        elif method=='RF':\n",
    "            model = RandomForestClassifier()\n",
    "        elif method=='SVM':\n",
    "            model = SVC()\n",
    "        else:\n",
    "            print \"Method not found\"\n",
    "        model.fit(X_t, y_t)\n",
    "\n",
    "        for s in withheld_samples:\n",
    "            pred.append(float(model.predict(X[s])))\n",
    "        #Eprint \"samples\", withheld_samples\n",
    "        #Eprint \"pred\", pred\n",
    "        num = sum([(pred[i] - y[s])**2 for i, s in enumerate(withheld_samples)])\n",
    "        den = sum([(y[s] - np.mean(y[withheld_samples]))**2 for s in withheld_samples])\n",
    "        Q2 = float(1- num/den)\n",
    "        Q2s.append(Q2)\n",
    "    print \"Q^2: mean={0: .2f}, std={1: .2f}\".format(np.mean(Q2s),np.std(Q2s))\n",
    "    #return [float(abs(pred[p] - y[p])) for p in range(len(pred))]"
   ]
  },
  {
   "cell_type": "code",
   "execution_count": null,
   "metadata": {
    "collapsed": true
   },
   "outputs": [],
   "source": []
  }
 ],
 "metadata": {
  "anaconda-cloud": {},
  "kernelspec": {
   "display_name": "Python [default]",
   "language": "python",
   "name": "python2"
  },
  "language_info": {
   "codemirror_mode": {
    "name": "ipython",
    "version": 2
   },
   "file_extension": ".py",
   "mimetype": "text/x-python",
   "name": "python",
   "nbconvert_exporter": "python",
   "pygments_lexer": "ipython2",
   "version": "2.7.12"
  }
 },
 "nbformat": 4,
 "nbformat_minor": 0
}
