{
 "cells": [
  {
   "cell_type": "code",
   "execution_count": 1,
   "metadata": {
    "collapsed": false
   },
   "outputs": [],
   "source": [
    "%matplotlib inline\n",
    "import matplotlib.pyplot as plt\n",
    "import numpy as np\n",
    "import pandas as pd\n",
    "import glob\n",
    "import os\n",
    "import re\n",
    "from sklearn.decomposition import PCA\n",
    "from itertools import cycle\n",
    "from scipy.stats import zscore\n",
    "import seaborn as sns"
   ]
  },
  {
   "cell_type": "markdown",
   "metadata": {},
   "source": [
    "# Read in Runs 1 & 2, align meta data"
   ]
  },
  {
   "cell_type": "code",
   "execution_count": 122,
   "metadata": {
    "collapsed": true
   },
   "outputs": [],
   "source": [
    "### Strategy is to convert exp # (i.e. 001) to sample number (1) for merging"
   ]
  },
  {
   "cell_type": "markdown",
   "metadata": {},
   "source": [
    "## Run 1"
   ]
  },
  {
   "cell_type": "markdown",
   "metadata": {},
   "source": [
    "### Read in Seq Data"
   ]
  },
  {
   "cell_type": "code",
   "execution_count": 2,
   "metadata": {
    "collapsed": false
   },
   "outputs": [
    {
     "name": "stdout",
     "output_type": "stream",
     "text": [
      "2 sample directories for Run 1\n"
     ]
    }
   ],
   "source": [
    "data_dir = '../data/BAL/'\n",
    "Run1_directories = next(os.walk(data_dir + 'Run1_reseq/'))[1]\n",
    "print \"{} sample directories for Run 1\".format(len(Run1_directories))"
   ]
  },
  {
   "cell_type": "markdown",
   "metadata": {},
   "source": [
    "#### Function to extract all data from starLog into a dictionary"
   ]
  },
  {
   "cell_type": "code",
   "execution_count": 28,
   "metadata": {
    "collapsed": true
   },
   "outputs": [],
   "source": [
    "def update_starLog_dict(star_dict, results, sid):\n",
    "    if 'sample_id' not in star_dict:\n",
    "        star_dict['sample_id'] = [sid]\n",
    "    else:\n",
    "        star_dict['sample_id'].append(sid)\n",
    "    for result in results:\n",
    "        try:\n",
    "            category, value = result.split('|')\n",
    "            category = category.strip()\n",
    "            value = float(value.strip().replace('%',''))\n",
    "            if category in star_dict.keys():\n",
    "                star_dict[category].append(value)\n",
    "            else:\n",
    "                star_dict[category] = [value]\n",
    "        except:\n",
    "            None\n",
    "    return star_dict"
   ]
  },
  {
   "cell_type": "markdown",
   "metadata": {},
   "source": [
    "#### Concatenate read counts for each file"
   ]
  },
  {
   "cell_type": "markdown",
   "metadata": {},
   "source": [
    "### Concat Run 1 read counts, create meta DF from starLogs"
   ]
  },
  {
   "cell_type": "code",
   "execution_count": 94,
   "metadata": {
    "collapsed": false,
    "scrolled": true
   },
   "outputs": [],
   "source": [
    "starLog_dict = {}\n",
    "\n",
    "counts = pd.DataFrame()\n",
    "\n",
    "run_dir = \"/Users/tjyacoub/Dropbox/Research/Pneumonia/data/BAL/Reseq_ALL/\"\n",
    "meta_dir = run_dir + \"meta\"\n",
    "counts_dir = run_dir + \"counts\"\n",
    "os.chdir(meta_dir)\n",
    "\n",
    "for f in glob.glob(\"*.out\"):\n",
    "    sid = f.split('Log')[0] ## SAMPLE ID\n",
    "    ### Extract meta data from the starLog report - read counts etc. \n",
    "    starLog_results = open(f).readlines()\n",
    "    starLog_dict = update_starLog_dict(starLog_dict, starLog_results, sid)\n",
    "\n",
    "    \n",
    "os.chdir(counts_dir)\n",
    "for f in glob.glob(\"*.counts\"):\n",
    "    sid = f.split('.')[0]\n",
    "    ### Extract counts for exp\n",
    "    df_sid = pd.read_csv(f, sep='\\t',names=[sid])\n",
    "    df_sid.index.name='Gene'\n",
    "    counts = pd.concat([counts, df_sid],axis=1)\n",
    "\n",
    "    \n",
    "counts_read"
   ]
  },
  {
   "cell_type": "code",
   "execution_count": 95,
   "metadata": {
    "collapsed": false
   },
   "outputs": [],
   "source": [
    "counts = counts_read.T\n",
    "counts.index.name= 'sample_id'\n",
    "counts = counts.ix[:,:-5]\n",
    "\n",
    "star_meta = pd.DataFrame(starLog_dict)\n",
    "star_meta.index = star_meta['sample_id']\n",
    "star_meta.index.name = 'sample_id'\n",
    "star_meta['Run'] = star_meta.index.map(lambda x: x.split('_')[0])\n",
    "star_meta['CellType'] = star_meta.index.map(lambda x: x.split('_')[2])"
   ]
  },
  {
   "cell_type": "code",
   "execution_count": 93,
   "metadata": {
    "collapsed": false
   },
   "outputs": [
    {
     "data": {
      "text/plain": [
       "(95, 58056)"
      ]
     },
     "execution_count": 93,
     "metadata": {},
     "output_type": "execute_result"
    }
   ],
   "source": [
    "counts.shape"
   ]
  },
  {
   "cell_type": "code",
   "execution_count": 131,
   "metadata": {
    "collapsed": false
   },
   "outputs": [
    {
     "data": {
      "text/plain": [
       "'/Users/tjyacoub/Dropbox/Research/Pneumonia/data/BAL/Reseq_ALL/'"
      ]
     },
     "execution_count": 131,
     "metadata": {},
     "output_type": "execute_result"
    }
   ],
   "source": [
    "run_dir"
   ]
  },
  {
   "cell_type": "code",
   "execution_count": 137,
   "metadata": {
    "collapsed": false
   },
   "outputs": [],
   "source": [
    "dfc = pd.read_csv(run_dir + '../meta_data.csv', sep='\\t')"
   ]
  },
  {
   "cell_type": "code",
   "execution_count": 141,
   "metadata": {
    "collapsed": false
   },
   "outputs": [
    {
     "data": {
      "text/html": [
       "<div>\n",
       "<table border=\"1\" class=\"dataframe\">\n",
       "  <thead>\n",
       "    <tr style=\"text-align: right;\">\n",
       "      <th>Gene</th>\n",
       "      <th>ENSG00000000003</th>\n",
       "      <th>ENSG00000000005</th>\n",
       "      <th>ENSG00000000419</th>\n",
       "      <th>ENSG00000000457</th>\n",
       "      <th>ENSG00000000460</th>\n",
       "      <th>ENSG00000000938</th>\n",
       "      <th>ENSG00000000971</th>\n",
       "      <th>ENSG00000001036</th>\n",
       "      <th>ENSG00000001084</th>\n",
       "      <th>ENSG00000001167</th>\n",
       "      <th>...</th>\n",
       "      <th>ENSG00000283695</th>\n",
       "      <th>ENSG00000283696</th>\n",
       "      <th>ENSG00000283697</th>\n",
       "      <th>ENSG00000283698</th>\n",
       "      <th>ENSG00000283699</th>\n",
       "      <th>__no_feature</th>\n",
       "      <th>__ambiguous</th>\n",
       "      <th>__too_low_aQual</th>\n",
       "      <th>__not_aligned</th>\n",
       "      <th>__alignment_not_unique</th>\n",
       "    </tr>\n",
       "    <tr>\n",
       "      <th>sample_id</th>\n",
       "      <th></th>\n",
       "      <th></th>\n",
       "      <th></th>\n",
       "      <th></th>\n",
       "      <th></th>\n",
       "      <th></th>\n",
       "      <th></th>\n",
       "      <th></th>\n",
       "      <th></th>\n",
       "      <th></th>\n",
       "      <th></th>\n",
       "      <th></th>\n",
       "      <th></th>\n",
       "      <th></th>\n",
       "      <th></th>\n",
       "      <th></th>\n",
       "      <th></th>\n",
       "      <th></th>\n",
       "      <th></th>\n",
       "      <th></th>\n",
       "      <th></th>\n",
       "    </tr>\n",
       "  </thead>\n",
       "  <tbody>\n",
       "    <tr>\n",
       "      <th>R1_BAL17_CD163_S1</th>\n",
       "      <td>0</td>\n",
       "      <td>0</td>\n",
       "      <td>120</td>\n",
       "      <td>0</td>\n",
       "      <td>0</td>\n",
       "      <td>1927</td>\n",
       "      <td>0</td>\n",
       "      <td>47</td>\n",
       "      <td>53</td>\n",
       "      <td>33</td>\n",
       "      <td>...</td>\n",
       "      <td>0</td>\n",
       "      <td>0</td>\n",
       "      <td>0</td>\n",
       "      <td>0</td>\n",
       "      <td>0</td>\n",
       "      <td>1346563</td>\n",
       "      <td>76682</td>\n",
       "      <td>0</td>\n",
       "      <td>0</td>\n",
       "      <td>6433351</td>\n",
       "    </tr>\n",
       "    <tr>\n",
       "      <th>R1_BAL25_AM_S2</th>\n",
       "      <td>6</td>\n",
       "      <td>0</td>\n",
       "      <td>74</td>\n",
       "      <td>5</td>\n",
       "      <td>31</td>\n",
       "      <td>1664</td>\n",
       "      <td>42</td>\n",
       "      <td>125</td>\n",
       "      <td>60</td>\n",
       "      <td>36</td>\n",
       "      <td>...</td>\n",
       "      <td>0</td>\n",
       "      <td>0</td>\n",
       "      <td>0</td>\n",
       "      <td>0</td>\n",
       "      <td>0</td>\n",
       "      <td>1583813</td>\n",
       "      <td>88056</td>\n",
       "      <td>0</td>\n",
       "      <td>0</td>\n",
       "      <td>9374769</td>\n",
       "    </tr>\n",
       "    <tr>\n",
       "      <th>R1_BAL28_CD163_S3</th>\n",
       "      <td>0</td>\n",
       "      <td>0</td>\n",
       "      <td>101</td>\n",
       "      <td>87</td>\n",
       "      <td>0</td>\n",
       "      <td>2721</td>\n",
       "      <td>92</td>\n",
       "      <td>273</td>\n",
       "      <td>194</td>\n",
       "      <td>66</td>\n",
       "      <td>...</td>\n",
       "      <td>0</td>\n",
       "      <td>0</td>\n",
       "      <td>0</td>\n",
       "      <td>0</td>\n",
       "      <td>0</td>\n",
       "      <td>2421482</td>\n",
       "      <td>146631</td>\n",
       "      <td>0</td>\n",
       "      <td>0</td>\n",
       "      <td>11344660</td>\n",
       "    </tr>\n",
       "    <tr>\n",
       "      <th>R1_BAL38_163_S4</th>\n",
       "      <td>0</td>\n",
       "      <td>0</td>\n",
       "      <td>366</td>\n",
       "      <td>0</td>\n",
       "      <td>0</td>\n",
       "      <td>2993</td>\n",
       "      <td>2</td>\n",
       "      <td>97</td>\n",
       "      <td>275</td>\n",
       "      <td>4</td>\n",
       "      <td>...</td>\n",
       "      <td>0</td>\n",
       "      <td>0</td>\n",
       "      <td>0</td>\n",
       "      <td>0</td>\n",
       "      <td>0</td>\n",
       "      <td>2253061</td>\n",
       "      <td>105023</td>\n",
       "      <td>0</td>\n",
       "      <td>0</td>\n",
       "      <td>10926698</td>\n",
       "    </tr>\n",
       "    <tr>\n",
       "      <th>R1_BAL48_AM_S5</th>\n",
       "      <td>0</td>\n",
       "      <td>0</td>\n",
       "      <td>72</td>\n",
       "      <td>18</td>\n",
       "      <td>52</td>\n",
       "      <td>2354</td>\n",
       "      <td>0</td>\n",
       "      <td>667</td>\n",
       "      <td>211</td>\n",
       "      <td>41</td>\n",
       "      <td>...</td>\n",
       "      <td>0</td>\n",
       "      <td>0</td>\n",
       "      <td>0</td>\n",
       "      <td>0</td>\n",
       "      <td>0</td>\n",
       "      <td>1253258</td>\n",
       "      <td>159282</td>\n",
       "      <td>0</td>\n",
       "      <td>0</td>\n",
       "      <td>13204646</td>\n",
       "    </tr>\n",
       "  </tbody>\n",
       "</table>\n",
       "<p>5 rows × 58056 columns</p>\n",
       "</div>"
      ],
      "text/plain": [
       "Gene               ENSG00000000003  ENSG00000000005  ENSG00000000419  \\\n",
       "sample_id                                                              \n",
       "R1_BAL17_CD163_S1                0                0              120   \n",
       "R1_BAL25_AM_S2                   6                0               74   \n",
       "R1_BAL28_CD163_S3                0                0              101   \n",
       "R1_BAL38_163_S4                  0                0              366   \n",
       "R1_BAL48_AM_S5                   0                0               72   \n",
       "\n",
       "Gene               ENSG00000000457  ENSG00000000460  ENSG00000000938  \\\n",
       "sample_id                                                              \n",
       "R1_BAL17_CD163_S1                0                0             1927   \n",
       "R1_BAL25_AM_S2                   5               31             1664   \n",
       "R1_BAL28_CD163_S3               87                0             2721   \n",
       "R1_BAL38_163_S4                  0                0             2993   \n",
       "R1_BAL48_AM_S5                  18               52             2354   \n",
       "\n",
       "Gene               ENSG00000000971  ENSG00000001036  ENSG00000001084  \\\n",
       "sample_id                                                              \n",
       "R1_BAL17_CD163_S1                0               47               53   \n",
       "R1_BAL25_AM_S2                  42              125               60   \n",
       "R1_BAL28_CD163_S3               92              273              194   \n",
       "R1_BAL38_163_S4                  2               97              275   \n",
       "R1_BAL48_AM_S5                   0              667              211   \n",
       "\n",
       "Gene               ENSG00000001167           ...            ENSG00000283695  \\\n",
       "sample_id                                    ...                              \n",
       "R1_BAL17_CD163_S1               33           ...                          0   \n",
       "R1_BAL25_AM_S2                  36           ...                          0   \n",
       "R1_BAL28_CD163_S3               66           ...                          0   \n",
       "R1_BAL38_163_S4                  4           ...                          0   \n",
       "R1_BAL48_AM_S5                  41           ...                          0   \n",
       "\n",
       "Gene               ENSG00000283696  ENSG00000283697  ENSG00000283698  \\\n",
       "sample_id                                                              \n",
       "R1_BAL17_CD163_S1                0                0                0   \n",
       "R1_BAL25_AM_S2                   0                0                0   \n",
       "R1_BAL28_CD163_S3                0                0                0   \n",
       "R1_BAL38_163_S4                  0                0                0   \n",
       "R1_BAL48_AM_S5                   0                0                0   \n",
       "\n",
       "Gene               ENSG00000283699  __no_feature  __ambiguous  \\\n",
       "sample_id                                                       \n",
       "R1_BAL17_CD163_S1                0       1346563        76682   \n",
       "R1_BAL25_AM_S2                   0       1583813        88056   \n",
       "R1_BAL28_CD163_S3                0       2421482       146631   \n",
       "R1_BAL38_163_S4                  0       2253061       105023   \n",
       "R1_BAL48_AM_S5                   0       1253258       159282   \n",
       "\n",
       "Gene               __too_low_aQual  __not_aligned  __alignment_not_unique  \n",
       "sample_id                                                                  \n",
       "R1_BAL17_CD163_S1                0              0                 6433351  \n",
       "R1_BAL25_AM_S2                   0              0                 9374769  \n",
       "R1_BAL28_CD163_S3                0              0                11344660  \n",
       "R1_BAL38_163_S4                  0              0                10926698  \n",
       "R1_BAL48_AM_S5                   0              0                13204646  \n",
       "\n",
       "[5 rows x 58056 columns]"
      ]
     },
     "execution_count": 141,
     "metadata": {},
     "output_type": "execute_result"
    }
   ],
   "source": [
    "counts.head()"
   ]
  },
  {
   "cell_type": "code",
   "execution_count": 143,
   "metadata": {
    "collapsed": true
   },
   "outputs": [],
   "source": [
    "star_meta['BAL'] = star_meta.index.map(lambda x: x.split('_')[1])"
   ]
  },
  {
   "cell_type": "code",
   "execution_count": 146,
   "metadata": {
    "collapsed": false
   },
   "outputs": [],
   "source": [
    "bal_dict = dict(zip(dfc['BAL'], dfc['Pneum']))"
   ]
  },
  {
   "cell_type": "code",
   "execution_count": 153,
   "metadata": {
    "collapsed": false
   },
   "outputs": [
    {
     "data": {
      "text/plain": [
       "56"
      ]
     },
     "execution_count": 153,
     "metadata": {},
     "output_type": "execute_result"
    }
   ],
   "source": [
    "len(star_meta['BAL'].unique())"
   ]
  },
  {
   "cell_type": "markdown",
   "metadata": {},
   "source": [
    "# WRITING DATA"
   ]
  },
  {
   "cell_type": "code",
   "execution_count": 191,
   "metadata": {
    "collapsed": false
   },
   "outputs": [
    {
     "data": {
      "text/html": [
       "<div>\n",
       "<table border=\"1\" class=\"dataframe\">\n",
       "  <thead>\n",
       "    <tr style=\"text-align: right;\">\n",
       "      <th></th>\n",
       "      <th>ID</th>\n",
       "      <th>BAL</th>\n",
       "      <th>CellType</th>\n",
       "      <th>Pneum</th>\n",
       "      <th>Pneum_strict</th>\n",
       "      <th>Pseudomonas</th>\n",
       "      <th>RINe</th>\n",
       "      <th>Uniquely mapped reads number</th>\n",
       "      <th>Uniquely mapped reads %</th>\n",
       "    </tr>\n",
       "  </thead>\n",
       "  <tbody>\n",
       "    <tr>\n",
       "      <th>66</th>\n",
       "      <td>123_2</td>\n",
       "      <td>BAL46</td>\n",
       "      <td>AM</td>\n",
       "      <td>True</td>\n",
       "      <td>True</td>\n",
       "      <td>True</td>\n",
       "      <td>NaN</td>\n",
       "      <td>4117017</td>\n",
       "      <td>79.24</td>\n",
       "    </tr>\n",
       "    <tr>\n",
       "      <th>67</th>\n",
       "      <td>124_2</td>\n",
       "      <td>BAL46</td>\n",
       "      <td>163</td>\n",
       "      <td>True</td>\n",
       "      <td>True</td>\n",
       "      <td>True</td>\n",
       "      <td>NaN</td>\n",
       "      <td>5165040</td>\n",
       "      <td>78.38</td>\n",
       "    </tr>\n",
       "    <tr>\n",
       "      <th>68</th>\n",
       "      <td>126_2</td>\n",
       "      <td>BAL50</td>\n",
       "      <td>AM</td>\n",
       "      <td>True</td>\n",
       "      <td>True</td>\n",
       "      <td>True</td>\n",
       "      <td>NaN</td>\n",
       "      <td>5257707</td>\n",
       "      <td>71.50</td>\n",
       "    </tr>\n",
       "    <tr>\n",
       "      <th>88</th>\n",
       "      <td>154_2</td>\n",
       "      <td>BAL83</td>\n",
       "      <td>AM</td>\n",
       "      <td>True</td>\n",
       "      <td>True</td>\n",
       "      <td>True</td>\n",
       "      <td>NaN</td>\n",
       "      <td>3356066</td>\n",
       "      <td>65.78</td>\n",
       "    </tr>\n",
       "    <tr>\n",
       "      <th>89</th>\n",
       "      <td>155_2</td>\n",
       "      <td>BAL83</td>\n",
       "      <td>163</td>\n",
       "      <td>True</td>\n",
       "      <td>True</td>\n",
       "      <td>True</td>\n",
       "      <td>4.6</td>\n",
       "      <td>5117856</td>\n",
       "      <td>65.39</td>\n",
       "    </tr>\n",
       "  </tbody>\n",
       "</table>\n",
       "</div>"
      ],
      "text/plain": [
       "       ID    BAL CellType Pneum Pneum_strict Pseudomonas RINe  \\\n",
       "66  123_2  BAL46       AM  True         True        True  NaN   \n",
       "67  124_2  BAL46      163  True         True        True  NaN   \n",
       "68  126_2  BAL50       AM  True         True        True  NaN   \n",
       "88  154_2  BAL83       AM  True         True        True  NaN   \n",
       "89  155_2  BAL83      163  True         True        True  4.6   \n",
       "\n",
       "    Uniquely mapped reads number  Uniquely mapped reads %  \n",
       "66                       4117017                    79.24  \n",
       "67                       5165040                    78.38  \n",
       "68                       5257707                    71.50  \n",
       "88                       3356066                    65.78  \n",
       "89                       5117856                    65.39  "
      ]
     },
     "execution_count": 191,
     "metadata": {},
     "output_type": "execute_result"
    }
   ],
   "source": [
    "dfc[dfc['Pseudomonas']==True]"
   ]
  },
  {
   "cell_type": "code",
   "execution_count": 158,
   "metadata": {
    "collapsed": false
   },
   "outputs": [],
   "source": [
    "star_meta['Pneum'] = star_meta['BAL'].apply(lambda x: bal_dict[x] )\n",
    "star_meta['CellType'] = star_meta['CellType'].map(lambda x: 'CD163' if '163' in x else x)"
   ]
  },
  {
   "cell_type": "code",
   "execution_count": 189,
   "metadata": {
    "collapsed": true
   },
   "outputs": [],
   "source": [
    "star_meta.to_csv('../meta_reseq.csv', sep='\\t')"
   ]
  },
  {
   "cell_type": "code",
   "execution_count": 170,
   "metadata": {
    "collapsed": false
   },
   "outputs": [],
   "source": [
    "counts.to_csv(\"../counts_reseq.csv\", sep='\\t')"
   ]
  },
  {
   "cell_type": "code",
   "execution_count": 125,
   "metadata": {
    "collapsed": false
   },
   "outputs": [
    {
     "data": {
      "text/plain": [
       "<matplotlib.text.Text at 0x1276df5d0>"
      ]
     },
     "execution_count": 125,
     "metadata": {},
     "output_type": "execute_result"
    },
    {
     "data": {
      "image/png": "[encoded data removed]",
      "text/plain": [
       "<matplotlib.figure.Figure at 0x126c27c90>"
      ]
     },
     "metadata": {},
     "output_type": "display_data"
    }
   ],
   "source": [
    "col = 'Uniquely mapped reads %'\n",
    "uniq1 = star_meta[star_meta['Run']=='R1'][col]\n",
    "uniq2 = star_meta[star_meta['Run']=='R2'][col]\n",
    "plt.hist([uniq1,uniq2], bins, alpha=1)\n",
    "plt.title(col)\n",
    "bins = np.linspace(0, 100, 15)\n",
    "#plt.hist(uniq1, bins, alpha=0.7, label='Run 1')\n",
    "\n",
    "plt.xlabel('%')\n",
    "plt.ylabel(\"Number of Samples\")"
   ]
  },
  {
   "cell_type": "code",
   "execution_count": 128,
   "metadata": {
    "collapsed": false
   },
   "outputs": [
    {
     "data": {
      "text/plain": [
       "<matplotlib.text.Text at 0x128aa4fd0>"
      ]
     },
     "execution_count": 128,
     "metadata": {},
     "output_type": "execute_result"
    },
    {
     "data": {
      "image/png": "[encoded data removed]",
      "text/plain": [
       "<matplotlib.figure.Figure at 0x127c16e50>"
      ]
     },
     "metadata": {},
     "output_type": "display_data"
    }
   ],
   "source": [
    "col = 'Uniquely mapped reads number'\n",
    "uniq2df = star_meta[star_meta['Run']=='R2']\n",
    "uniq2 = uniq2df[uniq2df[col] < 25e6][col]\n",
    "\n",
    "uniq1 = star_meta[star_meta['Run']=='R1'][col]\n",
    "ax1 = plt.figure()\n",
    "plt.hist([uniq1,uniq2])\n",
    "plt.title(col)\n",
    "#ax1.ticklabel_format(axis='y', style='sci', scilimits=(-2,2))\n",
    "plt.xlabel('Number of reads')\n",
    "plt.ylabel(\"Number of Samples\")"
   ]
  },
  {
   "cell_type": "code",
   "execution_count": null,
   "metadata": {
    "collapsed": true
   },
   "outputs": [],
   "source": [
    "ax1.ticklabel_format(axis='y', style='sci', scilimits=(-2,2))"
   ]
  },
  {
   "cell_type": "code",
   "execution_count": 99,
   "metadata": {
    "collapsed": false
   },
   "outputs": [
    {
     "data": {
      "text/plain": [
       "(9089954.515151516, 2606096.527362879)"
      ]
     },
     "execution_count": 99,
     "metadata": {},
     "output_type": "execute_result"
    }
   ],
   "source": [
    "np.mean(uniq1), np.std(uniq1)"
   ]
  },
  {
   "cell_type": "code",
   "execution_count": 100,
   "metadata": {
    "collapsed": false
   },
   "outputs": [
    {
     "data": {
      "text/plain": [
       "(9879390.58064516, 12541885.596961647)"
      ]
     },
     "execution_count": 100,
     "metadata": {},
     "output_type": "execute_result"
    }
   ],
   "source": [
    "np.mean(uniq2), np.std(uniq2)"
   ]
  },
  {
   "cell_type": "code",
   "execution_count": 82,
   "metadata": {
    "collapsed": false
   },
   "outputs": [],
   "source": [
    "uniq1old = pd.read_csv(\"../../../unique_number_run1_old.csv\", \n",
    "                       sep='\\t', index_col=0, header=None)"
   ]
  },
  {
   "cell_type": "code",
   "execution_count": 84,
   "metadata": {
    "collapsed": true
   },
   "outputs": [],
   "source": [
    "uniq2old = pd.read_csv(\"../../../unique_number_run2_old.csv\", \n",
    "                       sep='\\t', index_col=0, header=None)"
   ]
  },
  {
   "cell_type": "code",
   "execution_count": 101,
   "metadata": {
    "collapsed": false
   },
   "outputs": [
    {
     "data": {
      "text/plain": [
       "((37, 1), (33,))"
      ]
     },
     "execution_count": 101,
     "metadata": {},
     "output_type": "execute_result"
    }
   ],
   "source": [
    "uniq1old.shape, uniq1.shape"
   ]
  },
  {
   "cell_type": "code",
   "execution_count": 102,
   "metadata": {
    "collapsed": false
   },
   "outputs": [
    {
     "data": {
      "text/plain": [
       "((62, 1), (62,))"
      ]
     },
     "execution_count": 102,
     "metadata": {},
     "output_type": "execute_result"
    }
   ],
   "source": [
    "uniq2old.shape, uniq2.shape"
   ]
  },
  {
   "cell_type": "code",
   "execution_count": 103,
   "metadata": {
    "collapsed": false
   },
   "outputs": [
    {
     "data": {
      "text/plain": [
       "([array([  1.,   0.,   0.,   3.,   0.,   3.,   5.,  12.,   6.,   3.]),\n",
       "  array([  1.,   0.,   0.,   3.,   1.,   2.,  14.,   8.,   6.,   2.])],\n",
       " array([   150123. ,   1446997.3,   2743871.6,   4040745.9,   5337620.2,\n",
       "          6634494.5,   7931368.8,   9228243.1,  10525117.4,  11821991.7,\n",
       "         13118866. ]),\n",
       " <a list of 2 Lists of Patches objects>)"
      ]
     },
     "execution_count": 103,
     "metadata": {},
     "output_type": "execute_result"
    },
    {
     "data": {
      "image/png": "[encoded data removed]",
      "text/plain": [
       "<matplotlib.figure.Figure at 0x10c2c1c10>"
      ]
     },
     "metadata": {},
     "output_type": "display_data"
    }
   ],
   "source": [
    "plt.hist([uniq1, uniq1old])"
   ]
  },
  {
   "cell_type": "code",
   "execution_count": 104,
   "metadata": {
    "collapsed": false
   },
   "outputs": [
    {
     "data": {
      "text/plain": [
       "([array([ 38.,  19.,   3.,   1.,   0.,   0.,   0.,   0.,   0.,   1.]),\n",
       "  array([ 59.,   3.,   0.,   0.,   0.,   0.,   0.,   0.,   0.,   0.])],\n",
       " array([  5.91800000e+03,   9.50397470e+06,   1.90020314e+07,\n",
       "          2.85000881e+07,   3.79981448e+07,   4.74962015e+07,\n",
       "          5.69942582e+07,   6.64923149e+07,   7.59903716e+07,\n",
       "          8.54884283e+07,   9.49864850e+07]),\n",
       " <a list of 2 Lists of Patches objects>)"
      ]
     },
     "execution_count": 104,
     "metadata": {},
     "output_type": "execute_result"
    },
    {
     "data": {
      "image/png": "[encoded data removed]",
      "text/plain": [
       "<matplotlib.figure.Figure at 0x10ec46110>"
      ]
     },
     "metadata": {},
     "output_type": "display_data"
    }
   ],
   "source": [
    "plt.hist([uniq2, uniq2old])"
   ]
  },
  {
   "cell_type": "code",
   "execution_count": 60,
   "metadata": {
    "collapsed": false
   },
   "outputs": [
    {
     "data": {
      "text/plain": [
       "([array([  1.,   3.,  14.,  13.,   2.,   0.,   0.,   0.,   0.,   0.]),\n",
       "  array([ 8.,  7.,  6.,  5.,  3.,  0.,  1.,  0.,  1.,  1.])],\n",
       " array([  5.91800000e+03,   3.23916960e+06,   6.47242120e+06,\n",
       "          9.70567280e+06,   1.29389244e+07,   1.61721760e+07,\n",
       "          1.94054276e+07,   2.26386792e+07,   2.58719308e+07,\n",
       "          2.91051824e+07,   3.23384340e+07]),\n",
       " <a list of 2 Lists of Patches objects>)"
      ]
     },
     "execution_count": 60,
     "metadata": {},
     "output_type": "execute_result"
    },
    {
     "data": {
      "image/png": "[encoded data removed]",
      "text/plain": [
       "<matplotlib.figure.Figure at 0x10c6aee90>"
      ]
     },
     "metadata": {},
     "output_type": "display_data"
    }
   ],
   "source": []
  },
  {
   "cell_type": "markdown",
   "metadata": {},
   "source": [
    "### Create meta df for experimental data to map Sample # -> BAL"
   ]
  },
  {
   "cell_type": "code",
   "execution_count": 6,
   "metadata": {
    "collapsed": false
   },
   "outputs": [],
   "source": [
    "exp_meta = pd.read_csv(data_dir + 'Run1_Index_BAL_RIN.csv')\n",
    "exp_meta['CellType'] = exp_meta['Library Name'].map(lambda x: x.split('_')[1])\n",
    "exp_meta['CellType'] = exp_meta['CellType'].map(lambda x: x[-3:])\n",
    "exp_meta['BAL'] = exp_meta['Library Name'].map(lambda x: x.split('_')[0])\n",
    "exp_meta['BAL'] = exp_meta['BAL'].map(lambda x: 'BAL' + x[-2:])  ### Fix BA81\n",
    "exp_meta.index = exp_meta['Sample Number']\n",
    "\n",
    "## Merge concatenated data with BAL \n",
    "run1_counts_star_exp = pd.merge(run1_counts_star, exp_meta, how='inner', left_on='Sample Number', right_on='Sample Number')\n",
    "run1_counts_star_exp['Run'] = 1"
   ]
  },
  {
   "cell_type": "code",
   "execution_count": 7,
   "metadata": {
    "collapsed": false
   },
   "outputs": [],
   "source": [
    "## BALs not in exp\n",
    "#samples_not_in_exp = list(set(run1_cts_star['Sample Number'].values) - set(exp_meta['Sample Number'].values))\n",
    "#samples_not_in_exp\n",
    "#run1_cts_star[run1_cts_star['Sample Number'].isin(samples_not_in_exp)]['BAL'];"
   ]
  },
  {
   "cell_type": "code",
   "execution_count": 178,
   "metadata": {
    "collapsed": true
   },
   "outputs": [],
   "source": [
    "all_data = pd.concat([run1_counts_star_exp, run2_counts_star_exp])\n",
    "### 125_2 is the spike ERCC\n",
    "try: all_data.drop('125_2', inplace=True)\n",
    "except: print 'x'"
   ]
  },
  {
   "cell_type": "code",
   "execution_count": 179,
   "metadata": {
    "collapsed": false
   },
   "outputs": [
    {
     "data": {
      "text/plain": [
       "(95, 60240)"
      ]
     },
     "execution_count": 179,
     "metadata": {},
     "output_type": "execute_result"
    }
   ],
   "source": [
    "all_data.shape"
   ]
  },
  {
   "cell_type": "code",
   "execution_count": 59,
   "metadata": {
    "collapsed": false
   },
   "outputs": [],
   "source": [
    "all_data['ID'] = all_data.apply(lambda x: str(x['Original Sample Number']) + '_' + str(x['Run']), axis=1)\n",
    "all_data.index = all_data['ID']"
   ]
  },
  {
   "cell_type": "code",
   "execution_count": 16,
   "metadata": {
    "collapsed": true
   },
   "outputs": [],
   "source": [
    "### Split data into gene and meta"
   ]
  },
  {
   "cell_type": "code",
   "execution_count": 62,
   "metadata": {
    "collapsed": true
   },
   "outputs": [],
   "source": [
    "gene_cols = [col for col in all_data.columns if 'ENSG' in col or 'ERCC' in col] \n",
    "meta_cols = [col for col in all_data.columns if col not in gene_cols]\n"
   ]
  },
  {
   "cell_type": "code",
   "execution_count": 164,
   "metadata": {
    "collapsed": false
   },
   "outputs": [],
   "source": [
    "counts_data = all_data[gene_cols]"
   ]
  },
  {
   "cell_type": "code",
   "execution_count": 165,
   "metadata": {
    "collapsed": true
   },
   "outputs": [],
   "source": [
    "meta_data = all_data[meta_cols]"
   ]
  },
  {
   "cell_type": "markdown",
   "metadata": {},
   "source": [
    "# Load in EDW data"
   ]
  },
  {
   "cell_type": "code",
   "execution_count": 133,
   "metadata": {
    "collapsed": false
   },
   "outputs": [
    {
     "data": {
      "text/plain": [
       "'../data/BAL/'"
      ]
     },
     "execution_count": 133,
     "metadata": {},
     "output_type": "execute_result"
    }
   ],
   "source": [
    "data_dir"
   ]
  },
  {
   "cell_type": "code",
   "execution_count": 132,
   "metadata": {
    "collapsed": false
   },
   "outputs": [
    {
     "ename": "IOError",
     "evalue": "File ../data/BAL/ICU_BAL_update.csv does not exist",
     "output_type": "error",
     "traceback": [
      "\u001b[0;31m---------------------------------------------------------------------------\u001b[0m",
      "\u001b[0;31mIOError\u001b[0m                                   Traceback (most recent call last)",
      "\u001b[0;32m<ipython-input-132-b5cfec7e5d76>\u001b[0m in \u001b[0;36m<module>\u001b[0;34m()\u001b[0m\n\u001b[0;32m----> 1\u001b[0;31m \u001b[0mdfclinic\u001b[0m \u001b[0;34m=\u001b[0m \u001b[0mpd\u001b[0m\u001b[0;34m.\u001b[0m\u001b[0mread_csv\u001b[0m\u001b[0;34m(\u001b[0m\u001b[0mdata_dir\u001b[0m \u001b[0;34m+\u001b[0m \u001b[0;34m\"ICU_BAL_update.csv\"\u001b[0m\u001b[0;34m)\u001b[0m\u001b[0;34m\u001b[0m\u001b[0m\n\u001b[0m\u001b[1;32m      2\u001b[0m \u001b[0mdfclinic\u001b[0m\u001b[0;34m[\u001b[0m\u001b[0;34m'BAL'\u001b[0m\u001b[0;34m]\u001b[0m \u001b[0;34m=\u001b[0m \u001b[0mdfclinic\u001b[0m\u001b[0;34m[\u001b[0m\u001b[0;34m'BAL NUM'\u001b[0m\u001b[0;34m]\u001b[0m\u001b[0;34m.\u001b[0m\u001b[0mmap\u001b[0m\u001b[0;34m(\u001b[0m\u001b[0;32mlambda\u001b[0m \u001b[0mx\u001b[0m\u001b[0;34m:\u001b[0m \u001b[0;34m'BAL'\u001b[0m \u001b[0;34m+\u001b[0m \u001b[0mstr\u001b[0m\u001b[0;34m(\u001b[0m\u001b[0mx\u001b[0m\u001b[0;34m)\u001b[0m\u001b[0;34m)\u001b[0m\u001b[0;34m\u001b[0m\u001b[0m\n\u001b[1;32m      3\u001b[0m \u001b[0mdfclinic\u001b[0m\u001b[0;34m[\u001b[0m\u001b[0;34m'Pneum'\u001b[0m\u001b[0;34m]\u001b[0m \u001b[0;34m=\u001b[0m \u001b[0mdfclinic\u001b[0m\u001b[0;34m[\u001b[0m\u001b[0;34m'Pneumonia (10^3 CFU + 50% neuts)'\u001b[0m\u001b[0;34m]\u001b[0m\u001b[0;34m.\u001b[0m\u001b[0mmap\u001b[0m\u001b[0;34m(\u001b[0m\u001b[0;32mlambda\u001b[0m \u001b[0mx\u001b[0m\u001b[0;34m:\u001b[0m \u001b[0;34m'Y'\u001b[0m \u001b[0;32min\u001b[0m \u001b[0mx\u001b[0m\u001b[0;34m)\u001b[0m\u001b[0;34m\u001b[0m\u001b[0m\n\u001b[1;32m      4\u001b[0m \u001b[0mdfclinic\u001b[0m\u001b[0;34m[\u001b[0m\u001b[0;34m'Pneum_strict'\u001b[0m\u001b[0;34m]\u001b[0m \u001b[0;34m=\u001b[0m \u001b[0mdfclinic\u001b[0m\u001b[0;34m[\u001b[0m\u001b[0;34m'Pneumonia (10^4 CFU + 80% neuts)'\u001b[0m\u001b[0;34m]\u001b[0m\u001b[0;34m.\u001b[0m\u001b[0mmap\u001b[0m\u001b[0;34m(\u001b[0m\u001b[0;32mlambda\u001b[0m \u001b[0mx\u001b[0m\u001b[0;34m:\u001b[0m \u001b[0;34m'Y'\u001b[0m \u001b[0;32min\u001b[0m \u001b[0mx\u001b[0m\u001b[0;34m)\u001b[0m\u001b[0;34m\u001b[0m\u001b[0m\n\u001b[1;32m      5\u001b[0m \u001b[0;31m#dfclinic.index = dfclinic['BAL']\u001b[0m\u001b[0;34m\u001b[0m\u001b[0;34m\u001b[0m\u001b[0m\n",
      "\u001b[0;32m/Users/tjyacoub/anaconda2/lib/python2.7/site-packages/pandas/io/parsers.pyc\u001b[0m in \u001b[0;36mparser_f\u001b[0;34m(filepath_or_buffer, sep, dialect, compression, doublequote, escapechar, quotechar, quoting, skipinitialspace, lineterminator, header, index_col, names, prefix, skiprows, skipfooter, skip_footer, na_values, true_values, false_values, delimiter, converters, dtype, usecols, engine, delim_whitespace, as_recarray, na_filter, compact_ints, use_unsigned, low_memory, buffer_lines, warn_bad_lines, error_bad_lines, keep_default_na, thousands, comment, decimal, parse_dates, keep_date_col, dayfirst, date_parser, memory_map, float_precision, nrows, iterator, chunksize, verbose, encoding, squeeze, mangle_dupe_cols, tupleize_cols, infer_datetime_format, skip_blank_lines)\u001b[0m\n\u001b[1;32m    489\u001b[0m                     skip_blank_lines=skip_blank_lines)\n\u001b[1;32m    490\u001b[0m \u001b[0;34m\u001b[0m\u001b[0m\n\u001b[0;32m--> 491\u001b[0;31m         \u001b[0;32mreturn\u001b[0m \u001b[0m_read\u001b[0m\u001b[0;34m(\u001b[0m\u001b[0mfilepath_or_buffer\u001b[0m\u001b[0;34m,\u001b[0m \u001b[0mkwds\u001b[0m\u001b[0;34m)\u001b[0m\u001b[0;34m\u001b[0m\u001b[0m\n\u001b[0m\u001b[1;32m    492\u001b[0m \u001b[0;34m\u001b[0m\u001b[0m\n\u001b[1;32m    493\u001b[0m     \u001b[0mparser_f\u001b[0m\u001b[0;34m.\u001b[0m\u001b[0m__name__\u001b[0m \u001b[0;34m=\u001b[0m \u001b[0mname\u001b[0m\u001b[0;34m\u001b[0m\u001b[0m\n",
      "\u001b[0;32m/Users/tjyacoub/anaconda2/lib/python2.7/site-packages/pandas/io/parsers.pyc\u001b[0m in \u001b[0;36m_read\u001b[0;34m(filepath_or_buffer, kwds)\u001b[0m\n\u001b[1;32m    266\u001b[0m \u001b[0;34m\u001b[0m\u001b[0m\n\u001b[1;32m    267\u001b[0m     \u001b[0;31m# Create the parser.\u001b[0m\u001b[0;34m\u001b[0m\u001b[0;34m\u001b[0m\u001b[0m\n\u001b[0;32m--> 268\u001b[0;31m     \u001b[0mparser\u001b[0m \u001b[0;34m=\u001b[0m \u001b[0mTextFileReader\u001b[0m\u001b[0;34m(\u001b[0m\u001b[0mfilepath_or_buffer\u001b[0m\u001b[0;34m,\u001b[0m \u001b[0;34m**\u001b[0m\u001b[0mkwds\u001b[0m\u001b[0;34m)\u001b[0m\u001b[0;34m\u001b[0m\u001b[0m\n\u001b[0m\u001b[1;32m    269\u001b[0m \u001b[0;34m\u001b[0m\u001b[0m\n\u001b[1;32m    270\u001b[0m     \u001b[0;32mif\u001b[0m \u001b[0;34m(\u001b[0m\u001b[0mnrows\u001b[0m \u001b[0;32mis\u001b[0m \u001b[0;32mnot\u001b[0m \u001b[0mNone\u001b[0m\u001b[0;34m)\u001b[0m \u001b[0;32mand\u001b[0m \u001b[0;34m(\u001b[0m\u001b[0mchunksize\u001b[0m \u001b[0;32mis\u001b[0m \u001b[0;32mnot\u001b[0m \u001b[0mNone\u001b[0m\u001b[0;34m)\u001b[0m\u001b[0;34m:\u001b[0m\u001b[0;34m\u001b[0m\u001b[0m\n",
      "\u001b[0;32m/Users/tjyacoub/anaconda2/lib/python2.7/site-packages/pandas/io/parsers.pyc\u001b[0m in \u001b[0;36m__init__\u001b[0;34m(self, f, engine, **kwds)\u001b[0m\n\u001b[1;32m    581\u001b[0m             \u001b[0mself\u001b[0m\u001b[0;34m.\u001b[0m\u001b[0moptions\u001b[0m\u001b[0;34m[\u001b[0m\u001b[0;34m'has_index_names'\u001b[0m\u001b[0;34m]\u001b[0m \u001b[0;34m=\u001b[0m \u001b[0mkwds\u001b[0m\u001b[0;34m[\u001b[0m\u001b[0;34m'has_index_names'\u001b[0m\u001b[0;34m]\u001b[0m\u001b[0;34m\u001b[0m\u001b[0m\n\u001b[1;32m    582\u001b[0m \u001b[0;34m\u001b[0m\u001b[0m\n\u001b[0;32m--> 583\u001b[0;31m         \u001b[0mself\u001b[0m\u001b[0;34m.\u001b[0m\u001b[0m_make_engine\u001b[0m\u001b[0;34m(\u001b[0m\u001b[0mself\u001b[0m\u001b[0;34m.\u001b[0m\u001b[0mengine\u001b[0m\u001b[0;34m)\u001b[0m\u001b[0;34m\u001b[0m\u001b[0m\n\u001b[0m\u001b[1;32m    584\u001b[0m \u001b[0;34m\u001b[0m\u001b[0m\n\u001b[1;32m    585\u001b[0m     \u001b[0;32mdef\u001b[0m \u001b[0m_get_options_with_defaults\u001b[0m\u001b[0;34m(\u001b[0m\u001b[0mself\u001b[0m\u001b[0;34m,\u001b[0m \u001b[0mengine\u001b[0m\u001b[0;34m)\u001b[0m\u001b[0;34m:\u001b[0m\u001b[0;34m\u001b[0m\u001b[0m\n",
      "\u001b[0;32m/Users/tjyacoub/anaconda2/lib/python2.7/site-packages/pandas/io/parsers.pyc\u001b[0m in \u001b[0;36m_make_engine\u001b[0;34m(self, engine)\u001b[0m\n\u001b[1;32m    722\u001b[0m     \u001b[0;32mdef\u001b[0m \u001b[0m_make_engine\u001b[0m\u001b[0;34m(\u001b[0m\u001b[0mself\u001b[0m\u001b[0;34m,\u001b[0m \u001b[0mengine\u001b[0m\u001b[0;34m=\u001b[0m\u001b[0;34m'c'\u001b[0m\u001b[0;34m)\u001b[0m\u001b[0;34m:\u001b[0m\u001b[0;34m\u001b[0m\u001b[0m\n\u001b[1;32m    723\u001b[0m         \u001b[0;32mif\u001b[0m \u001b[0mengine\u001b[0m \u001b[0;34m==\u001b[0m \u001b[0;34m'c'\u001b[0m\u001b[0;34m:\u001b[0m\u001b[0;34m\u001b[0m\u001b[0m\n\u001b[0;32m--> 724\u001b[0;31m             \u001b[0mself\u001b[0m\u001b[0;34m.\u001b[0m\u001b[0m_engine\u001b[0m \u001b[0;34m=\u001b[0m \u001b[0mCParserWrapper\u001b[0m\u001b[0;34m(\u001b[0m\u001b[0mself\u001b[0m\u001b[0;34m.\u001b[0m\u001b[0mf\u001b[0m\u001b[0;34m,\u001b[0m \u001b[0;34m**\u001b[0m\u001b[0mself\u001b[0m\u001b[0;34m.\u001b[0m\u001b[0moptions\u001b[0m\u001b[0;34m)\u001b[0m\u001b[0;34m\u001b[0m\u001b[0m\n\u001b[0m\u001b[1;32m    725\u001b[0m         \u001b[0;32melse\u001b[0m\u001b[0;34m:\u001b[0m\u001b[0;34m\u001b[0m\u001b[0m\n\u001b[1;32m    726\u001b[0m             \u001b[0;32mif\u001b[0m \u001b[0mengine\u001b[0m \u001b[0;34m==\u001b[0m \u001b[0;34m'python'\u001b[0m\u001b[0;34m:\u001b[0m\u001b[0;34m\u001b[0m\u001b[0m\n",
      "\u001b[0;32m/Users/tjyacoub/anaconda2/lib/python2.7/site-packages/pandas/io/parsers.pyc\u001b[0m in \u001b[0;36m__init__\u001b[0;34m(self, src, **kwds)\u001b[0m\n\u001b[1;32m   1091\u001b[0m         \u001b[0mkwds\u001b[0m\u001b[0;34m[\u001b[0m\u001b[0;34m'allow_leading_cols'\u001b[0m\u001b[0;34m]\u001b[0m \u001b[0;34m=\u001b[0m \u001b[0mself\u001b[0m\u001b[0;34m.\u001b[0m\u001b[0mindex_col\u001b[0m \u001b[0;32mis\u001b[0m \u001b[0;32mnot\u001b[0m \u001b[0mFalse\u001b[0m\u001b[0;34m\u001b[0m\u001b[0m\n\u001b[1;32m   1092\u001b[0m \u001b[0;34m\u001b[0m\u001b[0m\n\u001b[0;32m-> 1093\u001b[0;31m         \u001b[0mself\u001b[0m\u001b[0;34m.\u001b[0m\u001b[0m_reader\u001b[0m \u001b[0;34m=\u001b[0m \u001b[0m_parser\u001b[0m\u001b[0;34m.\u001b[0m\u001b[0mTextReader\u001b[0m\u001b[0;34m(\u001b[0m\u001b[0msrc\u001b[0m\u001b[0;34m,\u001b[0m \u001b[0;34m**\u001b[0m\u001b[0mkwds\u001b[0m\u001b[0;34m)\u001b[0m\u001b[0;34m\u001b[0m\u001b[0m\n\u001b[0m\u001b[1;32m   1094\u001b[0m \u001b[0;34m\u001b[0m\u001b[0m\n\u001b[1;32m   1095\u001b[0m         \u001b[0;31m# XXX\u001b[0m\u001b[0;34m\u001b[0m\u001b[0;34m\u001b[0m\u001b[0m\n",
      "\u001b[0;32mpandas/parser.pyx\u001b[0m in \u001b[0;36mpandas.parser.TextReader.__cinit__ (pandas/parser.c:3229)\u001b[0;34m()\u001b[0m\n",
      "\u001b[0;32mpandas/parser.pyx\u001b[0m in \u001b[0;36mpandas.parser.TextReader._setup_parser_source (pandas/parser.c:6042)\u001b[0;34m()\u001b[0m\n",
      "\u001b[0;31mIOError\u001b[0m: File ../data/BAL/ICU_BAL_update.csv does not exist"
     ]
    }
   ],
   "source": [
    "dfclinic = pd.read_csv(data_dir + \"ICU_BAL_update.csv\")\n",
    "dfclinic['BAL'] = dfclinic['BAL NUM'].map(lambda x: 'BAL' + str(x))\n",
    "dfclinic['Pneum'] = dfclinic['Pneumonia (10^3 CFU + 50% neuts)'].map(lambda x: 'Y' in x)\n",
    "dfclinic['Pneum_strict'] = dfclinic['Pneumonia (10^4 CFU + 80% neuts)'].map(lambda x: 'Y' in x)\n",
    "#dfclinic.index = dfclinic['BAL']\n",
    "#BAL_Pneum_dict = dict(zip(dfclinic['BAL'], dfclinic['Pneum']))\n",
    "#BAL_Pneum_dicts = {'Lenient': dict(zip(dfclinic['BAL'],dfclinic['Pneum'])),\n",
    "#                   'Strict': dict(zip(dfclinic['BAL'],dfclinic['Pneum_strict']))}\n",
    "dfclinic['Pseudomonas'] = dfclinic['Pneumonia pathogen'].map(lambda x: \n",
    "                                        'seudomonas' in x if pd.notnull(x) else False )"
   ]
  },
  {
   "cell_type": "code",
   "execution_count": 76,
   "metadata": {
    "collapsed": false
   },
   "outputs": [],
   "source": [
    "clinical_data = dfclinic.rename(columns={'Age ': 'Age', 'Gender ': 'Gender', 'Race ':'Race',\n",
    "                        'Ethnicity': 'Ethnicity', '% Monocytes': '%Monocytes'})"
   ]
  },
  {
   "cell_type": "code",
   "execution_count": 166,
   "metadata": {
    "collapsed": false
   },
   "outputs": [],
   "source": [
    "all_meta_data = pd.merge(meta_data, clinical_data, left_on='BAL', right_on='BAL', how='inner', left_index='X')\n",
    "all_meta_data.index = all_meta_data.apply(lambda x: str(x['Original Sample Number']) + '_' + str(x['Run']), axis=1)\n",
    "all_meta_data = all_meta_data[['BAL', 'CellType', 'Pneum','Pneum_strict','Pseudomonas', 'RINe',\n",
    "                               'Uniquely mapped reads number','Uniquely mapped reads %']]\n",
    "all_meta_data.index.name = 'ID'"
   ]
  },
  {
   "cell_type": "markdown",
   "metadata": {},
   "source": [
    "### Write counts"
   ]
  },
  {
   "cell_type": "code",
   "execution_count": 167,
   "metadata": {
    "collapsed": false
   },
   "outputs": [],
   "source": [
    "counts_data.to_csv(data_dir + \"counts_data.csv\",sep='\\t')\n"
   ]
  },
  {
   "cell_type": "markdown",
   "metadata": {},
   "source": [
    "### Write meta (starLog (seq stats), clinical + library prep)"
   ]
  },
  {
   "cell_type": "code",
   "execution_count": 168,
   "metadata": {
    "collapsed": true
   },
   "outputs": [],
   "source": [
    "all_meta_data.to_csv(data_dir + \"meta_data.csv\", sep='\\t')"
   ]
  },
  {
   "cell_type": "markdown",
   "metadata": {},
   "source": [
    "###  Check distribution of celltype"
   ]
  },
  {
   "cell_type": "code",
   "execution_count": 43,
   "metadata": {
    "collapsed": false
   },
   "outputs": [
    {
     "data": {
      "text/plain": [
       "AM     49\n",
       "163    46\n",
       "Name: CellType, dtype: int64"
      ]
     },
     "execution_count": 43,
     "metadata": {},
     "output_type": "execute_result"
    }
   ],
   "source": [
    "all_data['CellType'].value_counts()"
   ]
  },
  {
   "cell_type": "markdown",
   "metadata": {},
   "source": [
    "###  Get data with pneum positive"
   ]
  },
  {
   "cell_type": "code",
   "execution_count": 492,
   "metadata": {
    "collapsed": true
   },
   "outputs": [],
   "source": [
    "#pos_meta = meta_data[meta_data['BAL'].isin(pos_bals)]\n",
    "#neg_meta = meta_data[~meta_data['BAL'].isin(pos_bals)]\n"
   ]
  },
  {
   "cell_type": "code",
   "execution_count": 45,
   "metadata": {
    "collapsed": false
   },
   "outputs": [],
   "source": [
    "#new_bals = meta_data['BAL'].unique()\n",
    "#clin_data = dfclinic[dfclinic['BAL'].isin(new_bals)]\n",
    "pos_bals = dfc[dfc['Pneum']==True]['BAL'].values\n",
    "neg_bals = dfc[dfc['Pneum']==False]['BAL'].values"
   ]
  },
  {
   "cell_type": "code",
   "execution_count": 46,
   "metadata": {
    "collapsed": true
   },
   "outputs": [],
   "source": [
    "import numpy as np\n",
    "from scipy.stats.stats import zscore"
   ]
  },
  {
   "cell_type": "code",
   "execution_count": 62,
   "metadata": {
    "collapsed": false
   },
   "outputs": [],
   "source": [
    "p = pd.merge(clin_data, meta_data, left_on='BAL', right_on='BAL', how='outer')"
   ]
  },
  {
   "cell_type": "code",
   "execution_count": 72,
   "metadata": {
    "collapsed": false
   },
   "outputs": [],
   "source": [
    "clin_data = clin_data.rename(columns={'APS Total Score':'APS'})\n",
    "dfc = pd.merge(clin_data, meta_data, left_on='BAL', right_on='BAL', how='outer')\n",
    "dfc['ID'] = dfc.apply(lambda x: str(x['Original Sample Number']) + '_' + str(x['Run']), axis=1)\n",
    "dfc.index = dfc['ID']\n",
    "dfpos = dfc[dfc['Pneum']==True]\n",
    "dfneg = dfc[dfc['Pneum']==False]\n",
    "#dfp = dfc[dfc['Pneum']==True]['BAL'].unique()\n"
   ]
  },
  {
   "cell_type": "code",
   "execution_count": 117,
   "metadata": {
    "collapsed": true
   },
   "outputs": [],
   "source": [
    "def match_score(x, zAPS, zAge):\n",
    "    return np.sqrt((x['zAPS'] - zAPS)**2 + (x['zAge'] - zAge)**2)\n",
    "def match_score_noz(x, APS, Age):\n",
    "    return np.sqrt((x['APS'] - APS)**2 + (x['Age'] - Age)**2)"
   ]
  },
  {
   "cell_type": "markdown",
   "metadata": {},
   "source": [
    "## Patient matching\n",
    "Originally intended for choosing samples to resequence.\n",
    "Can now be used to select negative samples to include in model.\n",
    "(There are fewer pos. than neg. samples, and we want equal numbers of each)\n",
    "Matching is used to reduce confounding factors like age and general physical wellness."
   ]
  },
  {
   "cell_type": "markdown",
   "metadata": {},
   "source": [
    "INPUT: columns to match on i.e. Age, APS Score"
   ]
  },
  {
   "cell_type": "code",
   "execution_count": 118,
   "metadata": {
    "collapsed": false
   },
   "outputs": [
    {
     "name": "stdout",
     "output_type": "stream",
     "text": [
      "(33, 103)\n"
     ]
    }
   ],
   "source": [
    "\n",
    "#dfp = pos_data\n",
    "match_dict = {}\n",
    "\n",
    "dfpos = dfc[dfc['Pneum']==True]\n",
    "dfneg = dfc[dfc['Pneum']==False]\n",
    "\n",
    "min_map_percent = 50\n",
    "min_map_number = 400000\n",
    "dfneg = dfneg[dfneg['Uniquely mapped reads %'] > min_map_percent]\n",
    "dfneg = dfneg[dfneg['Uniquely mapped reads number'] > min_map_number]\n",
    "neg_samples_left = list(dfneg.index.values)\n",
    "\n",
    "dfp = dfpos # to print\n",
    "\n",
    "print dfpos.shape\n",
    "for i, row in dfpos.iterrows():\n",
    "    pid = row['ID']\n",
    "    gender = row['Gender']\n",
    "    celltype = row['CellType']\n",
    "    #RINe = row['RINe']\n",
    "    #zAPS = row['zAPS']\n",
    "    #zAge = row['zAge']\n",
    "    \n",
    "    ### Create dataframe for potential negative Matches (dfm = dfmatches)\n",
    "    #print neg_samples_left\n",
    "    dfm = dfneg.ix[neg_samples_left]\n",
    "    dfm = dfm[dfm['Gender'] == gender]\n",
    "    dfm = dfm[dfm['CellType'] == celltype]\n",
    "    \n",
    "    ### Calculate metric for matching distance\n",
    "    #dfm['Match score'] = dfm.apply(lambda x: match_score_noz(x, row['APS'], row['Age']), axis=1)\n",
    "    dfm['Match score'] = dfm.apply(lambda x: match_score_noz(x, row['APS'], \n",
    "                                            row['Age']), axis=1)\n",
    "\n",
    "    #dfm['Match score'] = dfm.apply(lambda x: match_score_noz(x, zAPS, zAge), axis=1)\n",
    "\n",
    "    min_score = np.min(dfm['Match score'])\n",
    "    min_data = dfm[dfm['Match score'] == min_score]\n",
    "    match_id = min_data['ID'].values[0]\n",
    "    match_dict[pid] = match_id\n",
    "    #print match_id\n",
    "    \n",
    "#    print match_data.head()\n",
    "    neg_samples_left.remove(str(match_id))\n",
    "\n",
    "### After matching, get a handful of other negative samples in case there are problems in prep\n",
    "\n",
    "dfp['Match ID'] = dfp['ID'].map(lambda x: match_dict[x])\n",
    "dfp['Match Celltype'] = dfp['Match ID'].apply(lambda x: dfc.loc[x, 'CellType'])\n",
    "dfp['Match APS'] = dfp['Match ID'].apply(lambda x: dfc.loc[x, 'APS'])\n",
    "dfp['Match Age'] = dfp['Match ID'].apply(lambda x: dfc.loc[x, 'Age'])\n",
    "dfp['Match Pneum'] = dfp['Match ID'].apply(lambda x: dfc.loc[x, 'Pneum'])\n",
    "dfp['Match BAL'] = dfp['Match ID'].apply(lambda x: dfc.loc[x, 'BAL'])\n",
    "dfp['% Uniq. Map.'] = dfp['ID'].apply(lambda x: dfc.loc[x, 'Uniquely mapped reads %'])\n",
    "dfp['RIN'] = dfp['ID'].apply(lambda x: dfc.loc[x, 'RINe'])\n",
    "dfp['Match RIN'] = dfp['Match ID'].apply(lambda x: dfc.loc[x, 'RINe'])\n",
    "dfp['Match % Uniq. Map.'] = dfp['Match ID'].apply(lambda x: dfc.loc[x, 'Uniquely mapped reads %'])\n",
    "df = dfp[['ID', 'Match ID', 'Age', 'Match Age', 'BAL', 'Match BAL', \n",
    "          'APS', 'Match APS', 'CellType', 'Match Celltype', 'Pneum', 'Match Pneum',\n",
    "         '% Uniq. Map.', 'Match % Uniq. Map.', 'RIN', 'Match RIN']]"
   ]
  },
  {
   "cell_type": "code",
   "execution_count": 118,
   "metadata": {
    "collapsed": false
   },
   "outputs": [
    {
     "name": "stdout",
     "output_type": "stream",
     "text": [
      "(33, 103)\n"
     ]
    }
   ],
   "source": [
    "\n",
    "\n",
    "#dfp = pos_data\n",
    "match_dict = {}\n",
    "\n",
    "dfpos = dfc[dfc['Pneum']==True]\n",
    "dfneg = dfc[dfc['Pneum']==False]\n",
    "\n",
    "min_map_percent = 50\n",
    "min_map_number = 400000\n",
    "dfneg = dfneg[dfneg['Uniquely mapped reads %'] > min_map_percent]\n",
    "dfneg = dfneg[dfneg['Uniquely mapped reads number'] > min_map_number]\n",
    "neg_samples_left = list(dfneg.index.values)\n",
    "\n",
    "dfp = dfpos # to print\n",
    "\n",
    "print dfpos.shape\n",
    "for i, row in dfpos.iterrows():\n",
    "    pid = row['ID']\n",
    "    gender = row['Gender']\n",
    "    celltype = row['CellType']\n",
    "    #RINe = row['RINe']\n",
    "    #zAPS = row['zAPS']\n",
    "    #zAge = row['zAge']\n",
    "    \n",
    "    ### Create dataframe for potential negative Matches (dfm = dfmatches)\n",
    "    #print neg_samples_left\n",
    "    dfm = dfneg.ix[neg_samples_left]\n",
    "    dfm = dfm[dfm['Gender'] == gender]\n",
    "    dfm = dfm[dfm['CellType'] == celltype]\n",
    "    \n",
    "    ### Calculate metric for matching distance\n",
    "    #dfm['Match score'] = dfm.apply(lambda x: match_score_noz(x, row['APS'], row['Age']), axis=1)\n",
    "    dfm['Match score'] = dfm.apply(lambda x: match_score_noz(x, row['APS'], \n",
    "                                            row['Age']), axis=1)\n",
    "\n",
    "    #dfm['Match score'] = dfm.apply(lambda x: match_score_noz(x, zAPS, zAge), axis=1)\n",
    "\n",
    "    min_score = np.min(dfm['Match score'])\n",
    "    min_data = dfm[dfm['Match score'] == min_score]\n",
    "    match_id = min_data['ID'].values[0]\n",
    "    match_dict[pid] = match_id\n",
    "    #print match_id\n",
    "    \n",
    "#    print match_data.head()\n",
    "    neg_samples_left.remove(str(match_id))\n",
    "\n",
    "### After matching, get a handful of other negative samples in case there are problems in prep\n",
    "\n",
    "dfp['Match ID'] = dfp['ID'].map(lambda x: match_dict[x])\n",
    "dfp['Match Celltype'] = dfp['Match ID'].apply(lambda x: dfc.loc[x, 'CellType'])\n",
    "dfp['Match APS'] = dfp['Match ID'].apply(lambda x: dfc.loc[x, 'APS'])\n",
    "dfp['Match Age'] = dfp['Match ID'].apply(lambda x: dfc.loc[x, 'Age'])\n",
    "dfp['Match Pneum'] = dfp['Match ID'].apply(lambda x: dfc.loc[x, 'Pneum'])\n",
    "dfp['Match BAL'] = dfp['Match ID'].apply(lambda x: dfc.loc[x, 'BAL'])\n",
    "dfp['% Uniq. Map.'] = dfp['ID'].apply(lambda x: dfc.loc[x, 'Uniquely mapped reads %'])\n",
    "dfp['RIN'] = dfp['ID'].apply(lambda x: dfc.loc[x, 'RINe'])\n",
    "dfp['Match RIN'] = dfp['Match ID'].apply(lambda x: dfc.loc[x, 'RINe'])\n",
    "dfp['Match % Uniq. Map.'] = dfp['Match ID'].apply(lambda x: dfc.loc[x, 'Uniquely mapped reads %'])\n",
    "df = dfp[['ID', 'Match ID', 'Age', 'Match Age', 'BAL', 'Match BAL', \n",
    "          'APS', 'Match APS', 'CellType', 'Match Celltype', 'Pneum', 'Match Pneum',\n",
    "         '% Uniq. Map.', 'Match % Uniq. Map.', 'RIN', 'Match RIN']]"
   ]
  },
  {
   "cell_type": "code",
   "execution_count": 104,
   "metadata": {
    "collapsed": true
   },
   "outputs": [],
   "source": [
    "df.to_csv('Resequence_IDs.csv')"
   ]
  },
  {
   "cell_type": "code",
   "execution_count": 149,
   "metadata": {
    "collapsed": false
   },
   "outputs": [
    {
     "name": "stdout",
     "output_type": "stream",
     "text": [
      "7.27272727273\n",
      "12.3333333333\n"
     ]
    }
   ],
   "source": [
    "print np.mean(abs(df['Age'] - df['Match Age']))\n",
    "print np.mean(abs(df['APS'] - df['Match APS']))\n",
    "df;"
   ]
  },
  {
   "cell_type": "code",
   "execution_count": 152,
   "metadata": {
    "collapsed": false
   },
   "outputs": [],
   "source": [
    "reseq = list(df['ID'].values) + list(df['Match ID'].values)"
   ]
  },
  {
   "cell_type": "code",
   "execution_count": 915,
   "metadata": {
    "collapsed": false
   },
   "outputs": [
    {
     "name": "stdout",
     "output_type": "stream",
     "text": [
      "AGE only, no ZSCORE\n",
      "2.86666666667\n",
      "31.8333333333\n"
     ]
    },
    {
     "data": {
      "text/html": [
       "<div>\n",
       "<table border=\"1\" class=\"dataframe\">\n",
       "  <thead>\n",
       "    <tr style=\"text-align: right;\">\n",
       "      <th></th>\n",
       "      <th>ID</th>\n",
       "      <th>Match ID</th>\n",
       "      <th>Age</th>\n",
       "      <th>Match Age</th>\n",
       "      <th>BAL</th>\n",
       "      <th>Match BAL</th>\n",
       "      <th>APS</th>\n",
       "      <th>Match APS</th>\n",
       "      <th>CellType</th>\n",
       "      <th>Match Celltype</th>\n",
       "      <th>Pneum</th>\n",
       "      <th>Match Pneum</th>\n",
       "      <th>Gender</th>\n",
       "      <th>Match Gender</th>\n",
       "    </tr>\n",
       "    <tr>\n",
       "      <th>ID</th>\n",
       "      <th></th>\n",
       "      <th></th>\n",
       "      <th></th>\n",
       "      <th></th>\n",
       "      <th></th>\n",
       "      <th></th>\n",
       "      <th></th>\n",
       "      <th></th>\n",
       "      <th></th>\n",
       "      <th></th>\n",
       "      <th></th>\n",
       "      <th></th>\n",
       "      <th></th>\n",
       "      <th></th>\n",
       "    </tr>\n",
       "  </thead>\n",
       "  <tbody>\n",
       "    <tr>\n",
       "      <th>003_1</th>\n",
       "      <td>003_1</td>\n",
       "      <td>138_2</td>\n",
       "      <td>62</td>\n",
       "      <td>61</td>\n",
       "      <td>BAL28</td>\n",
       "      <td>BAL62</td>\n",
       "      <td>65</td>\n",
       "      <td>57</td>\n",
       "      <td>163</td>\n",
       "      <td>163</td>\n",
       "      <td>True</td>\n",
       "      <td>False</td>\n",
       "      <td>Male</td>\n",
       "      <td>Male</td>\n",
       "    </tr>\n",
       "    <tr>\n",
       "      <th>110_2</th>\n",
       "      <td>110_2</td>\n",
       "      <td>137_2</td>\n",
       "      <td>62</td>\n",
       "      <td>61</td>\n",
       "      <td>BAL28</td>\n",
       "      <td>BAL62</td>\n",
       "      <td>65</td>\n",
       "      <td>57</td>\n",
       "      <td>AM</td>\n",
       "      <td>AM</td>\n",
       "      <td>True</td>\n",
       "      <td>False</td>\n",
       "      <td>Male</td>\n",
       "      <td>Male</td>\n",
       "    </tr>\n",
       "    <tr>\n",
       "      <th>111_2</th>\n",
       "      <td>111_2</td>\n",
       "      <td>019_1</td>\n",
       "      <td>58</td>\n",
       "      <td>59</td>\n",
       "      <td>BAL33</td>\n",
       "      <td>BAL81</td>\n",
       "      <td>101</td>\n",
       "      <td>47</td>\n",
       "      <td>AM</td>\n",
       "      <td>AM</td>\n",
       "      <td>True</td>\n",
       "      <td>False</td>\n",
       "      <td>Male</td>\n",
       "      <td>Male</td>\n",
       "    </tr>\n",
       "    <tr>\n",
       "      <th>112_2</th>\n",
       "      <td>112_2</td>\n",
       "      <td>020_1</td>\n",
       "      <td>58</td>\n",
       "      <td>59</td>\n",
       "      <td>BAL33</td>\n",
       "      <td>BAL81</td>\n",
       "      <td>101</td>\n",
       "      <td>47</td>\n",
       "      <td>163</td>\n",
       "      <td>163</td>\n",
       "      <td>True</td>\n",
       "      <td>False</td>\n",
       "      <td>Male</td>\n",
       "      <td>Male</td>\n",
       "    </tr>\n",
       "    <tr>\n",
       "      <th>004_1</th>\n",
       "      <td>004_1</td>\n",
       "      <td>017_1</td>\n",
       "      <td>58</td>\n",
       "      <td>55</td>\n",
       "      <td>BAL38</td>\n",
       "      <td>BAL77</td>\n",
       "      <td>90</td>\n",
       "      <td>108</td>\n",
       "      <td>163</td>\n",
       "      <td>163</td>\n",
       "      <td>True</td>\n",
       "      <td>False</td>\n",
       "      <td>Male</td>\n",
       "      <td>Male</td>\n",
       "    </tr>\n",
       "    <tr>\n",
       "      <th>116_2</th>\n",
       "      <td>116_2</td>\n",
       "      <td>150_2</td>\n",
       "      <td>58</td>\n",
       "      <td>55</td>\n",
       "      <td>BAL38</td>\n",
       "      <td>BAL77</td>\n",
       "      <td>90</td>\n",
       "      <td>108</td>\n",
       "      <td>AM</td>\n",
       "      <td>AM</td>\n",
       "      <td>True</td>\n",
       "      <td>False</td>\n",
       "      <td>Male</td>\n",
       "      <td>Male</td>\n",
       "    </tr>\n",
       "    <tr>\n",
       "      <th>122_2</th>\n",
       "      <td>122_2</td>\n",
       "      <td>014_1</td>\n",
       "      <td>30</td>\n",
       "      <td>22</td>\n",
       "      <td>BAL45</td>\n",
       "      <td>BAL71</td>\n",
       "      <td>43</td>\n",
       "      <td>60</td>\n",
       "      <td>AM</td>\n",
       "      <td>AM</td>\n",
       "      <td>True</td>\n",
       "      <td>False</td>\n",
       "      <td>Female</td>\n",
       "      <td>Female</td>\n",
       "    </tr>\n",
       "    <tr>\n",
       "      <th>123_2</th>\n",
       "      <td>123_2</td>\n",
       "      <td>102_2</td>\n",
       "      <td>61</td>\n",
       "      <td>59</td>\n",
       "      <td>BAL46</td>\n",
       "      <td>BAL15</td>\n",
       "      <td>65</td>\n",
       "      <td>69</td>\n",
       "      <td>AM</td>\n",
       "      <td>AM</td>\n",
       "      <td>True</td>\n",
       "      <td>False</td>\n",
       "      <td>Female</td>\n",
       "      <td>Female</td>\n",
       "    </tr>\n",
       "    <tr>\n",
       "      <th>124_2</th>\n",
       "      <td>124_2</td>\n",
       "      <td>153_2</td>\n",
       "      <td>61</td>\n",
       "      <td>63</td>\n",
       "      <td>BAL46</td>\n",
       "      <td>BAL82</td>\n",
       "      <td>65</td>\n",
       "      <td>50</td>\n",
       "      <td>163</td>\n",
       "      <td>163</td>\n",
       "      <td>True</td>\n",
       "      <td>False</td>\n",
       "      <td>Female</td>\n",
       "      <td>Female</td>\n",
       "    </tr>\n",
       "    <tr>\n",
       "      <th>005_1</th>\n",
       "      <td>005_1</td>\n",
       "      <td>103_2</td>\n",
       "      <td>43</td>\n",
       "      <td>50</td>\n",
       "      <td>BAL48</td>\n",
       "      <td>BAL17</td>\n",
       "      <td>50</td>\n",
       "      <td>90</td>\n",
       "      <td>AM</td>\n",
       "      <td>AM</td>\n",
       "      <td>True</td>\n",
       "      <td>False</td>\n",
       "      <td>Male</td>\n",
       "      <td>Male</td>\n",
       "    </tr>\n",
       "  </tbody>\n",
       "</table>\n",
       "</div>"
      ],
      "text/plain": [
       "          ID Match ID  Age  Match Age    BAL Match BAL  APS  Match APS  \\\n",
       "ID                                                                       \n",
       "003_1  003_1    138_2   62         61  BAL28     BAL62   65         57   \n",
       "110_2  110_2    137_2   62         61  BAL28     BAL62   65         57   \n",
       "111_2  111_2    019_1   58         59  BAL33     BAL81  101         47   \n",
       "112_2  112_2    020_1   58         59  BAL33     BAL81  101         47   \n",
       "004_1  004_1    017_1   58         55  BAL38     BAL77   90        108   \n",
       "116_2  116_2    150_2   58         55  BAL38     BAL77   90        108   \n",
       "122_2  122_2    014_1   30         22  BAL45     BAL71   43         60   \n",
       "123_2  123_2    102_2   61         59  BAL46     BAL15   65         69   \n",
       "124_2  124_2    153_2   61         63  BAL46     BAL82   65         50   \n",
       "005_1  005_1    103_2   43         50  BAL48     BAL17   50         90   \n",
       "\n",
       "      CellType Match Celltype Pneum Match Pneum  Gender Match Gender  \n",
       "ID                                                                    \n",
       "003_1      163            163  True       False    Male         Male  \n",
       "110_2       AM             AM  True       False    Male         Male  \n",
       "111_2       AM             AM  True       False    Male         Male  \n",
       "112_2      163            163  True       False    Male         Male  \n",
       "004_1      163            163  True       False    Male         Male  \n",
       "116_2       AM             AM  True       False    Male         Male  \n",
       "122_2       AM             AM  True       False  Female       Female  \n",
       "123_2       AM             AM  True       False  Female       Female  \n",
       "124_2      163            163  True       False  Female       Female  \n",
       "005_1       AM             AM  True       False    Male         Male  "
      ]
     },
     "execution_count": 915,
     "metadata": {},
     "output_type": "execute_result"
    }
   ],
   "source": [
    "print \"AGE only, no ZSCORE\"\n",
    "print np.mean(abs(df['Age'] - df['Match Age']))\n",
    "print np.mean(abs(df['APS'] - df['Match APS']))\n",
    "df.head(10)"
   ]
  },
  {
   "cell_type": "code",
   "execution_count": 830,
   "metadata": {
    "collapsed": false
   },
   "outputs": [
    {
     "data": {
      "text/plain": [
       "0"
      ]
     },
     "execution_count": 830,
     "metadata": {},
     "output_type": "execute_result"
    }
   ],
   "source": [
    "len(match_dict.values()) - len(set(match_dict.values()))"
   ]
  },
  {
   "cell_type": "markdown",
   "metadata": {},
   "source": [
    "# Proceeding to normalization, filtering"
   ]
  },
  {
   "cell_type": "markdown",
   "metadata": {},
   "source": [
    "## Filter by a minimum number of unique reads"
   ]
  },
  {
   "cell_type": "markdown",
   "metadata": {},
   "source": [
    "#### Create normalization factor based on unique reads"
   ]
  },
  {
   "cell_type": "code",
   "execution_count": 178,
   "metadata": {
    "collapsed": false
   },
   "outputs": [],
   "source": []
  },
  {
   "cell_type": "code",
   "execution_count": 181,
   "metadata": {
    "collapsed": false
   },
   "outputs": [],
   "source": [
    "min_uniques = 4e6\n",
    "min_gene_count = 10 ## All genes from all samples must have 10 counts\n",
    "## AM\n",
    "def filter_norm(df, meta, min_gene_count=min_gene_count, min_uniques=min_uniques):\n",
    "    bal_dict = dict(zip(meta.index,meta['Norm_Factor']))\n",
    "    samples_min_unique = meta[meta['Uniquely mapped reads number'] > min_uniques].index\n",
    "    df = df.ix[samples_min_unique].T\n",
    "    for i in df.columns:\n",
    "        norm_fac = meta.loc[i,'Norm_Factor']\n",
    "        df[i] = df[i].map(lambda x: float(x)/norm_fac)\n",
    "    df = df.T\n",
    "    df = df.loc[:, df.min(axis=0) > min_gene_count]\n",
    "    df = df.apply(lambda x: np.log2(x + 1))\n",
    "    return df"
   ]
  },
  {
   "cell_type": "code",
   "execution_count": 182,
   "metadata": {
    "collapsed": false
   },
   "outputs": [],
   "source": [
    "counts_data_min_gene_10 = filter_norm(counts, star_meta, min_gene_count=10, min_uniques=0)"
   ]
  },
  {
   "cell_type": "code",
   "execution_count": 185,
   "metadata": {
    "collapsed": false
   },
   "outputs": [
    {
     "data": {
      "text/plain": [
       "(95, 58051)"
      ]
     },
     "execution_count": 185,
     "metadata": {},
     "output_type": "execute_result"
    }
   ],
   "source": [
    "counts.shape"
   ]
  },
  {
   "cell_type": "code",
   "execution_count": 184,
   "metadata": {
    "collapsed": false
   },
   "outputs": [
    {
     "data": {
      "text/plain": [
       "(95, 111)"
      ]
     },
     "execution_count": 184,
     "metadata": {},
     "output_type": "execute_result"
    }
   ],
   "source": [
    "counts_data_min_gene_10.shape"
   ]
  },
  {
   "cell_type": "code",
   "execution_count": 159,
   "metadata": {
    "collapsed": true
   },
   "outputs": [],
   "source": [
    "counts_data_min_gene_10.to_csv(data_dir + 'counts_min_gene_10.csv', sep='\\t')"
   ]
  },
  {
   "cell_type": "code",
   "execution_count": null,
   "metadata": {
    "collapsed": true
   },
   "outputs": [],
   "source": [
    "#df_AM_all.to_csv(data_dir + 'df_AM_all.csv','\\t')\n",
    "#df_163_all.to_csv(data_dir + 'df_163_all.csv','\\t')"
   ]
  }
 ],
 "metadata": {
  "anaconda-cloud": {},
  "kernelspec": {
   "display_name": "Python [default]",
   "language": "python",
   "name": "python2"
  },
  "language_info": {
   "codemirror_mode": {
    "name": "ipython",
    "version": 2
   },
   "file_extension": ".py",
   "mimetype": "text/x-python",
   "name": "python",
   "nbconvert_exporter": "python",
   "pygments_lexer": "ipython2",
   "version": "2.7.12"
  }
 },
 "nbformat": 4,
 "nbformat_minor": 0
}
