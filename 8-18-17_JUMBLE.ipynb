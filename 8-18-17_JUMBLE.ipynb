{
 "cells": [
  {
   "cell_type": "code",
   "execution_count": 1,
   "metadata": {
    "collapsed": false
   },
   "outputs": [],
   "source": [
    "%matplotlib inline\n",
    "import matplotlib.pyplot as plt\n",
    "import numpy as np\n",
    "import pandas as pd\n",
    "from sklearn.decomposition import PCA\n",
    "from scipy.stats import zscore\n",
    "import seaborn as sns\n",
    "from sklearn.cross_decomposition import PLSRegression\n",
    "from sklearn.svm import SVC\n",
    "from sklearn.ensemble import RandomForestClassifier\n",
    "from itertools import cycle\n",
    "import vips\n",
    "import random\n",
    "from collections import Counter\n",
    "from tqdm import tqdm"
   ]
  },
  {
   "cell_type": "markdown",
   "metadata": {},
   "source": [
    "# Making all figures\n",
    " - Test error (PLSR & RF)\n",
    " - Clustering (DE genes) -> GO processes (done)\n",
    " - PCA (DE genes)\n",
    " "
   ]
  },
  {
   "cell_type": "code",
   "execution_count": 2,
   "metadata": {
    "collapsed": false
   },
   "outputs": [],
   "source": [
    "\n",
    "## ALREADY PREPROCESSED \n",
    "#### Min gene count = 0 for 15% of samples\n",
    "\n",
    "train_fpkm = pd.read_csv(\"../data/BAL/train_fpkm_minfilter0_log2.csv\",sep='\\t',index_col=0)\n",
    "train_meta = pd.read_csv('../data/BAL/Reseq_ALL/meta_reseq.csv', sep='\\t', index_col='sample_id')\n",
    "\n",
    "test_fpkm = pd.read_csv(\"../data/BAL/test_fpkm_minfilter0_log2.csv\", sep='\\t', index_col=0)\n",
    "test_meta = pd.read_csv('../data/BAL/meta_r0.csv', sep='\\t', index_col=0)"
   ]
  },
  {
   "cell_type": "code",
   "execution_count": 3,
   "metadata": {
    "collapsed": false
   },
   "outputs": [
    {
     "name": "stdout",
     "output_type": "stream",
     "text": [
      "(32, 26081) (32, 2)\n",
      "(95, 11957) (95, 32)\n"
     ]
    }
   ],
   "source": [
    "print test_fpkm.shape, test_meta.shape\n",
    "print train_fpkm.shape, train_meta.shape"
   ]
  },
  {
   "cell_type": "code",
   "execution_count": 4,
   "metadata": {
    "collapsed": false
   },
   "outputs": [],
   "source": [
    "def getXy(df, dfm, celltype, norm=False):\n",
    "    dfm = dfm[dfm['CellType']==celltype]\n",
    "    df = df.ix[dfm.index]    \n",
    "    genes = df.columns\n",
    "    if norm=='zscore': df = df.apply(lambda x: zscore(x))\n",
    "    X = np.array(df)\n",
    "    y = dfm['Pneum'].values\n",
    "    return X, y, genes, df, dfm"
   ]
  },
  {
   "cell_type": "code",
   "execution_count": 5,
   "metadata": {
    "collapsed": true
   },
   "outputs": [],
   "source": [
    "def geteven_xy(df, dfm, celltype, sampling='up', norm=False):\n",
    "    dfm = dfm[dfm['CellType']==celltype]\n",
    "    y = dfm['Pneum'].values\n",
    "    df = df.ix[dfm.index]\n",
    "    #    if z: df = df.apply(lambda x: zscore(x))\n",
    "    genes = df.columns\n",
    "    pos = [i for i in range(len(y)) if y[i]==True]\n",
    "    neg = [i for i in range(len(y)) if y[i]==False]\n",
    "    \n",
    "    npos = len(pos)\n",
    "    nneg = len(neg)\n",
    "\n",
    "    #print \"Num positive: {}\".format(len(pos))\n",
    "    #print \"Num negative: {}\".format(len(neg))\n",
    "    if sampling=='down':\n",
    "        if nneg >= npos:\n",
    "            neg = random.sample(neg, npos)\n",
    "        else:\n",
    "            pos = random.sample(pos, nneg)\n",
    "    if sampling=='up':\n",
    "        if nneg >= npos:\n",
    "            dup_pos = list(np.random.choice(pos, nneg-npos))\n",
    "            pos = pos + dup_pos ## pos+pos in case not enough in pos\n",
    "    #            print \"duplicated pos:\", dup_pos\n",
    "        else:\n",
    "            neg = neg + np.random.choice(neg, npos-nneg)\n",
    "\n",
    "    df = df.ix[(pos+neg),:]\n",
    "    \"\"\"\n",
    "    Normalize from zero to one\n",
    "    5, 8, 10\n",
    "    5 - 5 / (10-5)\n",
    "    8 - 5 / (10-5)\n",
    "    10 - 5 / (10-5)\n",
    "    \"\"\"\n",
    "    \n",
    "    if norm=='zero_one': \n",
    "        for col in df.columns:\n",
    "            mx = np.max(df[col])\n",
    "            mn = np.min(df[col])\n",
    "            df[col] = df[col].map(lambda x: (x - mn)/(mx - mn))\n",
    "            \n",
    "    if norm=='zsc': \n",
    "        df = df.apply(lambda x: zscore(x))\n",
    "    #elif norm==zero_one:\n",
    "    #    df = df.apply(lambda x: )\n",
    "    dfm = dfm.ix[(pos+neg),:]\n",
    "    X = np.array(df)\n",
    "    y = dfm['Pneum'].values\n",
    "    print \"Num pos after sampling: {}\".format(len(pos))\n",
    "    print \"Num neg after sampling: {}\".format(len(neg))\n",
    "    #y = y[pos + neg] \n",
    "    #X = X[pos + neg] \n",
    "    return X,y, genes, df, dfm"
   ]
  },
  {
   "cell_type": "code",
   "execution_count": 23,
   "metadata": {
    "collapsed": false
   },
   "outputs": [],
   "source": [
    "def get_accuracy_stats(celltype, n_top_genes, method='PLSR', \n",
    "                       norm=False, random_genes=False, jumble_test=False, jumble_train=False,\n",
    "                       n_jumbles=20, npcs=5, n_estimators=100, sampling=False):\n",
    "      \n",
    "    ### TRAINING\n",
    "    #################\n",
    "        \n",
    "    print \"Model = \", celltype\n",
    "    print \"Method = \", method\n",
    "    #print \"N_Top_Genes = \", n_top_genes\n",
    "    #print \"Normalization = \", norm\n",
    "    \n",
    "    # Get training data\n",
    "    X, y, genes, df, dfm = geteven_xy(train_fpkm, train_meta, celltype=celltype, norm=norm, sampling=sampling)\n",
    "    \n",
    "\n",
    "    if jumble_train:\n",
    "        print \"---- Entire training set is jumbled ----\\n\"\n",
    "        print df.shape\n",
    "        df = df.apply(np.random.permutation)\n",
    "        X = np.array(df)\n",
    "\n",
    "    # Cross-validation (leave-one-out)\n",
    "    neg_err, pos_err, Q2, neg_accuracy_train, pos_accuracy_train, feature_inds = calc_metrics(X, y, \n",
    "                            method=method, n_pcs=npcs, n_estimators=n_estimators, n_top_genes=n_top_genes)\n",
    "\n",
    "    print \"Q Squared: {0:.2f} \\n\".format(Q2)\n",
    "    num_neg_correct = sum([(e < 0.5) for e in neg_err])\n",
    "    num_pos_correct = sum([(e < 0.5) for e in pos_err])\n",
    "    \n",
    "    print \"\\n===== Training ======\"\n",
    "    print \"Negative: {0:.3f} ({1}/{2}) \".format(neg_accuracy_train, num_neg_correct, len(neg_err))\n",
    "    print \"Positive: {0:.3f} ({1}/{2}) \".format(pos_accuracy_train, num_pos_correct, len(pos_err))\n",
    "    \n",
    "    ## Get most common genes from each LOO model\n",
    "    all_top_feature_inds = [g for m in feature_inds for g in m]\n",
    "    c = Counter(all_top_feature_inds)\n",
    "    top_inds = [i[0] for i in c.most_common(n_top_genes)]\n",
    "    top_genes_train = [genes[i] for i in top_inds]\n",
    "\n",
    "    ## SWITCH OUT TOP GENES WITH RANDOM GENES\n",
    "    if random_genes:\n",
    "        top_genes_train = np.random.choice(genes, n_top_genes)\n",
    "        print \"\\n **Genes for testing are RANDOM** \\n\"\n",
    "\n",
    "    ### BUILDING PREDICTIVE MODEL with top genes\n",
    "    ##############\n",
    "    X_train = np.array(df[top_genes_train])\n",
    "    y_train = np.array(dfm['Pneum'])\n",
    "    \n",
    "    X_test, y_test, genes_test, df_test, dfm_test = getXy(test_fpkm, \n",
    "                    test_meta, celltype=celltype, norm=norm)\n",
    "    \n",
    "    X_test = np.array(df_test[top_genes_train])\n",
    "    \n",
    "    ### TESTING WITH ACTUAL (non-jumbled) GENES\n",
    "    ###############\n",
    "    print \"\\n===== Testing =====\"\n",
    "    \n",
    "    if method=='PLSR': \n",
    "        model = PLSRegression(5, scale=True)\n",
    "        \n",
    "    elif method=='RandomForests': \n",
    "        model = RandomForestClassifier(n_estimators=n_estimators)\n",
    "    else: \n",
    "        print \"Method {} not recognized\".format(method)\n",
    "\n",
    "    model.fit(X_train, y_train)\n",
    "    y_pred = model.predict(X_test)\n",
    "    test_accs = prediction_stats(y_test, y_pred, print_stats=True)\n",
    "    #print \"Neg. test: {0:.3f}\".format(test_accs[0])\n",
    "    #print \"Pos. test: {0:.3f}\".format(test_accs[1])\n",
    "    \n",
    "    if jumble_test:\n",
    "        X_test = np.array(shuffle(df_test[top_genes_train]).T).T\n",
    "\n",
    "#     ### JUMBLING GENES\n",
    "#     ##############\n",
    "#     all_jumble_accs = []\n",
    "#     df_train = df[top_genes_train]\n",
    "\n",
    "#     for i in range(n_jumbles):\n",
    "\n",
    "#         ## Shuffling the test set for training a model\n",
    "#         df_jumble = df_train.apply(np.random.permutation)\n",
    "#         X_jumble = np.array(df_jumble)\n",
    "\n",
    "#         if method=='PLSR': \n",
    "#             model = PLSRegression(5, scale=True)\n",
    "#         elif method=='RandomForests': \n",
    "#             model = RandomForestClassifier(n_estimators=n_estimators)\n",
    "#         else:\n",
    "#             print \"Method {} not recognized\".format(method)\n",
    "\n",
    "#         model.fit(X_jumble, y_train)\n",
    "#         y_pred = model.predict(X_test)\n",
    "        \n",
    "#         accs = prediction_stats(y_test, y_pred)\n",
    "#         all_jumble_accs.append(accs)\n",
    "    \n",
    "#     jumb_accs = np.array(all_jumble_accs).T\n",
    "    \n",
    "#     print \"\\n===== Jumbled =====\"\n",
    "#     jmean_neg, jstd_neg = np.mean(jumb_accs[0]), np.std(jumb_accs[0])\n",
    "#     jmean_pos, jstd_pos = np.mean(jumb_accs[1]), np.std(jumb_accs[1])\n",
    "    \n",
    "#     print \"Neg. mean {0:.3f}, std {1:.3f}\".format(jmean_neg, jstd_neg)\n",
    "#     print \"Pos. mean {0:.3f}, std {1:.3f}\\n\".format(jmean_pos, jstd_pos)\n",
    "    \n",
    "#     print \"Test # Std. above Jumble\"\n",
    "#     neg_std_above_mean = (test_accs[0] - jmean_neg) / jstd_neg\n",
    "#     pos_std_above_mean = (test_accs[1] - jmean_pos) / jstd_pos\n",
    "#     print \"Negative: {0:.2f}\".format(neg_std_above_mean)\n",
    "#     print \"Positive: {0:.2f}\\n\".format(pos_std_above_mean)\n",
    "    \n",
    "#     print \"Negative change {0:.2f}%\".format(float(test_accs[0]-np.mean(jumb_accs[0])) / np.mean(jumb_accs[0]) * 100)\n",
    "#     print \"Positive change {0:.2f}%\".format(float(test_accs[1]-np.mean(jumb_accs[1])) / np.mean(jumb_accs[0]) * 100)                                             \n",
    "#     #neg_accuracy_train, neg_accuracy_test, pos_accuracy_train, pos_accuracy_test"
   ]
  },
  {
   "cell_type": "code",
   "execution_count": 21,
   "metadata": {
    "collapsed": true
   },
   "outputs": [],
   "source": [
    "def prediction_stats(y_test, y_pred, print_stats=False):\n",
    "    \n",
    "    neg_err = [float(abs(y_pred[i]-y_test[i])) for i in range(len(y_pred)) if y_test[i]==0]\n",
    "    num_neg_correct = sum([(e < 0.5) for e in neg_err])\n",
    "    neg_accuracy_test = float(num_neg_correct) / len(neg_err)\n",
    "\n",
    "\n",
    "    pos_err = [float(abs(y_pred[i]-y_test[i])) for i in range(len(y_pred)) if y_test[i]==1]\n",
    "    num_pos_correct = sum([(e < 0.5) for e in pos_err])\n",
    "    pos_accuracy_test = float(num_pos_correct) / len(pos_err)\n",
    "    \n",
    "    if print_stats:\n",
    "        print \"Negative: {0:.3f} ({1}/{2}) \".format(neg_accuracy_test, num_neg_correct, len(neg_err))        \n",
    "        print \"Positive: {0:.3f} ({1}/{2}) \".format(pos_accuracy_test, num_pos_correct, len(pos_err))\n",
    "\n",
    "    return neg_accuracy_test, pos_accuracy_test"
   ]
  },
  {
   "cell_type": "markdown",
   "metadata": {},
   "source": [
    "# Layout for analysis:\n",
    " 1. Get test accuracies, random=False, sampling=False, jumble_train=False\n",
    " 2. Is there meaning in the genes? -> change [1] to have jumble_train=True\n",
    " 3. Is the model based on the top 100 genes better than based on random genes?\n",
    " 4. Is the model based on the top 100 genes better than the jumbled 100 genes"
   ]
  },
  {
   "cell_type": "markdown",
   "metadata": {},
   "source": [
    "# 1. Just the results"
   ]
  },
  {
   "cell_type": "code",
   "execution_count": 35,
   "metadata": {
    "collapsed": false,
    "scrolled": false
   },
   "outputs": [
    {
     "name": "stdout",
     "output_type": "stream",
     "text": [
      "Model =  AM\n",
      "Method =  PLSR\n",
      "Num pos after sampling: 19\n",
      "Num neg after sampling: 30\n",
      "Q Squared: -0.23 \n",
      "\n",
      "\n",
      "===== Training ======\n",
      "Negative: 0.600 (18/30) \n",
      "Positive: 0.632 (12/19) \n",
      "\n",
      "===== Testing =====\n",
      "Negative: 1.000 (14/14) \n",
      "Positive: 0.000 (0/6) \n"
     ]
    }
   ],
   "source": [
    "_ = get_accuracy_stats(celltype='AM', n_top_genes=5, jumble_train=False, #method='RandomForests', \n",
    "                       norm='zscore', random_genes=False, jumble_test=False, sampling='')"
   ]
  },
  {
   "cell_type": "markdown",
   "metadata": {},
   "source": [
    "# 2. Jumble all training data"
   ]
  },
  {
   "cell_type": "code",
   "execution_count": 36,
   "metadata": {
    "collapsed": false,
    "scrolled": false
   },
   "outputs": [
    {
     "name": "stdout",
     "output_type": "stream",
     "text": [
      "Model =  AM\n",
      "Method =  PLSR\n",
      "Num pos after sampling: 19\n",
      "Num neg after sampling: 30\n",
      "---- Entire training set is jumbled ----\n",
      "\n",
      "(49, 11957)\n",
      "Q Squared: -0.44 \n",
      "\n",
      "\n",
      "===== Training ======\n",
      "Negative: 0.567 (17/30) \n",
      "Positive: 0.368 (7/19) \n",
      "\n",
      "===== Testing =====\n",
      "Negative: 1.000 (14/14) \n",
      "Positive: 0.000 (0/6) \n"
     ]
    }
   ],
   "source": [
    "_ = get_accuracy_stats(celltype='AM', n_top_genes=5, jumble_train=True, #method='RandomForests', \n",
    "                       norm='zscore', random_genes=False, jumble_test=False, sampling='')"
   ]
  },
  {
   "cell_type": "markdown",
   "metadata": {},
   "source": [
    "### For PLSR, jumbled training data leads to same training error as original data"
   ]
  },
  {
   "cell_type": "code",
   "execution_count": 241,
   "metadata": {
    "collapsed": false,
    "scrolled": false
   },
   "outputs": [
    {
     "name": "stdout",
     "output_type": "stream",
     "text": [
      "Model =  AM\n",
      "Method =  PLSR\n",
      "N_Top_Genes =  100\n",
      "Normalization =  zscore\n",
      "Jumble Test =  False\n",
      "Num pos after sampling: 19\n",
      "Num neg after sampling: 30\n",
      "Q Squared: -0.69 \n",
      "\n",
      "\n",
      "===== Training ======\n",
      "Negative: 0.733 (22/30) \n",
      "Positive: 0.263 (5/19) \n",
      "\n",
      " **Genes for testing are RANDOM** \n",
      "\n",
      "\n",
      "===== Testing =====\n",
      "Negative: 0.000 (0/14) \n",
      "Positive: 0.167 (1/6) \n",
      "\n",
      "===== Jumbled =====\n",
      "Neg. mean 0.021, std 0.033\n",
      "Pos. mean 0.033, std 0.067\n",
      "\n",
      "Test # Std. above Jumble\n",
      "Negative: -0.65\n",
      "Positive: 2.00\n",
      "\n",
      "Negative change -100.00%\n",
      "Positive change 622.22%\n"
     ]
    }
   ],
   "source": [
    "_ = get_accuracy_stats(celltype='AM', n_top_genes=100, jumble_train=False, #method='RandomForests', \n",
    "                       norm='zscore', random_genes=True, jumble_test=False, sampling=False)"
   ]
  },
  {
   "cell_type": "markdown",
   "metadata": {},
   "source": [
    "### ^^ When using random genes instead of top genes, test accuracy is low"
   ]
  },
  {
   "cell_type": "code",
   "execution_count": 243,
   "metadata": {
    "collapsed": false,
    "scrolled": false
   },
   "outputs": [
    {
     "name": "stdout",
     "output_type": "stream",
     "text": [
      "Model =  CD163\n",
      "Method =  RandomForests\n",
      "N_Top_Genes =  100\n",
      "Normalization =  zscore\n",
      "Jumble Test =  False\n",
      "Num pos after sampling: 15\n",
      "Num neg after sampling: 31\n",
      "Q Squared: -0.09 \n",
      "\n",
      "\n",
      "===== Training ======\n",
      "Negative: 0.968 (30/31) \n",
      "Positive: 0.333 (5/15) \n",
      "\n",
      "===== Testing =====\n",
      "Negative: 0.000 (0/5) \n",
      "Positive: 1.000 (7/7) \n",
      "\n",
      "===== Jumbled =====\n",
      "Neg. mean 0.480, std 0.354\n",
      "Pos. mean 0.479, std 0.253\n",
      "\n",
      "Test # Std. above Jumble\n",
      "Negative: -1.35\n",
      "Positive: 2.06\n",
      "\n",
      "Negative change -100.00%\n",
      "Positive change 108.63%\n"
     ]
    }
   ],
   "source": [
    "_ = get_accuracy_stats(celltype='CD163', n_top_genes=100, jumble_train=False, method='RandomForests', \n",
    "                       norm='zscore', random_genes=False, jumble_test=False, sampling=False)"
   ]
  },
  {
   "cell_type": "code",
   "execution_count": 227,
   "metadata": {
    "collapsed": false,
    "scrolled": false
   },
   "outputs": [
    {
     "name": "stdout",
     "output_type": "stream",
     "text": [
      "Model =  AM\n",
      "Method =  RandomForests\n",
      "N_Top_Genes =  100\n",
      "Normalization =  zscore\n",
      "Jumble Test =  False\n",
      "Num pos after sampling: 19\n",
      "Num neg after sampling: 30\n",
      "Q Squared: -0.89 \n",
      "\n",
      "\n",
      "===== Training ======\n",
      "Negative: 0.700 (21/30) \n",
      "Positive: 0.316 (6/19) \n",
      "\n",
      "===== Testing =====\n",
      "Negative: 0.286 (4/14) \n",
      "Positive: 0.500 (3/6) \n",
      "\n",
      "===== Jumbled =====\n",
      "Neg. mean 0.500, std 0.370\n",
      "Pos. mean 0.467, std 0.375\n",
      "\n",
      "Test # Std. above Jumble\n",
      "Negative: -0.58\n",
      "Positive: 0.09\n",
      "\n",
      "Negative change -42.86%\n",
      "Positive change 6.67%\n"
     ]
    }
   ],
   "source": [
    "_ = get_accuracy_stats(celltype='AM', n_top_genes=100, method='RandomForests', jumble_train=True,\n",
    "                       norm='zscore', random_genes=False, sampling=False)"
   ]
  },
  {
   "cell_type": "code",
   "execution_count": null,
   "metadata": {
    "collapsed": true
   },
   "outputs": [],
   "source": []
  },
  {
   "cell_type": "code",
   "execution_count": 232,
   "metadata": {
    "collapsed": false,
    "scrolled": false
   },
   "outputs": [
    {
     "name": "stdout",
     "output_type": "stream",
     "text": [
      "Model =  AM\n",
      "Method =  RandomForests\n",
      "N_Top_Genes =  100\n",
      "Normalization =  zscore\n",
      "Jumble Test =  False\n",
      "Num pos after sampling: 19\n",
      "Num neg after sampling: 30\n",
      "---- Entire training set is jumbled ----\n",
      "\n",
      "Q Squared: -0.98 \n",
      "\n",
      "\n",
      "===== Training ======\n",
      "Negative: 0.833 (25/30) \n",
      "Positive: 0.053 (1/19) \n",
      "\n",
      "===== Testing =====\n",
      "Negative: 0.286 (4/14) \n",
      "Positive: 0.833 (5/6) \n",
      "\n",
      "===== Jumbled =====\n",
      "Neg. mean 0.786, std 0.262\n",
      "Pos. mean 0.333, std 0.307\n",
      "\n",
      "Test # Std. above Jumble\n",
      "Negative: -1.91\n",
      "Positive: 1.63\n",
      "\n",
      "Negative change -63.64%\n",
      "Positive change 63.64%\n"
     ]
    }
   ],
   "source": [
    "_ = get_accuracy_stats(celltype='AM', n_top_genes=100, method='RandomForests', jumble_train=True,\n",
    "                       norm='zscore', random_genes=False, sampling=False)"
   ]
  },
  {
   "cell_type": "code",
   "execution_count": 233,
   "metadata": {
    "collapsed": false,
    "scrolled": false
   },
   "outputs": [
    {
     "name": "stdout",
     "output_type": "stream",
     "text": [
      "Model =  AM\n",
      "Method =  RandomForests\n",
      "N_Top_Genes =  100\n",
      "Normalization =  zscore\n",
      "Jumble Test =  False\n",
      "Num pos after sampling: 19\n",
      "Num neg after sampling: 30\n",
      "---- Entire training set is jumbled ----\n",
      "\n",
      "Q Squared: -0.89 \n",
      "\n",
      "\n",
      "===== Training ======\n",
      "Negative: 0.833 (25/30) \n",
      "Positive: 0.105 (2/19) \n",
      "\n",
      "===== Testing =====\n",
      "Negative: 0.429 (6/14) \n",
      "Positive: 0.833 (5/6) \n",
      "\n",
      "===== Jumbled =====\n",
      "Neg. mean 0.807, std 0.196\n",
      "Pos. mean 0.267, std 0.322\n",
      "\n",
      "Test # Std. above Jumble\n",
      "Negative: -1.93\n",
      "Positive: 1.76\n",
      "\n",
      "Negative change -46.90%\n",
      "Positive change 70.21%\n"
     ]
    }
   ],
   "source": [
    "_ = get_accuracy_stats(celltype='AM', n_top_genes=100, method='RandomForests', jumble_train=True,\n",
    "                       norm='zscore', random_genes=False, sampling=False)"
   ]
  },
  {
   "cell_type": "markdown",
   "metadata": {},
   "source": [
    "# PLSR predictions, down-sampling"
   ]
  },
  {
   "cell_type": "code",
   "execution_count": 202,
   "metadata": {
    "collapsed": true
   },
   "outputs": [],
   "source": [
    "## When top genes are replaec with random genes, testing and jumbling predictions -> 0"
   ]
  },
  {
   "cell_type": "code",
   "execution_count": 201,
   "metadata": {
    "collapsed": false,
    "scrolled": false
   },
   "outputs": [
    {
     "name": "stdout",
     "output_type": "stream",
     "text": [
      "Model =  AM\n",
      "Method =  PLSR\n",
      "N_Top_Genes =  100\n",
      "Normalization =  zscore\n",
      "Jumble Test =  False\n",
      "Num pos after sampling: 19\n",
      "Num neg after sampling: 19\n",
      "Q Squared: -0.62 \n",
      "\n",
      "\n",
      "===== Training ======\n",
      "Negative: 0.474 (9/19) \n",
      "Positive: 0.368 (7/19) \n",
      "\n",
      " **Genes for testing are RANDOM** \n",
      "\n",
      "\n",
      "===== Testing =====\n",
      "Negative: 0.000 (0/14) \n",
      "Positive: 0.000 (0/6) \n",
      "\n",
      "===== Jumbled =====\n",
      "Neg. mean 0.004, std 0.016\n",
      "Pos. mean 0.000, std 0.000\n",
      "\n",
      "Improvement (Test) vs. Jumbled\n",
      "Negative change -100.00%\n",
      "Positive change 0.00%\n"
     ]
    }
   ],
   "source": [
    "_ = get_accuracy_stats(celltype='AM', n_top_genes=100, \n",
    "                       norm='zscore', random_genes=True, jumble_test=False, sampling='down')"
   ]
  },
  {
   "cell_type": "code",
   "execution_count": null,
   "metadata": {
    "collapsed": true
   },
   "outputs": [],
   "source": [
    "## With the top genes, prediction using jumbled training -> 50/50 (chance but with large deviation)\n",
    "## Testing -> 100% negative, 0% positive"
   ]
  },
  {
   "cell_type": "code",
   "execution_count": 203,
   "metadata": {
    "collapsed": false,
    "scrolled": false
   },
   "outputs": [
    {
     "name": "stdout",
     "output_type": "stream",
     "text": [
      "Model =  AM\n",
      "Method =  PLSR\n",
      "N_Top_Genes =  100\n",
      "Normalization =  zscore\n",
      "Jumble Test =  False\n",
      "Num pos after sampling: 19\n",
      "Num neg after sampling: 19\n",
      "Q Squared: -0.47 \n",
      "\n",
      "\n",
      "===== Training ======\n",
      "Negative: 0.632 (12/19) \n",
      "Positive: 0.579 (11/19) \n",
      "\n",
      "===== Testing =====\n",
      "Negative: 1.000 (14/14) \n",
      "Positive: 0.000 (0/6) \n",
      "\n",
      "===== Jumbled =====\n",
      "Neg. mean 0.439, std 0.456\n",
      "Pos. mean 0.517, std 0.456\n",
      "\n",
      "Improvement (Test) vs. Jumbled\n",
      "Negative change 127.64%\n",
      "Positive change -117.62%\n"
     ]
    }
   ],
   "source": [
    "_ = get_accuracy_stats(celltype='AM', n_top_genes=100, \n",
    "                       norm='zscore', random_genes=False, jumble_test=False, sampling='down')"
   ]
  },
  {
   "cell_type": "markdown",
   "metadata": {},
   "source": [
    "# PLSR predictions, up-sampling"
   ]
  },
  {
   "cell_type": "code",
   "execution_count": 202,
   "metadata": {
    "collapsed": true
   },
   "outputs": [],
   "source": [
    "## When top genes are replaec with random genes, testing and jumbling predictions -> 0"
   ]
  },
  {
   "cell_type": "code",
   "execution_count": 204,
   "metadata": {
    "collapsed": false,
    "scrolled": false
   },
   "outputs": [
    {
     "name": "stdout",
     "output_type": "stream",
     "text": [
      "Model =  AM\n",
      "Method =  PLSR\n",
      "N_Top_Genes =  100\n",
      "Normalization =  zscore\n",
      "Jumble Test =  False\n",
      "Num pos after sampling: 30\n",
      "Num neg after sampling: 30\n",
      "Q Squared: 0.11 \n",
      "\n",
      "\n",
      "===== Training ======\n",
      "Negative: 0.700 (21/30) \n",
      "Positive: 0.767 (23/30) \n",
      "\n",
      " **Genes for testing are RANDOM** \n",
      "\n",
      "\n",
      "===== Testing =====\n",
      "Negative: 0.000 (0/14) \n",
      "Positive: 0.000 (0/6) \n",
      "\n",
      "===== Jumbled =====\n",
      "Neg. mean 0.000, std 0.000\n",
      "Pos. mean 0.000, std 0.000\n",
      "\n",
      "Improvement (Test) vs. Jumbled\n",
      "Negative change nan%\n",
      "Positive change nan%\n"
     ]
    }
   ],
   "source": [
    "_ = get_accuracy_stats(celltype='AM', n_top_genes=100, \n",
    "                       norm='zscore', random_genes=True, jumble_test=False, sampling='up')"
   ]
  },
  {
   "cell_type": "code",
   "execution_count": null,
   "metadata": {
    "collapsed": true
   },
   "outputs": [],
   "source": [
    "## With the top genes, prediction using jumbled training -> 50/50 (chance but with large deviation)\n",
    "## Testing -> 100% negative, 0% positive"
   ]
  },
  {
   "cell_type": "code",
   "execution_count": 205,
   "metadata": {
    "collapsed": false,
    "scrolled": false
   },
   "outputs": [
    {
     "name": "stdout",
     "output_type": "stream",
     "text": [
      "Model =  AM\n",
      "Method =  PLSR\n",
      "N_Top_Genes =  100\n",
      "Normalization =  zscore\n",
      "Jumble Test =  False\n",
      "Num pos after sampling: 30\n",
      "Num neg after sampling: 30\n",
      "Q Squared: -0.06 \n",
      "\n",
      "\n",
      "===== Training ======\n",
      "Negative: 0.733 (22/30) \n",
      "Positive: 0.733 (22/30) \n",
      "\n",
      "===== Testing =====\n",
      "Negative: 0.786 (11/14) \n",
      "Positive: 0.000 (0/6) \n",
      "\n",
      "===== Jumbled =====\n",
      "Neg. mean 0.436, std 0.445\n",
      "Pos. mean 0.542, std 0.428\n",
      "\n",
      "Improvement (Test) vs. Jumbled\n",
      "Negative change 80.33%\n",
      "Positive change -124.32%\n"
     ]
    }
   ],
   "source": [
    "_ = get_accuracy_stats(celltype='AM', n_top_genes=100, \n",
    "                       norm='zscore', random_genes=False, jumble_test=False, sampling='up')"
   ]
  },
  {
   "cell_type": "markdown",
   "metadata": {},
   "source": [
    "# PLSR predictions, original data"
   ]
  },
  {
   "cell_type": "code",
   "execution_count": 202,
   "metadata": {
    "collapsed": true
   },
   "outputs": [],
   "source": [
    "## When top genes are replaec with random genes, testing and jumbling predictions -> 0"
   ]
  },
  {
   "cell_type": "code",
   "execution_count": 206,
   "metadata": {
    "collapsed": false,
    "scrolled": false
   },
   "outputs": [
    {
     "name": "stdout",
     "output_type": "stream",
     "text": [
      "Model =  AM\n",
      "Method =  PLSR\n",
      "N_Top_Genes =  100\n",
      "Normalization =  zscore\n",
      "Jumble Test =  False\n",
      "Num pos after sampling: 19\n",
      "Num neg after sampling: 30\n",
      "Q Squared: -0.69 \n",
      "\n",
      "\n",
      "===== Training ======\n",
      "Negative: 0.733 (22/30) \n",
      "Positive: 0.263 (5/19) \n",
      "\n",
      " **Genes for testing are RANDOM** \n",
      "\n",
      "\n",
      "===== Testing =====\n",
      "Negative: 0.000 (0/14) \n",
      "Positive: 0.167 (1/6) \n",
      "\n",
      "===== Jumbled =====\n",
      "Neg. mean 0.007, std 0.021\n",
      "Pos. mean 0.000, std 0.000\n",
      "\n",
      "Improvement (Test) vs. Jumbled\n",
      "Negative change -100.00%\n",
      "Positive change 2333.33%\n"
     ]
    }
   ],
   "source": [
    "_ = get_accuracy_stats(celltype='AM', n_top_genes=100, \n",
    "                       norm='zscore', random_genes=True, jumble_test=False, sampling=False)"
   ]
  },
  {
   "cell_type": "code",
   "execution_count": null,
   "metadata": {
    "collapsed": true
   },
   "outputs": [],
   "source": [
    "## With the top genes, prediction using jumbled training -> 50/50 (chance but with large deviation)\n",
    "## Testing -> 100% negative, 0% positive"
   ]
  },
  {
   "cell_type": "code",
   "execution_count": 207,
   "metadata": {
    "collapsed": false,
    "scrolled": false
   },
   "outputs": [
    {
     "name": "stdout",
     "output_type": "stream",
     "text": [
      "Model =  AM\n",
      "Method =  PLSR\n",
      "N_Top_Genes =  100\n",
      "Normalization =  zscore\n",
      "Jumble Test =  False\n",
      "Num pos after sampling: 19\n",
      "Num neg after sampling: 30\n",
      "Q Squared: -0.69 \n",
      "\n",
      "\n",
      "===== Training ======\n",
      "Negative: 0.733 (22/30) \n",
      "Positive: 0.263 (5/19) \n",
      "\n",
      "===== Testing =====\n",
      "Negative: 1.000 (14/14) \n",
      "Positive: 0.000 (0/6) \n",
      "\n",
      "===== Jumbled =====\n",
      "Neg. mean 0.486, std 0.463\n",
      "Pos. mean 0.458, std 0.465\n",
      "\n",
      "Improvement (Test) vs. Jumbled\n",
      "Negative change 105.88%\n",
      "Positive change -94.36%\n"
     ]
    }
   ],
   "source": [
    "_ = get_accuracy_stats(celltype='AM', n_top_genes=100, \n",
    "                       norm='zscore', random_genes=False, jumble_test=False, sampling=False)"
   ]
  },
  {
   "cell_type": "code",
   "execution_count": 208,
   "metadata": {
    "collapsed": false
   },
   "outputs": [
    {
     "name": "stdout",
     "output_type": "stream",
     "text": [
      "Model =  CD163\n",
      "Method =  PLSR\n",
      "N_Top_Genes =  100\n",
      "Normalization =  zscore\n",
      "Jumble Test =  False\n",
      "Num pos after sampling: 15\n",
      "Num neg after sampling: 31\n",
      "Q Squared: 0.12 \n",
      "\n",
      "\n",
      "===== Training ======\n",
      "Negative: 0.968 (30/31) \n",
      "Positive: 0.467 (7/15) \n",
      "\n",
      "===== Testing =====\n",
      "Negative: 0.000 (0/5) \n",
      "Positive: 1.000 (7/7) \n",
      "\n",
      "===== Jumbled =====\n",
      "Neg. mean 0.630, std 0.439\n",
      "Pos. mean 0.243, std 0.391\n",
      "\n",
      "Improvement (Test) vs. Jumbled\n",
      "Negative change -100.00%\n",
      "Positive change 120.18%\n"
     ]
    }
   ],
   "source": [
    "_ = get_accuracy_stats(celltype='CD163', n_top_genes=100, \n",
    "                       norm='zscore', random_genes=False, jumble_test=False)"
   ]
  },
  {
   "cell_type": "code",
   "execution_count": 136,
   "metadata": {
    "collapsed": false
   },
   "outputs": [
    {
     "name": "stdout",
     "output_type": "stream",
     "text": [
      "Model =  CD163\n",
      "Method =  PLSR\n",
      "N_Top_Genes =  10\n",
      "Normalization =  zscore\n",
      "Jumble Test =  False\n",
      "Q Squared: -0.11 \n",
      "\n",
      "\n",
      "===== Training ======\n",
      "Negative: 0.903 (28/31) \n",
      "Positive: 0.267 (4/15) \n",
      "\n",
      "===== Testing =====\n",
      "Negative: 0.800 (4/5) \n",
      "Positive: 0.429 (3/7) \n",
      "\n",
      "===== Jumbled =====\n",
      "Neg. mean 0.780, std 0.166\n",
      "Pos. mean 0.286, std 0.128\n",
      "\n",
      "Improvement (Test) vs. Jumbled\n",
      "Negative change 2.56%\n",
      "Positive change 18.32%\n"
     ]
    }
   ],
   "source": [
    "_ = get_accuracy_stats(celltype='CD163', n_top_genes=10, \n",
    "                       norm='zscore', random_genes=False, jumble_test=False)"
   ]
  },
  {
   "cell_type": "markdown",
   "metadata": {},
   "source": [
    "# PLSR predictions"
   ]
  },
  {
   "cell_type": "code",
   "execution_count": 146,
   "metadata": {
    "collapsed": false,
    "scrolled": false
   },
   "outputs": [
    {
     "name": "stdout",
     "output_type": "stream",
     "text": [
      "Model =  AM\n",
      "Method =  PLSR\n",
      "N_Top_Genes =  100\n",
      "Normalization =  zscore\n",
      "Jumble Test =  False\n",
      "Q Squared: -0.33 \n",
      "\n",
      "\n",
      "===== Training ======\n",
      "Negative: 0.700 (21/30) \n",
      "Positive: 0.105 (2/19) \n",
      "\n",
      "===== Testing =====\n",
      "Negative: 0.857 (12/14) \n",
      "Positive: 0.667 (4/6) \n",
      "\n",
      "===== Jumbled =====\n",
      "Neg. mean 0.736, std 0.109\n",
      "Pos. mean 0.308, std 0.231\n",
      "\n",
      "Improvement (Test) vs. Jumbled\n",
      "Negative change 16.50%\n",
      "Positive change 48.71%\n"
     ]
    }
   ],
   "source": [
    "_ = get_accuracy_stats(celltype='AM', n_top_genes=100, \n",
    "                       norm='zscore', random_genes=False, jumble_test=False)"
   ]
  },
  {
   "cell_type": "code",
   "execution_count": 140,
   "metadata": {
    "collapsed": false
   },
   "outputs": [
    {
     "name": "stdout",
     "output_type": "stream",
     "text": [
      "Model =  AM\n",
      "Method =  PLSR\n",
      "N_Top_Genes =  10\n",
      "Normalization =  zscore\n",
      "Jumble Test =  False\n",
      "Q Squared: -0.14 \n",
      "\n",
      "\n",
      "===== Training ======\n",
      "Negative: 0.733 (22/30) \n",
      "Positive: 0.368 (7/19) \n",
      "\n",
      "===== Testing =====\n",
      "Negative: 0.571 (8/14) \n",
      "Positive: 0.333 (2/6) \n",
      "\n",
      "===== Jumbled =====\n",
      "Neg. mean 0.754, std 0.094\n",
      "Pos. mean 0.650, std 0.229\n",
      "\n",
      "Improvement (Test) vs. Jumbled\n",
      "Negative change -24.17%\n",
      "Positive change -42.02%\n"
     ]
    }
   ],
   "source": [
    "_ = get_accuracy_stats(celltype='AM', n_top_genes=10, \n",
    "                       norm='zscore', random_genes=False, jumble_test=False)"
   ]
  },
  {
   "cell_type": "code",
   "execution_count": 141,
   "metadata": {
    "collapsed": false
   },
   "outputs": [
    {
     "name": "stdout",
     "output_type": "stream",
     "text": [
      "Model =  CD163\n",
      "Method =  PLSR\n",
      "N_Top_Genes =  100\n",
      "Normalization =  zscore\n",
      "Jumble Test =  False\n",
      "Q Squared: -0.13 \n",
      "\n",
      "\n",
      "===== Training ======\n",
      "Negative: 0.968 (30/31) \n",
      "Positive: 0.067 (1/15) \n",
      "\n",
      "===== Testing =====\n",
      "Negative: 1.000 (5/5) \n",
      "Positive: 0.286 (2/7) \n",
      "\n",
      "===== Jumbled =====\n",
      "Neg. mean 0.870, std 0.131\n",
      "Pos. mean 0.157, std 0.149\n",
      "\n",
      "Improvement (Test) vs. Jumbled\n",
      "Negative change 14.94%\n",
      "Positive change 14.78%\n"
     ]
    }
   ],
   "source": [
    "_ = get_accuracy_stats(celltype='CD163', n_top_genes=100, \n",
    "                       norm='zscore', random_genes=False, jumble_test=False)"
   ]
  },
  {
   "cell_type": "code",
   "execution_count": 136,
   "metadata": {
    "collapsed": false
   },
   "outputs": [
    {
     "name": "stdout",
     "output_type": "stream",
     "text": [
      "Model =  CD163\n",
      "Method =  PLSR\n",
      "N_Top_Genes =  10\n",
      "Normalization =  zscore\n",
      "Jumble Test =  False\n",
      "Q Squared: -0.11 \n",
      "\n",
      "\n",
      "===== Training ======\n",
      "Negative: 0.903 (28/31) \n",
      "Positive: 0.267 (4/15) \n",
      "\n",
      "===== Testing =====\n",
      "Negative: 0.800 (4/5) \n",
      "Positive: 0.429 (3/7) \n",
      "\n",
      "===== Jumbled =====\n",
      "Neg. mean 0.780, std 0.166\n",
      "Pos. mean 0.286, std 0.128\n",
      "\n",
      "Improvement (Test) vs. Jumbled\n",
      "Negative change 2.56%\n",
      "Positive change 18.32%\n"
     ]
    }
   ],
   "source": [
    "_ = get_accuracy_stats(celltype='CD163', n_top_genes=10, \n",
    "                       norm='zscore', random_genes=False, jumble_test=False)"
   ]
  },
  {
   "cell_type": "markdown",
   "metadata": {},
   "source": [
    "# RF predictions"
   ]
  },
  {
   "cell_type": "code",
   "execution_count": 142,
   "metadata": {
    "collapsed": false,
    "scrolled": false
   },
   "outputs": [
    {
     "name": "stdout",
     "output_type": "stream",
     "text": [
      "Model =  AM\n",
      "Method =  RandomForests\n",
      "N_Top_Genes =  100\n",
      "Normalization =  zscore\n",
      "Jumble Test =  False\n",
      "Q Squared: -1.15 \n",
      "\n",
      "\n",
      "===== Training ======\n",
      "Negative: 0.667 (20/30) \n",
      "Positive: 0.211 (4/19) \n",
      "\n",
      "===== Testing =====\n",
      "Negative: 0.857 (12/14) \n",
      "Positive: 0.833 (5/6) \n",
      "\n",
      "===== Jumbled =====\n",
      "Neg. mean 0.889, std 0.086\n",
      "Pos. mean 0.217, std 0.183\n",
      "\n",
      "Improvement (Test) vs. Jumbled\n",
      "Negative change -3.61%\n",
      "Positive change 69.34%\n"
     ]
    }
   ],
   "source": [
    "dft = get_accuracy_stats(celltype='AM', n_top_genes=100, method='RandomForests',\n",
    "                       norm='zscore', random_genes=False, jumble_test=False)"
   ]
  },
  {
   "cell_type": "code",
   "execution_count": 143,
   "metadata": {
    "collapsed": false
   },
   "outputs": [
    {
     "name": "stdout",
     "output_type": "stream",
     "text": [
      "Model =  AM\n",
      "Method =  RandomForests\n",
      "N_Top_Genes =  10\n",
      "Normalization =  zscore\n",
      "Jumble Test =  False\n",
      "Q Squared: -0.81 \n",
      "\n",
      "\n",
      "===== Training ======\n",
      "Negative: 0.700 (21/30) \n",
      "Positive: 0.368 (7/19) \n",
      "\n",
      "===== Testing =====\n",
      "Negative: 0.929 (13/14) \n",
      "Positive: 0.500 (3/6) \n",
      "\n",
      "===== Jumbled =====\n",
      "Neg. mean 0.764, std 0.161\n",
      "Pos. mean 0.183, std 0.217\n",
      "\n",
      "Improvement (Test) vs. Jumbled\n",
      "Negative change 21.50%\n",
      "Positive change 41.43%\n"
     ]
    }
   ],
   "source": [
    "_ = get_accuracy_stats(celltype='AM', n_top_genes=10, method='RandomForests',\n",
    "                       norm='zscore', random_genes=False, jumble_test=False)"
   ]
  },
  {
   "cell_type": "code",
   "execution_count": 144,
   "metadata": {
    "collapsed": false
   },
   "outputs": [
    {
     "name": "stdout",
     "output_type": "stream",
     "text": [
      "Model =  CD163\n",
      "Method =  RandomForests\n",
      "N_Top_Genes =  100\n",
      "Normalization =  zscore\n",
      "Jumble Test =  False\n",
      "Q Squared: -0.09 \n",
      "\n",
      "\n",
      "===== Training ======\n",
      "Negative: 0.935 (29/31) \n",
      "Positive: 0.400 (6/15) \n",
      "\n",
      "===== Testing =====\n",
      "Negative: 1.000 (5/5) \n",
      "Positive: 0.429 (3/7) \n",
      "\n",
      "===== Jumbled =====\n",
      "Neg. mean 0.920, std 0.098\n",
      "Pos. mean 0.079, std 0.106\n",
      "\n",
      "Improvement (Test) vs. Jumbled\n",
      "Negative change 8.70%\n",
      "Positive change 38.04%\n"
     ]
    }
   ],
   "source": [
    "_ = get_accuracy_stats(celltype='CD163', n_top_genes=100, method='RandomForests',\n",
    "                       norm='zscore', random_genes=False, jumble_test=False)"
   ]
  },
  {
   "cell_type": "code",
   "execution_count": 145,
   "metadata": {
    "collapsed": false
   },
   "outputs": [
    {
     "name": "stdout",
     "output_type": "stream",
     "text": [
      "Model =  CD163\n",
      "Method =  RandomForests\n",
      "N_Top_Genes =  10\n",
      "Normalization =  zscore\n",
      "Jumble Test =  False\n",
      "Q Squared: -0.78 \n",
      "\n",
      "\n",
      "===== Training ======\n",
      "Negative: 0.742 (23/31) \n",
      "Positive: 0.333 (5/15) \n",
      "\n",
      "===== Testing =====\n",
      "Negative: 1.000 (5/5) \n",
      "Positive: 0.429 (3/7) \n",
      "\n",
      "===== Jumbled =====\n",
      "Neg. mean 0.900, std 0.118\n",
      "Pos. mean 0.179, std 0.174\n",
      "\n",
      "Improvement (Test) vs. Jumbled\n",
      "Negative change 11.11%\n",
      "Positive change 27.78%\n"
     ]
    }
   ],
   "source": [
    "_ = get_accuracy_stats(celltype='CD163', n_top_genes=10, method='RandomForests',\n",
    "                       norm='zscore', random_genes=False, jumble_test=False)"
   ]
  },
  {
   "cell_type": "markdown",
   "metadata": {},
   "source": [
    "## AM testing, PLS Vs RF"
   ]
  },
  {
   "cell_type": "markdown",
   "metadata": {},
   "source": [
    "### 100 genes"
   ]
  },
  {
   "cell_type": "code",
   "execution_count": null,
   "metadata": {
    "collapsed": false
   },
   "outputs": [],
   "source": [
    "_ = get_accuracy_stats(celltype='AM', n_top_genes=100, norm='zscore', random_genes=False)"
   ]
  },
  {
   "cell_type": "code",
   "execution_count": null,
   "metadata": {
    "collapsed": false
   },
   "outputs": [],
   "source": [
    "_ = get_accuracy_stats(celltype='AM', method='RandomForests', n_top_genes=100, norm='zscore', random_genes=False)"
   ]
  },
  {
   "cell_type": "markdown",
   "metadata": {},
   "source": [
    "### 10 genes"
   ]
  },
  {
   "cell_type": "code",
   "execution_count": null,
   "metadata": {
    "collapsed": false
   },
   "outputs": [],
   "source": [
    "_ = get_accuracy_stats(celltype='AM', n_top_genes=10, norm='zscore', random_genes=False)"
   ]
  },
  {
   "cell_type": "code",
   "execution_count": null,
   "metadata": {
    "collapsed": false
   },
   "outputs": [],
   "source": [
    "_ = get_accuracy_stats(celltype='AM', method='RandomForests', n_top_genes=10, norm='zscore', random_genes=False)"
   ]
  },
  {
   "cell_type": "markdown",
   "metadata": {},
   "source": [
    "### 10 genes, random"
   ]
  },
  {
   "cell_type": "code",
   "execution_count": null,
   "metadata": {
    "collapsed": false
   },
   "outputs": [],
   "source": [
    "_ = get_accuracy_stats(celltype='AM', n_top_genes=10, norm='zscore', random_genes=True)"
   ]
  },
  {
   "cell_type": "code",
   "execution_count": null,
   "metadata": {
    "collapsed": false
   },
   "outputs": [],
   "source": [
    "_ = get_accuracy_stats(celltype='AM', method='RandomForests', n_top_genes=10, norm='zscore', random_genes=True)"
   ]
  },
  {
   "cell_type": "code",
   "execution_count": null,
   "metadata": {
    "collapsed": true
   },
   "outputs": [],
   "source": []
  },
  {
   "cell_type": "markdown",
   "metadata": {
    "collapsed": true
   },
   "source": [
    "## Calc metrics()"
   ]
  },
  {
   "cell_type": "markdown",
   "metadata": {},
   "source": [
    "## Train clustering"
   ]
  },
  {
   "cell_type": "code",
   "execution_count": null,
   "metadata": {
    "collapsed": false
   },
   "outputs": [],
   "source": [
    "plot_cluster(df_train_top, dfm_train)"
   ]
  },
  {
   "cell_type": "markdown",
   "metadata": {},
   "source": [
    "## Test clustering"
   ]
  },
  {
   "cell_type": "code",
   "execution_count": null,
   "metadata": {
    "collapsed": false
   },
   "outputs": [],
   "source": [
    "plot_cluster(df_test_top, dfm_test)"
   ]
  },
  {
   "cell_type": "markdown",
   "metadata": {},
   "source": [
    "# AM predictions, clustering"
   ]
  },
  {
   "cell_type": "code",
   "execution_count": null,
   "metadata": {
    "collapsed": false
   },
   "outputs": [],
   "source": [
    "top_genes_train, df_train_top, dfm_train, df_test_top, dfm_test = get_accuracy_stats(celltype='AM', n_top_genes=120, norm='zsc', random_genes=False)"
   ]
  },
  {
   "cell_type": "code",
   "execution_count": null,
   "metadata": {
    "collapsed": false
   },
   "outputs": [],
   "source": [
    "plot_cluster(df_test_top, dfm_test)"
   ]
  },
  {
   "cell_type": "code",
   "execution_count": null,
   "metadata": {
    "collapsed": false
   },
   "outputs": [],
   "source": [
    "plot_cluster(df_train_top, dfm_train)"
   ]
  },
  {
   "cell_type": "markdown",
   "metadata": {},
   "source": [
    "## +++++"
   ]
  },
  {
   "cell_type": "code",
   "execution_count": null,
   "metadata": {
    "collapsed": true
   },
   "outputs": [],
   "source": [
    "def plot_cluster(df, dfm):\n",
    "    \n",
    "    dfz = df.apply(zscore, axis=1)\n",
    "    dfz = dfz.apply(zscore, axis=0)\n",
    "    dfplot = dfz.T\n",
    "\n",
    "    dfplot = dfplot.rename(columns={c: dfm.loc[c,'Pneum'] for c in dfplot.columns})\n",
    "\n",
    "    dfplot.columns\n",
    "    fig = sns.clustermap(dfplot, col_cluster=True)"
   ]
  },
  {
   "cell_type": "code",
   "execution_count": null,
   "metadata": {
    "collapsed": false
   },
   "outputs": [],
   "source": [
    "plot_cluster(df_test_top, dfm_test)"
   ]
  },
  {
   "cell_type": "code",
   "execution_count": null,
   "metadata": {
    "collapsed": false
   },
   "outputs": [],
   "source": [
    "plot_cluster(df_train_top, dfm_train)"
   ]
  },
  {
   "cell_type": "code",
   "execution_count": null,
   "metadata": {
    "collapsed": false
   },
   "outputs": [],
   "source": [
    "#determine the best number of genes for the training model\n",
    "def plotQ2(r=np.arange(10,205,5), celltype=False, z=True):\n",
    "    Q2s = []\n",
    "    for n_top_genes in tqdm(r):\n",
    "        X, y, genes, df, dfm = geteven_xy(train_fpkm, meta, celltype=celltype, norm='zsc')\n",
    "        neg_err, pos_err, Q2, neg_corr, pos_corr, vip_inds = calc_metrics(X, y, \n",
    "                                                        n_pcs=5, n_top_genes=n_top_genes)\n",
    "        Q2s.append(Q2)\n",
    "    plt.plot(r, Q2s)\n",
    "    return None #Q2s"
   ]
  },
  {
   "cell_type": "code",
   "execution_count": null,
   "metadata": {
    "collapsed": false
   },
   "outputs": [],
   "source": [
    "plotQ2(r=np.arange(10,155,10), celltype='AM')"
   ]
  },
  {
   "cell_type": "code",
   "execution_count": null,
   "metadata": {
    "collapsed": false
   },
   "outputs": [],
   "source": [
    "plotQ2(r=np.arange(10,155,5), celltype='CD163')"
   ]
  },
  {
   "cell_type": "code",
   "execution_count": 10,
   "metadata": {
    "collapsed": true
   },
   "outputs": [],
   "source": [
    "def vipp(x, y, t, w):\n",
    "\n",
    "    \"\"\"\n",
    "    From original MATLAB code\n",
    "    See https://code.google.com/p/carspls/\n",
    "\n",
    "    #+++ vip=vipp(x,y,t,w);\n",
    "    #+++ t: scores, which can be obtained by pls_nipals.m\n",
    "    #+++ w: weight, which can be obtained by pls_nipals.m\n",
    "    #+++ to calculate the vip for each variable to the response;\n",
    "    #+++ vip=sqrt(p*q/s);\n",
    "    \"\"\"\n",
    "    #initializing\n",
    "    [p, h] = w.shape\n",
    "    co = np.matrix(np.zeros([1, h]))\n",
    "\n",
    "    # Calculate s\n",
    "    for ii in range(h):\n",
    "        corr = np.corrcoef(y, t[:, ii], rowvar=0)\n",
    "        co[0, ii] = corr[0, 1]**2\n",
    "    s = np.sum(co)\n",
    "\n",
    "    # Calculate q\n",
    "    # This has been linearized to replace the original nested for loop\n",
    "    w_power = np.power(w, 2)\n",
    "    d = np.multiply(w_power, co)\n",
    "    q = np.sum(d, 1)\n",
    "    vip = np.sqrt(p*q/s)\n",
    "    return vip"
   ]
  },
  {
   "cell_type": "code",
   "execution_count": 9,
   "metadata": {
    "collapsed": false
   },
   "outputs": [],
   "source": [
    "def calc_metrics(X, y, n_pcs, n_estimators, n_top_genes, method='PLSR'):\n",
    "    \n",
    "    n_samples = len(X)\n",
    "    pred = []\n",
    "    feat_inds_all = []\n",
    "    #print X.shape, y.shape\n",
    "    \n",
    "    ### Leave-One-Out Cross-validation\n",
    "    \n",
    "    for sample in range(n_samples):\n",
    "        samples = range(n_samples)\n",
    "        samples.remove(sample)\n",
    "        X_train = X[(samples)]\n",
    "        y_train = y[(samples)]\n",
    "        #print X_t.shape    \n",
    "        \n",
    "        if method=='PLSR':### Get VIPs for model built without the LOO sample\n",
    "            plsv = PLSRegression(n_pcs, scale=False)\n",
    "            plsv.fit(X_train, y_train)\n",
    "            vips = vipp(X_train, y_train, plsv.x_scores_, plsv.x_weights_)\n",
    "            vips = [float(v) for v in vips]\n",
    "            vip_inds = np.argsort(vips)[::-1][:n_top_genes]\n",
    "            feat_inds_all.append(vip_inds)\n",
    "\n",
    "            ### Xn takes the original X to get the loo sample\n",
    "            X_top_features = X.T[vip_inds].T\n",
    "            loo_sample = np.array(X_top_features[sample]).reshape((1,-1))\n",
    "\n",
    "            ### Filter the samples \n",
    "            X_train_top_features = X_train.T[vip_inds].T\n",
    "            pls = PLSRegression(n_pcs, scale=False)\n",
    "            pls.fit(X_train_top_features, y_train)\n",
    "            pred.append(float(pls.predict(loo_sample)))\n",
    "\n",
    "        \n",
    "        elif method=='RandomForests':        ### Get VIPs for model built without the LOO sample\n",
    "            rfc = RandomForestClassifier(n_estimators=n_estimators)\n",
    "            rfc.fit(X_train, y_train)\n",
    "            feat_imp = rfc.feature_importances_\n",
    "            feat_inds = np.argsort(feat_imp)[::-1][:n_top_genes]\n",
    "            feat_inds_all.append(feat_inds)\n",
    "\n",
    "            ### Xn takes the original X to get the loo sample\n",
    "            X_top_features = X.T[feat_inds].T\n",
    "            loo_sample = np.array(X_top_features[sample]).reshape((1,-1))\n",
    "\n",
    "            ### Filter the samples \n",
    "            X_train_top_features = X_train.T[feat_inds].T\n",
    "            rfc = RandomForestClassifier(n_estimators=n_estimators)\n",
    "            rfc.fit(X_train_top_features, y_train)\n",
    "\n",
    "            #print \"prediction: \", float(rfc.predict(loo_sample))\n",
    "            pred.append(float(rfc.predict(loo_sample)))\n",
    "        \n",
    "        else:\n",
    "            print \"Method {} not found\".format(method)\n",
    "            \n",
    "\n",
    "    # Calculate metrics\n",
    "    ### Q squared\n",
    "    num = sum([float((pred[i] - y[i]))**2 for i in range(len(pred))])\n",
    "    den = sum([(y[i] - np.mean(y))**2 for i in range(len(pred))])\n",
    "    Q2 = float(1 - num/den)\n",
    "\n",
    "    ### Prediction error\n",
    "    errs = [abs(float((pred[i] - y[i]))) for i in range(len(pred))]\n",
    " \n",
    "    ### Percent correct for neg and pos Pneumonia\n",
    "    neg_err = [errs[i] for i in range(len(errs)) if y[i]==0]  \n",
    "    neg_corr = [e < 0.5 for e in neg_err]   \n",
    "    neg_corr = float(sum(neg_corr)) / len(neg_err)\n",
    "\n",
    "    \n",
    "    pos_err = [errs[i] for i in range(len(errs)) if y[i]==1]\n",
    "    pos_corr = [e < 0.5 for e in pos_err]\n",
    "    pos_corr = float(sum(pos_corr)) / len(pos_err)\n",
    "    \n",
    "\n",
    "    #print \"num: {0: .3f}, den: {1: .3f}, \n",
    "    #print \"Q^2: {0: .3f}\".format(Q2)\n",
    "    \n",
    "    return neg_err, pos_err, Q2, neg_corr, pos_corr, feat_inds_all\n",
    "    #return [float(abs(pred[p] - y[p])) for p in range(len(pred))]"
   ]
  },
  {
   "cell_type": "code",
   "execution_count": null,
   "metadata": {
    "collapsed": true
   },
   "outputs": [],
   "source": [
    "def calc_Q2_kftest(X, y, k=5, n_rand=10, n_pcs=5, method='PLSR'):\n",
    "    n_samples = len(X)\n",
    "    pred = []\n",
    "    Q2s = []\n",
    "    for ki in range(n_rand):\n",
    "        sample_ind = range(n_samples)\n",
    "        withheld_samples = random.sample(sample_ind, k)\n",
    "        lo_samples = X[withheld_samples]\n",
    "        for s in withheld_samples:\n",
    "            sample_ind.remove(s)\n",
    "        X_t = X[(sample_ind)]\n",
    "        y_t = y[(sample_ind)]\n",
    "        if method=='PLSR':\n",
    "            model = PLSRegression(n_pcs, scale=False)\n",
    "        elif method=='RF':\n",
    "            model = RandomForestClassifier()\n",
    "        elif method=='SVM':\n",
    "            model = SVC()\n",
    "        else:\n",
    "            print \"Method not found\"\n",
    "        model.fit(X_t, y_t)\n",
    "\n",
    "        for s in withheld_samples:\n",
    "            pred.append(float(model.predict(X[s])))\n",
    "        #Eprint \"samples\", withheld_samples\n",
    "        #Eprint \"pred\", pred\n",
    "        num = sum([(pred[i] - y[s])**2 for i, s in enumerate(withheld_samples)])\n",
    "        den = sum([(y[s] - np.mean(y[withheld_samples]))**2 for s in withheld_samples])\n",
    "        Q2 = float(1- num/den)\n",
    "        Q2s.append(Q2)\n",
    "    print \"Q^2: mean={0: .2f}, std={1: .2f}\".format(np.mean(Q2s),np.std(Q2s))\n",
    "    #return [float(abs(pred[p] - y[p])) for p in range(len(pred))]"
   ]
  },
  {
   "cell_type": "code",
   "execution_count": null,
   "metadata": {
    "collapsed": true
   },
   "outputs": [],
   "source": []
  }
 ],
 "metadata": {
  "anaconda-cloud": {},
  "kernelspec": {
   "display_name": "Python [default]",
   "language": "python",
   "name": "python2"
  },
  "language_info": {
   "codemirror_mode": {
    "name": "ipython",
    "version": 2
   },
   "file_extension": ".py",
   "mimetype": "text/x-python",
   "name": "python",
   "nbconvert_exporter": "python",
   "pygments_lexer": "ipython2",
   "version": "2.7.12"
  }
 },
 "nbformat": 4,
 "nbformat_minor": 0
}
