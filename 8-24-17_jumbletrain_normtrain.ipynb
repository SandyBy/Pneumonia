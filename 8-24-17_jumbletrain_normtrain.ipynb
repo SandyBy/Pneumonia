{
 "cells": [
  {
   "cell_type": "code",
   "execution_count": 1,
   "metadata": {
    "collapsed": false
   },
   "outputs": [],
   "source": [
    "%matplotlib inline\n",
    "import matplotlib.pyplot as plt\n",
    "import numpy as np\n",
    "import pandas as pd\n",
    "from sklearn.decomposition import PCA\n",
    "from scipy.stats import zscore\n",
    "import seaborn as sns\n",
    "from sklearn.cross_decomposition import PLSRegression\n",
    "from sklearn.svm import SVC\n",
    "from sklearn.ensemble import RandomForestClassifier\n",
    "from itertools import cycle\n",
    "import random\n",
    "from collections import Counter\n",
    "from tqdm import tqdm"
   ]
  },
  {
   "cell_type": "markdown",
   "metadata": {},
   "source": [
    "# Making all figures\n",
    " - Test error (PLSR & RF)\n",
    " - Clustering (DE genes) -> GO processes (done)\n",
    " - PCA (DE genes)\n",
    " "
   ]
  },
  {
   "cell_type": "code",
   "execution_count": 2,
   "metadata": {
    "collapsed": false
   },
   "outputs": [],
   "source": [
    "\n",
    "## ALREADY PREPROCESSED \n",
    "#### Min gene count = 0 for 15% of samples\n",
    "\n",
    "train_fpkm = pd.read_csv(\"../data/BAL/train_fpkm_minfilter0_log2.csv\",sep='\\t',index_col=0)\n",
    "train_meta = pd.read_csv('../data/BAL/Reseq_ALL/meta_reseq.csv', sep='\\t', index_col='sample_id')\n",
    "\n",
    "test_fpkm = pd.read_csv(\"../data/BAL/test_fpkm_minfilter0_log2.csv\", sep='\\t', index_col=0)\n",
    "test_meta = pd.read_csv('../data/BAL/meta_r0.csv', sep='\\t', index_col=0)"
   ]
  },
  {
   "cell_type": "code",
   "execution_count": 24,
   "metadata": {
    "collapsed": false
   },
   "outputs": [
    {
     "name": "stdout",
     "output_type": "stream",
     "text": [
      "(32, 26081) (32, 2)\n",
      "(95, 11957) (95, 32)\n"
     ]
    }
   ],
   "source": [
    "print test_fpkm.shape, test_meta.shape\n",
    "print train_fpkm.shape, train_meta.shape"
   ]
  },
  {
   "cell_type": "code",
   "execution_count": 4,
   "metadata": {
    "collapsed": false
   },
   "outputs": [],
   "source": [
    "train_meta['sum_fpkm'] = train_fpkm.apply(lambda x: np.sum(x), axis=1)\n",
    "test_meta['sum_fpkm'] = test_fpkm.apply(lambda x: np.sum(x), axis=1)"
   ]
  },
  {
   "cell_type": "code",
   "execution_count": 5,
   "metadata": {
    "collapsed": false
   },
   "outputs": [],
   "source": [
    "mean_train_fpkm = np.mean(train_meta['sum_fpkm'])\n",
    "mean_test_fpkm = np.mean(test_meta['sum_fpkm'])"
   ]
  },
  {
   "cell_type": "code",
   "execution_count": 8,
   "metadata": {
    "collapsed": false
   },
   "outputs": [],
   "source": [
    "ratio = mean_train_fpkm / mean_test_fpkm"
   ]
  },
  {
   "cell_type": "code",
   "execution_count": 9,
   "metadata": {
    "collapsed": false
   },
   "outputs": [],
   "source": [
    "train_fpkm_norm = train_fpkm.apply(lambda x: x / ratio)"
   ]
  },
  {
   "cell_type": "code",
   "execution_count": 13,
   "metadata": {
    "collapsed": true
   },
   "outputs": [],
   "source": [
    "train_fpkm = train_fpkm_norm"
   ]
  },
  {
   "cell_type": "code",
   "execution_count": 10,
   "metadata": {
    "collapsed": true
   },
   "outputs": [],
   "source": [
    "def geteven_xy(df, dfm, celltype, sampling='up', norm=False):\n",
    "    dfm = dfm[dfm['CellType']==celltype]\n",
    "    y = dfm['Pneum'].values\n",
    "    df = df.ix[dfm.index]\n",
    "    #    if z: df = df.apply(lambda x: zscore(x))\n",
    "    genes = df.columns\n",
    "    pos = [i for i in range(len(y)) if y[i]==True]\n",
    "    neg = [i for i in range(len(y)) if y[i]==False]\n",
    "    \n",
    "    npos = len(pos)\n",
    "    nneg = len(neg)\n",
    "\n",
    "    #print \"Num positive: {}\".format(len(pos))\n",
    "    #print \"Num negative: {}\".format(len(neg))\n",
    "    if sampling=='down':\n",
    "        if nneg >= npos:\n",
    "            neg = random.sample(neg, npos)\n",
    "        else:\n",
    "            pos = random.sample(pos, nneg)\n",
    "    if sampling=='up':\n",
    "        if nneg >= npos:\n",
    "            dup_pos = list(np.random.choice(pos, nneg-npos))\n",
    "            pos = pos + dup_pos ## pos+pos in case not enough in pos\n",
    "    #            print \"duplicated pos:\", dup_pos\n",
    "        else:\n",
    "            neg = neg + np.random.choice(neg, npos-nneg)\n",
    "\n",
    "    df = df.ix[(pos+neg),:]\n",
    "    if norm=='zero_one': \n",
    "        for col in df.columns:\n",
    "            mx = np.max(df[col])\n",
    "            mn = np.min(df[col])\n",
    "            df[col] = df[col].map(lambda x: (x - mn)/(mx - mn))\n",
    "            \n",
    "    if norm=='zscore': \n",
    "        df = df.apply(lambda x: zscore(x))\n",
    "\n",
    "    dfm = dfm.ix[(pos+neg),:]\n",
    "    X = np.array(df)\n",
    "    y = dfm['Pneum'].values\n",
    "    print \"Num pos after sampling: {}\".format(len(pos))\n",
    "    print \"Num neg after sampling: {}\".format(len(neg))\n",
    "    #y = y[pos + neg] \n",
    "    #X = X[pos + neg] \n",
    "    return X,y, genes, df, dfm"
   ]
  },
  {
   "cell_type": "code",
   "execution_count": 11,
   "metadata": {
    "collapsed": false
   },
   "outputs": [],
   "source": [
    "def run_model(celltype, n_top_genes, method='PLSR', \n",
    "                       norm=False, random_genes=False, jumble_test=False, jumble_train=False,\n",
    "                       n_jumbles=20, npcs=5, n_estimators=100, sampling=False, cross_validation='LOO', zero_train=False):\n",
    "      \n",
    "    '''\n",
    "    Retrieves training data, gets top features using cross-validation.\n",
    "    Retreives test data, filters to top features, predicts.\n",
    "    '''\n",
    "    \n",
    "    ### TRAINING\n",
    "    #################\n",
    "        \n",
    "    print \"Model = \", celltype\n",
    "    print \"Method = \", method\n",
    "    #print \"N_Top_Genes = \", n_top_genes\n",
    "    print \"Normalization = \", norm\n",
    "    \n",
    "    # Get training data\n",
    "    X, y, genes, df, dfm = geteven_xy(train_fpkm, train_meta, celltype=celltype, norm=norm, sampling=sampling)\n",
    "    \n",
    "    if jumble_train:\n",
    "        print \"---- Entire training set is jumbled ----\\n\"\n",
    "        df = df.apply(np.random.permutation)\n",
    "        X = np.array(df)\n",
    "    if zero_train:\n",
    "        df = df.apply(lambda x: x*0)\n",
    "        X = np.array(df)\n",
    "\n",
    "    # Get top features using cross-validation\n",
    "    ##############\n",
    "    neg_err, pos_err, Q2, neg_accuracy_train, pos_accuracy_train, feature_inds = calc_metrics(X, y, \n",
    "                            method=method, cross_validation=cross_validation, \n",
    "                            n_pcs=npcs, n_estimators=n_estimators, n_top_genes=n_top_genes)\n",
    "\n",
    "    ## TRAIN METRICS\n",
    "    print \"Q Squared: {0:.2f} \\n\".format(Q2)\n",
    "    num_neg_correct = sum([(e < 0.5) for e in neg_err])\n",
    "    num_pos_correct = sum([(e < 0.5) for e in pos_err])\n",
    "    \n",
    "    print \"\\n===== Training ======\"\n",
    "    print \"Negative: {0:.3f} ({1}/{2}) \".format(neg_accuracy_train, num_neg_correct, len(neg_err))\n",
    "    print \"Positive: {0:.3f} ({1}/{2}) \".format(pos_accuracy_train, num_pos_correct, len(pos_err))\n",
    "    \n",
    "    \n",
    "    ## Get most common genes from each LOO model\n",
    "    ##############\n",
    "    all_top_feature_inds = [g for m in feature_inds for g in m]\n",
    "    c = Counter(all_top_feature_inds)\n",
    "    top_inds = [i[0] for i in c.most_common(n_top_genes)]\n",
    "    top_genes_train = [genes[i] for i in top_inds]\n",
    "    \n",
    "    \n",
    "    ## SWITCH OUT TOP GENES WITH RANDOM GENES\n",
    "    ##############\n",
    "    if random_genes:\n",
    "        top_genes_train = np.random.choice(genes, n_top_genes)\n",
    "        print \"\\n **Genes for testing are RANDOM** \\n\"\n",
    "\n",
    "    \n",
    "    ### BUILDING PREDICTIVE MODEL with top genes\n",
    "    ##############\n",
    "    train_spreads = col_spreads(df[top_genes_train])\n",
    "    \n",
    "    \n",
    "    X_train = np.array(df[top_genes_train])\n",
    "    y_train = np.array(dfm['Pneum'])\n",
    "    \n",
    "    \n",
    "    ### GET TEST SET, FILTER TO HAVE ONLY TOP FEATURES\n",
    "    ############\n",
    "    X_test, y_test, genes_test, df_test, dfm_test = geteven_xy(test_fpkm, test_meta, celltype=celltype, norm=norm, sampling=False)\n",
    "    \n",
    "    test_spreads = col_spreads(df_test[top_genes_train])\n",
    "    X_test = np.array(df_test[top_genes_train])\n",
    "    \n",
    "    ### TESTING WITH ACTUAL (non-jumbled) GENES\n",
    "    ###############\n",
    "    print \"\\n===== Testing =====\"\n",
    "    \n",
    "    if method=='PLSR': \n",
    "        model = PLSRegression(5, scale=True)\n",
    "    elif method=='RandomForests': \n",
    "        model = RandomForestClassifier(n_estimators=n_estimators)\n",
    "    else: \n",
    "        print \"Method {} not recognized\".format(method)\n",
    "\n",
    "    model.fit(X_train, y_train)\n",
    "    y_pred = model.predict(X_test)\n",
    "    test_accs = prediction_stats(y_test, y_pred, print_stats=True)\n",
    "\n",
    "    return train_spreads, test_spreads"
   ]
  },
  {
   "cell_type": "code",
   "execution_count": 12,
   "metadata": {
    "collapsed": true
   },
   "outputs": [],
   "source": [
    "### spread: Max - min\n",
    "def col_spreads(df):\n",
    "    spreads = []\n",
    "    for c in df.columns:\n",
    "        mx, mn = np.max(df[c]), np.min(df[c])\n",
    "        spreads.append(mx-mn)\n",
    "    return spreads"
   ]
  },
  {
   "cell_type": "code",
   "execution_count": 13,
   "metadata": {
    "collapsed": true
   },
   "outputs": [],
   "source": [
    "def prediction_stats(y_test, y_pred, print_stats=False):\n",
    "    \n",
    "    neg_err = [float(abs(y_pred[i]-y_test[i])) for i in range(len(y_pred)) if y_test[i]==0]\n",
    "    num_neg_correct = sum([(e < 0.5) for e in neg_err])\n",
    "    neg_accuracy_test = float(num_neg_correct) / len(neg_err)\n",
    "\n",
    "\n",
    "    pos_err = [float(abs(y_pred[i]-y_test[i])) for i in range(len(y_pred)) if y_test[i]==1]\n",
    "    num_pos_correct = sum([(e < 0.5) for e in pos_err])\n",
    "    pos_accuracy_test = float(num_pos_correct) / len(pos_err)\n",
    "    \n",
    "    if print_stats:\n",
    "        print \"Negative: {0:.3f} ({1}/{2}) \".format(neg_accuracy_test, num_neg_correct, len(neg_err))        \n",
    "        print \"Positive: {0:.3f} ({1}/{2}) \".format(pos_accuracy_test, num_pos_correct, len(pos_err))\n",
    "\n",
    "    return neg_accuracy_test, pos_accuracy_test"
   ]
  },
  {
   "cell_type": "markdown",
   "metadata": {},
   "source": [
    "# Layout for analysis:\n",
    " 1. Get test accuracies, random=False, sampling=False, jumble_train=False\n",
    " 2. Is there meaning in the genes? -> change [1] to have jumble_train=True\n",
    " 3. Is the model based on the top 100 genes better than based on random genes?\n",
    " 4. Is the model based on the top 100 genes better than the jumbled 100 genes"
   ]
  },
  {
   "cell_type": "code",
   "execution_count": 14,
   "metadata": {
    "collapsed": false
   },
   "outputs": [],
   "source": [
    "def calc_metrics(X, y, n_pcs, n_estimators, n_top_genes, method='PLSR', cross_validation='LOO', k=5, n_splits=10):\n",
    "    \n",
    "    n_samples = len(X)\n",
    "    pred = []\n",
    "    feat_inds_all = []\n",
    "    #print X.shape, y.shape\n",
    "    \n",
    "    ### Leave-One-Out Cross-validation\n",
    "    \n",
    "    if cross_validation=='LOO':\n",
    "        for sample in range(n_samples):\n",
    "            samples = range(n_samples)\n",
    "            samples.remove(sample)\n",
    "            X_train = X[(samples)]\n",
    "            y_train = y[(samples)]\n",
    "            #print X_t.shape    \n",
    "\n",
    "            if method=='PLSR':### Get VIPs for model built without the LOO sample\n",
    "                plsv = PLSRegression(n_pcs, scale=False)\n",
    "                plsv.fit(X_train, y_train)\n",
    "                vips = vipp(X_train, y_train, plsv.x_scores_, plsv.x_weights_)\n",
    "                vips = [float(v) for v in vips]\n",
    "                vip_inds = np.argsort(vips)[::-1][:n_top_genes]\n",
    "                feat_inds_all.append(vip_inds)\n",
    "\n",
    "                ### Xn takes the original X to get the loo sample\n",
    "                X_top_features = X.T[vip_inds].T\n",
    "                loo_sample = np.array(X_top_features[sample]).reshape((1,-1))\n",
    "\n",
    "                ### Filter the samples \n",
    "                X_train_top_features = X_train.T[vip_inds].T\n",
    "                pls = PLSRegression(n_pcs, scale=False)\n",
    "                pls.fit(X_train_top_features, y_train)\n",
    "                pred.append(float(pls.predict(loo_sample)))\n",
    "\n",
    "\n",
    "            elif method=='RandomForests':        ### Get VIPs for model built without the LOO sample\n",
    "                rfc = RandomForestClassifier(n_estimators=n_estimators)\n",
    "                rfc.fit(X_train, y_train)\n",
    "                feat_imp = rfc.feature_importances_\n",
    "                feat_inds = np.argsort(feat_imp)[::-1][:n_top_genes]\n",
    "                feat_inds_all.append(feat_inds)\n",
    "                \n",
    "                ### Xn takes the original X to get the loo sample\n",
    "                X_top_features = X.T[feat_inds].T\n",
    "                loo_sample = np.array(X_top_features[sample]).reshape((1,-1))\n",
    "\n",
    "                ### Filter the samples \n",
    "                X_train_top_features = X_train.T[feat_inds].T\n",
    "                rfc = RandomForestClassifier(n_estimators=n_estimators)\n",
    "                rfc.fit(X_train_top_features, y_train)\n",
    "\n",
    "                #print \"prediction: \", float(rfc.predict(loo_sample))\n",
    "                pred.append(float(rfc.predict(loo_sample)))\n",
    "\n",
    "            else:\n",
    "                print \"Method {} not found\".format(method)\n",
    "\n",
    "    elif cross_validation=='Kfold':\n",
    "        y_k = []\n",
    "        for ki in range(n_splits):\n",
    "            sample_ind = range(n_samples)\n",
    "            withheld_samples = random.sample(sample_ind, k)\n",
    "            lo_samples = X[withheld_samples]\n",
    "            for s in withheld_samples:\n",
    "                sample_ind.remove(s)\n",
    "            X_train = X[(sample_ind)]\n",
    "            y_train = y[(sample_ind)]\n",
    "            \n",
    "            if method=='PLSR':\n",
    "                model = PLSRegression(n_pcs, scale=False)\n",
    "                model.fit(X_train, y_train)\n",
    "                vips = vipp(X_train, y_train, model.x_scores_, model.x_weights_)\n",
    "                vips = [float(v) for v in vips]\n",
    "                vip_inds = np.argsort(vips)[::-1][:n_top_genes]\n",
    "                feat_inds_all.append(vip_inds)\n",
    "\n",
    "                ### Filter the samples \n",
    "                X_train_top_features = X_train.T[vip_inds].T\n",
    "                model = PLSRegression(n_pcs, scale=False)\n",
    "                model.fit(X_train_top_features, y_train)\n",
    "                #pred.append(float(.predict(loo_sample)))\n",
    "                \n",
    "                ### Xn takes the original X to get the loo sample\n",
    "                X_top_features = X.T[vip_inds].T\n",
    "                \n",
    "            elif method=='RandomForest':\n",
    "                model = RandomForestClassifier(n_estimators=n_estimators)\n",
    "                feat_imp = rfc.feature_importances_\n",
    "                feat_inds = np.argsort(feat_imp)[::-1][:n_top_genes]\n",
    "                feat_inds_all.append(feat_inds)\n",
    "                \n",
    "                ### Filter the samples \n",
    "                X_train_top_features = X_train.T[vip_inds].T\n",
    "                model = PLSRegression(n_pcs, scale=False)\n",
    "                model.fit(X_train_top_features, y_train)\n",
    "                \n",
    "                X_top_features = X.T[vip_inds].T\n",
    "                \n",
    "            elif method=='SVM':\n",
    "                model = SVC()\n",
    "            else:\n",
    "                print \"Method not found\"\n",
    "            \n",
    "            for s in withheld_samples:\n",
    "                pred.append(float(model.predict(X_top_features[s].reshape((1, -1)))))\n",
    "                y_k.append(y[s])\n",
    "        y = y_k\n",
    "\n",
    "    # Calculate metrics\n",
    "    ### Q squared\n",
    "    num = sum([float((pred[i] - y[i]))**2 for i in range(len(pred))])\n",
    "    den = sum([(y[i] - np.mean(y))**2 for i in range(len(pred))])\n",
    "    Q2 = float(1 - num/den)\n",
    "\n",
    "    ### Prediction error\n",
    "    errs = [abs(float((pred[i] - y[i]))) for i in range(len(pred))]\n",
    " \n",
    "    ### Percent correct for neg and pos Pneumonia\n",
    "    neg_err = [errs[i] for i in range(len(errs)) if y[i]==0]  \n",
    "    neg_corr = [e < 0.5 for e in neg_err]   \n",
    "    neg_corr = float(sum(neg_corr)) / len(neg_err)\n",
    "\n",
    "    \n",
    "    pos_err = [errs[i] for i in range(len(errs)) if y[i]==1]\n",
    "    pos_corr = [e < 0.5 for e in pos_err]\n",
    "    pos_corr = float(sum(pos_corr)) / len(pos_err)\n",
    "    \n",
    "\n",
    "    #print \"num: {0: .3f}, den: {1: .3f}, \n",
    "    #print \"Q^2: {0: .3f}\".format(Q2)\n",
    "    return neg_err, pos_err, Q2, neg_corr, pos_corr, feat_inds_all\n",
    "    #return [float(abs(pred[p] - y[p])) for p in range(len(pred))]"
   ]
  },
  {
   "cell_type": "markdown",
   "metadata": {},
   "source": [
    "# 1. Just the results"
   ]
  },
  {
   "cell_type": "code",
   "execution_count": 15,
   "metadata": {
    "collapsed": false,
    "scrolled": false
   },
   "outputs": [
    {
     "name": "stdout",
     "output_type": "stream",
     "text": [
      "Model =  AM\n",
      "Method =  RandomForests\n",
      "Normalization =  zscore\n",
      "Num pos after sampling: 19\n",
      "Num neg after sampling: 30\n",
      "Q Squared: -1.15 \n",
      "\n",
      "\n",
      "===== Training ======\n",
      "Negative: 0.567 (17/30) \n",
      "Positive: 0.368 (7/19) \n",
      "Num pos after sampling: 6\n",
      "Num neg after sampling: 14\n",
      "\n",
      "===== Testing =====\n",
      "Negative: 0.929 (13/14) \n",
      "Positive: 0.667 (4/6) \n"
     ]
    }
   ],
   "source": [
    "genesK = run_model(celltype='AM', n_top_genes=100, jumble_train=False, zero_train=False, method='RandomForests', \n",
    "                       norm='zscore', random_genes=False, jumble_test=False, sampling='', cross_validation='LOO')"
   ]
  },
  {
   "cell_type": "code",
   "execution_count": 19,
   "metadata": {
    "collapsed": false,
    "scrolled": false
   },
   "outputs": [
    {
     "name": "stdout",
     "output_type": "stream",
     "text": [
      "Model =  AM\n",
      "Method =  PLSR\n",
      "Normalization =  zscore\n",
      "Num pos after sampling: 19\n",
      "Num neg after sampling: 30\n",
      "Q Squared: -0.33 \n",
      "\n",
      "\n",
      "===== Training ======\n",
      "Negative: 0.700 (21/30) \n",
      "Positive: 0.105 (2/19) \n",
      "Num pos after sampling: 6\n",
      "Num neg after sampling: 14\n",
      "\n",
      "===== Testing =====\n",
      "Negative: 0.857 (12/14) \n",
      "Positive: 0.667 (4/6) \n"
     ]
    }
   ],
   "source": [
    "genesK = run_model(celltype='AM', n_top_genes=100, jumble_train=False, zero_train=False, method='PLSR', \n",
    "                       norm='zscore', random_genes=False, jumble_test=False, sampling='', cross_validation='LOO')"
   ]
  },
  {
   "cell_type": "code",
   "execution_count": 20,
   "metadata": {
    "collapsed": false,
    "scrolled": false
   },
   "outputs": [
    {
     "name": "stdout",
     "output_type": "stream",
     "text": [
      "Model =  CD163\n",
      "Method =  RandomForests\n",
      "Normalization =  zscore\n",
      "Num pos after sampling: 15\n",
      "Num neg after sampling: 31\n",
      "Q Squared: -0.48 \n",
      "\n",
      "\n",
      "===== Training ======\n",
      "Negative: 0.903 (28/31) \n",
      "Positive: 0.200 (3/15) \n",
      "Num pos after sampling: 7\n",
      "Num neg after sampling: 5\n",
      "\n",
      "===== Testing =====\n",
      "Negative: 1.000 (5/5) \n",
      "Positive: 0.429 (3/7) \n"
     ]
    }
   ],
   "source": [
    "genesK = run_model(celltype='CD163', n_top_genes=100, jumble_train=False, zero_train=False, method='RandomForests', \n",
    "                       norm='zscore', random_genes=False, jumble_test=False, sampling='', cross_validation='LOO')"
   ]
  },
  {
   "cell_type": "code",
   "execution_count": 23,
   "metadata": {
    "collapsed": false,
    "scrolled": false
   },
   "outputs": [
    {
     "name": "stdout",
     "output_type": "stream",
     "text": [
      "Model =  CD163\n",
      "Method =  PLSR\n",
      "Normalization =  zscore\n",
      "Num pos after sampling: 15\n",
      "Num neg after sampling: 31\n",
      "Q Squared: -0.13 \n",
      "\n",
      "\n",
      "===== Training ======\n",
      "Negative: 0.968 (30/31) \n",
      "Positive: 0.067 (1/15) \n",
      "Num pos after sampling: 7\n",
      "Num neg after sampling: 5\n",
      "\n",
      "===== Testing =====\n",
      "Negative: 1.000 (5/5) \n",
      "Positive: 0.286 (2/7) \n"
     ]
    }
   ],
   "source": [
    "genesK = run_model(celltype='CD163', n_top_genes=100, jumble_train=False, zero_train=False, method='PLSR', \n",
    "                       norm='zscore', random_genes=False, jumble_test=False, sampling='', cross_validation='LOO')"
   ]
  },
  {
   "cell_type": "code",
   "execution_count": 48,
   "metadata": {
    "collapsed": false,
    "scrolled": false
   },
   "outputs": [
    {
     "name": "stdout",
     "output_type": "stream",
     "text": [
      "Model =  AM\n",
      "Method =  RandomForests\n",
      "Normalization =  zscore\n",
      "Num pos after sampling: 19\n",
      "Num neg after sampling: 30\n",
      "---- Entire training set is jumbled ----\n",
      "\n",
      "Q Squared: -0.63 \n",
      "\n",
      "\n",
      "===== Training ======\n",
      "Negative: 0.933 (28/30) \n",
      "Positive: 0.105 (2/19) \n",
      "Num pos after sampling: 6\n",
      "Num neg after sampling: 14\n",
      "\n",
      "===== Testing =====\n",
      "Negative: 0.786 (11/14) \n",
      "Positive: 0.333 (2/6) \n"
     ]
    }
   ],
   "source": [
    "genesK = run_model(celltype='AM', n_top_genes=100, \n",
    "                   jumble_train=True, zero_train=False, method='RandomForests', \n",
    "                    norm='zscore', random_genes=False, jumble_test=False, \n",
    "                   sampling='', cross_validation='LOO')"
   ]
  },
  {
   "cell_type": "code",
   "execution_count": 50,
   "metadata": {
    "collapsed": false,
    "scrolled": false
   },
   "outputs": [
    {
     "name": "stdout",
     "output_type": "stream",
     "text": [
      "Model =  AM\n",
      "Method =  RandomForests\n",
      "Normalization =  zscore\n",
      "Num pos after sampling: 19\n",
      "Num neg after sampling: 30\n",
      "---- Entire training set is jumbled ----\n",
      "\n",
      "Q Squared: -0.63 \n",
      "\n",
      "\n",
      "===== Training ======\n",
      "Negative: 0.733 (22/30) \n",
      "Positive: 0.421 (8/19) \n",
      "\n",
      " **Genes for testing are RANDOM** \n",
      "\n",
      "Num pos after sampling: 6\n",
      "Num neg after sampling: 14\n",
      "\n",
      "===== Testing =====\n",
      "Negative: 0.857 (12/14) \n",
      "Positive: 0.333 (2/6) \n"
     ]
    }
   ],
   "source": [
    "genesK = run_model(celltype='AM', n_top_genes=10, \n",
    "                   jumble_train=True, zero_train=False, method='RandomForests', \n",
    "                    norm='zscore', random_genes=True, jumble_test=False, \n",
    "                   sampling='', cross_validation='LOO')"
   ]
  },
  {
   "cell_type": "code",
   "execution_count": 29,
   "metadata": {
    "collapsed": false,
    "scrolled": false
   },
   "outputs": [
    {
     "name": "stdout",
     "output_type": "stream",
     "text": [
      "Model =  AM\n",
      "Method =  RandomForests\n",
      "Normalization =  zscore\n",
      "Num pos after sampling: 19\n",
      "Num neg after sampling: 30\n",
      "Q Squared: -0.89 \n",
      "\n",
      "\n",
      "===== Training ======\n",
      "Negative: 0.733 (22/30) \n",
      "Positive: 0.263 (5/19) \n",
      "Num pos after sampling: 6\n",
      "Num neg after sampling: 14\n",
      "\n",
      "===== Testing =====\n",
      "Negative: 0.857 (12/14) \n",
      "Positive: 0.667 (4/6) \n"
     ]
    }
   ],
   "source": [
    "genesK = run_model(celltype='AM', n_top_genes=100, jumble_train=False, method='RandomForests', \n",
    "                       norm='zscore', random_genes=False, jumble_test=False, sampling='', cross_validation='LOO')"
   ]
  },
  {
   "cell_type": "code",
   "execution_count": 30,
   "metadata": {
    "collapsed": false,
    "scrolled": false
   },
   "outputs": [
    {
     "name": "stdout",
     "output_type": "stream",
     "text": [
      "Model =  AM\n",
      "Method =  RandomForests\n",
      "Normalization =  zscore\n",
      "Num pos after sampling: 19\n",
      "Num neg after sampling: 30\n",
      "---- Entire training set is jumbled ----\n",
      "\n",
      "Q Squared: -1.32 \n",
      "\n",
      "\n",
      "===== Training ======\n",
      "Negative: 0.700 (21/30) \n",
      "Positive: 0.053 (1/19) \n",
      "Num pos after sampling: 6\n",
      "Num neg after sampling: 14\n",
      "\n",
      "===== Testing =====\n",
      "Negative: 0.857 (12/14) \n",
      "Positive: 0.000 (0/6) \n"
     ]
    }
   ],
   "source": [
    "genesK = run_model(celltype='AM', n_top_genes=100, jumble_train=True, method='RandomForests', \n",
    "                       norm='zscore', random_genes=False, jumble_test=False, sampling='', cross_validation='LOO')"
   ]
  },
  {
   "cell_type": "code",
   "execution_count": 44,
   "metadata": {
    "collapsed": true
   },
   "outputs": [],
   "source": [
    "from scipy.stats.stats import pearsonr"
   ]
  },
  {
   "cell_type": "code",
   "execution_count": 47,
   "metadata": {
    "collapsed": false
   },
   "outputs": [
    {
     "data": {
      "text/plain": [
       "(0.093784944486270089, 0.35335256719661567)"
      ]
     },
     "execution_count": 47,
     "metadata": {},
     "output_type": "execute_result"
    }
   ],
   "source": [
    "pearsonr(genesK[0], genesK[1])"
   ]
  },
  {
   "cell_type": "code",
   "execution_count": 48,
   "metadata": {
    "collapsed": false
   },
   "outputs": [
    {
     "data": {
      "text/plain": [
       "<matplotlib.collections.PathCollection at 0x10f4208d0>"
      ]
     },
     "execution_count": 48,
     "metadata": {},
     "output_type": "execute_result"
    },
    {
     "data": {
      "image/png": "[encoded data removed]",
      "text/plain": [
       "<matplotlib.figure.Figure at 0x10bc99110>"
      ]
     },
     "metadata": {},
     "output_type": "display_data"
    }
   ],
   "source": [
    "plt.scatter(genesK[0], genesK[1])"
   ]
  },
  {
   "cell_type": "code",
   "execution_count": 99,
   "metadata": {
    "collapsed": false,
    "scrolled": false
   },
   "outputs": [
    {
     "name": "stdout",
     "output_type": "stream",
     "text": [
      "Model =  CD163\n",
      "Method =  PLSR\n",
      "Normalization =  zscore\n",
      "Num pos after sampling: 15\n",
      "Num neg after sampling: 31\n",
      "---- Entire training set is jumbled ----\n",
      "\n",
      "Q Squared: -0.64 \n",
      "\n",
      "\n",
      "===== Training ======\n",
      "Negative: 0.730 (27/37) \n",
      "Positive: 0.154 (2/13) \n",
      "Num pos after sampling: 7\n",
      "Num neg after sampling: 5\n",
      "\n",
      "===== Testing =====\n",
      "Negative: 0.800 (4/5) \n",
      "Positive: 0.000 (0/7) \n"
     ]
    }
   ],
   "source": [
    "genesK = get_accuracy_stats(celltype='CD163', n_top_genes=10, jumble_train=True, #method='RandomForests', \n",
    "                       norm='zscore', random_genes=False, jumble_test=False, sampling='', cross_validation='Kfold')"
   ]
  },
  {
   "cell_type": "code",
   "execution_count": 100,
   "metadata": {
    "collapsed": false,
    "scrolled": false
   },
   "outputs": [
    {
     "name": "stdout",
     "output_type": "stream",
     "text": [
      "Model =  CD163\n",
      "Method =  PLSR\n",
      "Normalization =  False\n",
      "Num pos after sampling: 15\n",
      "Num neg after sampling: 31\n",
      "---- Entire training set is jumbled ----\n",
      "\n",
      "Q Squared: -0.71 \n",
      "\n",
      "\n",
      "===== Training ======\n",
      "Negative: 0.622 (23/37) \n",
      "Positive: 0.231 (3/13) \n",
      "Num pos after sampling: 7\n",
      "Num neg after sampling: 5\n",
      "\n",
      "===== Testing =====\n",
      "Negative: 1.000 (5/5) \n",
      "Positive: 0.000 (0/7) \n"
     ]
    }
   ],
   "source": [
    "genesK = get_accuracy_stats(celltype='CD163', n_top_genes=10, jumble_train=True, #method='RandomForests', \n",
    "                       norm=False, random_genes=False, jumble_test=False, sampling='', cross_validation='Kfold')"
   ]
  },
  {
   "cell_type": "code",
   "execution_count": 101,
   "metadata": {
    "collapsed": false,
    "scrolled": false
   },
   "outputs": [
    {
     "name": "stdout",
     "output_type": "stream",
     "text": [
      "Model =  CD163\n",
      "Method =  PLSR\n",
      "Normalization =  False\n",
      "Num pos after sampling: 15\n",
      "Num neg after sampling: 31\n",
      "Q Squared: 0.12 \n",
      "\n",
      "\n",
      "===== Training ======\n",
      "Negative: 0.800 (28/35) \n",
      "Positive: 0.533 (8/15) \n",
      "\n",
      " **Genes for testing are RANDOM** \n",
      "\n",
      "Num pos after sampling: 7\n",
      "Num neg after sampling: 5\n",
      "\n",
      "===== Testing =====\n",
      "Negative: 0.800 (4/5) \n",
      "Positive: 0.286 (2/7) \n"
     ]
    }
   ],
   "source": [
    "genesK = get_accuracy_stats(celltype='CD163', n_top_genes=10, jumble_train=False, #method='RandomForests', \n",
    "                       norm=False, random_genes=True, jumble_test=False, sampling='', cross_validation='Kfold')"
   ]
  },
  {
   "cell_type": "code",
   "execution_count": 95,
   "metadata": {
    "collapsed": false,
    "scrolled": false
   },
   "outputs": [
    {
     "name": "stdout",
     "output_type": "stream",
     "text": [
      "Model =  CD163\n",
      "Method =  PLSR\n",
      "Normalization =  zscore\n",
      "Num pos after sampling: 15\n",
      "Num neg after sampling: 31\n",
      "Q Squared: -0.27 \n",
      "\n",
      "\n",
      "===== Training ======\n",
      "Negative: 0.821 (32/39) \n",
      "Positive: 0.364 (4/11) \n",
      "\n",
      " **Genes for testing are RANDOM** \n",
      "\n",
      "Num pos after sampling: 7\n",
      "Num neg after sampling: 5\n",
      "\n",
      "===== Testing =====\n",
      "Negative: 0.800 (4/5) \n",
      "Positive: 0.000 (0/7) \n"
     ]
    }
   ],
   "source": [
    "genesK = get_accuracy_stats(celltype='CD163', n_top_genes=5, jumble_train=False, #method='RandomForests', \n",
    "                       norm='zscore', random_genes=True, jumble_test=False, sampling='', cross_validation='Kfold')"
   ]
  },
  {
   "cell_type": "markdown",
   "metadata": {},
   "source": [
    "## Different normalizations"
   ]
  },
  {
   "cell_type": "markdown",
   "metadata": {},
   "source": [
    "## Train clustering"
   ]
  },
  {
   "cell_type": "code",
   "execution_count": null,
   "metadata": {
    "collapsed": false
   },
   "outputs": [],
   "source": [
    "plot_cluster(df_train_top, dfm_train)"
   ]
  },
  {
   "cell_type": "markdown",
   "metadata": {},
   "source": [
    "## Test clustering"
   ]
  },
  {
   "cell_type": "markdown",
   "metadata": {},
   "source": [
    "## +++++"
   ]
  },
  {
   "cell_type": "code",
   "execution_count": null,
   "metadata": {
    "collapsed": true
   },
   "outputs": [],
   "source": [
    "def plot_cluster(df, dfm):\n",
    "    \n",
    "    dfz = df.apply(zscore, axis=1)\n",
    "    dfz = dfz.apply(zscore, axis=0)\n",
    "    dfplot = dfz.T\n",
    "\n",
    "    dfplot = dfplot.rename(columns={c: dfm.loc[c,'Pneum'] for c in dfplot.columns})\n",
    "\n",
    "    dfplot.columns\n",
    "    fig = sns.clustermap(dfplot, col_cluster=True)"
   ]
  },
  {
   "cell_type": "code",
   "execution_count": null,
   "metadata": {
    "collapsed": false
   },
   "outputs": [],
   "source": [
    "plot_cluster(df_test_top, dfm_test)"
   ]
  },
  {
   "cell_type": "code",
   "execution_count": null,
   "metadata": {
    "collapsed": false
   },
   "outputs": [],
   "source": [
    "plot_cluster(df_train_top, dfm_train)"
   ]
  },
  {
   "cell_type": "code",
   "execution_count": null,
   "metadata": {
    "collapsed": false
   },
   "outputs": [],
   "source": [
    "#determine the best number of genes for the training model\n",
    "def plotQ2(r=np.arange(10,205,5), celltype=False, z=True):\n",
    "    Q2s = []\n",
    "    for n_top_genes in tqdm(r):\n",
    "        X, y, genes, df, dfm = geteven_xy(train_fpkm, meta, celltype=celltype, norm='zscore')\n",
    "        neg_err, pos_err, Q2, neg_corr, pos_corr, vip_inds = calc_metrics(X, y, \n",
    "                                                        n_pcs=5, n_top_genes=n_top_genes)\n",
    "        Q2s.append(Q2)\n",
    "    plt.plot(r, Q2s)\n",
    "    return None #Q2s"
   ]
  },
  {
   "cell_type": "code",
   "execution_count": null,
   "metadata": {
    "collapsed": false
   },
   "outputs": [],
   "source": [
    "plotQ2(r=np.arange(10,155,10), celltype='AM')"
   ]
  },
  {
   "cell_type": "code",
   "execution_count": null,
   "metadata": {
    "collapsed": false
   },
   "outputs": [],
   "source": [
    "plotQ2(r=np.arange(10,155,5), celltype='CD163')"
   ]
  },
  {
   "cell_type": "code",
   "execution_count": 17,
   "metadata": {
    "collapsed": true
   },
   "outputs": [],
   "source": [
    "def vipp(x, y, t, w):\n",
    "\n",
    "    \"\"\"\n",
    "    From original MATLAB code\n",
    "    See https://code.google.com/p/carspls/\n",
    "\n",
    "    #+++ vip=vipp(x,y,t,w);\n",
    "    #+++ t: scores, which can be obtained by pls_nipals.m\n",
    "    #+++ w: weight, which can be obtained by pls_nipals.m\n",
    "    #+++ to calculate the vip for each variable to the response;\n",
    "    #+++ vip=sqrt(p*q/s);\n",
    "    \"\"\"\n",
    "    #initializing\n",
    "    [p, h] = w.shape\n",
    "    co = np.matrix(np.zeros([1, h]))\n",
    "\n",
    "    # Calculate s\n",
    "    for ii in range(h):\n",
    "        corr = np.corrcoef(y, t[:, ii], rowvar=0)\n",
    "        co[0, ii] = corr[0, 1]**2\n",
    "    s = np.sum(co)\n",
    "\n",
    "    # Calculate q\n",
    "    # This has been linearized to replace the original nested for loop\n",
    "    w_power = np.power(w, 2)\n",
    "    d = np.multiply(w_power, co)\n",
    "    q = np.sum(d, 1)\n",
    "    vip = np.sqrt(p*q/s)\n",
    "    return vip"
   ]
  },
  {
   "cell_type": "code",
   "execution_count": 18,
   "metadata": {
    "collapsed": true
   },
   "outputs": [],
   "source": [
    "def calc_Q2_kftest(X, y, k=5, n_rand=10, n_pcs=5, method='PLSR'):\n",
    "    n_samples = len(X)\n",
    "    pred = []\n",
    "    Q2s = []\n",
    "    for ki in range(n_rand):\n",
    "        sample_ind = range(n_samples)\n",
    "        withheld_samples = random.sample(sample_ind, k)\n",
    "        lo_samples = X[withheld_samples]\n",
    "        for s in withheld_samples:\n",
    "            sample_ind.remove(s)\n",
    "        X_t = X[(sample_ind)]\n",
    "        y_t = y[(sample_ind)]\n",
    "        if method=='PLSR':\n",
    "            model = PLSRegression(n_pcs, scale=False)\n",
    "        elif method=='RF':\n",
    "            model = RandomForestClassifier()\n",
    "        elif method=='SVM':\n",
    "            model = SVC()\n",
    "        else:\n",
    "            print \"Method not found\"\n",
    "        model.fit(X_t, y_t)\n",
    "\n",
    "        for s in withheld_samples:\n",
    "            pred.append(float(model.predict(X[s])))\n",
    "        #Eprint \"samples\", withheld_samples\n",
    "        #Eprint \"pred\", pred\n",
    "        num = sum([(pred[i] - y[s])**2 for i, s in enumerate(withheld_samples)])\n",
    "        den = sum([(y[s] - np.mean(y[withheld_samples]))**2 for s in withheld_samples])\n",
    "        Q2 = float(1- num/den)\n",
    "        Q2s.append(Q2)\n",
    "    print \"Q^2: mean={0: .2f}, std={1: .2f}\".format(np.mean(Q2s),np.std(Q2s))\n",
    "    #return [float(abs(pred[p] - y[p])) for p in range(len(pred))]"
   ]
  },
  {
   "cell_type": "code",
   "execution_count": null,
   "metadata": {
    "collapsed": true
   },
   "outputs": [],
   "source": []
  }
 ],
 "metadata": {
  "anaconda-cloud": {},
  "kernelspec": {
   "display_name": "Python [default]",
   "language": "python",
   "name": "python2"
  },
  "language_info": {
   "codemirror_mode": {
    "name": "ipython",
    "version": 2
   },
   "file_extension": ".py",
   "mimetype": "text/x-python",
   "name": "python",
   "nbconvert_exporter": "python",
   "pygments_lexer": "ipython2",
   "version": "2.7.12"
  }
 },
 "nbformat": 4,
 "nbformat_minor": 0
}
