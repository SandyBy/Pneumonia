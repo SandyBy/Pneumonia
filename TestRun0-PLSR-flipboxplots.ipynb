{
 "cells": [
  {
   "cell_type": "code",
   "execution_count": 1,
   "metadata": {
    "collapsed": false
   },
   "outputs": [],
   "source": [
    "%matplotlib inline\n",
    "import matplotlib.pyplot as plt\n",
    "import numpy as np\n",
    "import pandas as pd\n",
    "from sklearn.decomposition import PCA\n",
    "from scipy.stats import zscore\n",
    "import seaborn as sns\n",
    "from sklearn.cross_decomposition import PLSRegression\n",
    "from sklearn.svm import SVC\n",
    "from sklearn.ensemble import RandomForestClassifier\n",
    "from itertools import cycle\n",
    "from vips import vipp\n",
    "from calc_metrics import calc_metrics\n",
    "import random\n",
    "from collections import Counter\n",
    "from tqdm import tqdm"
   ]
  },
  {
   "cell_type": "code",
   "execution_count": 2,
   "metadata": {
    "collapsed": false
   },
   "outputs": [],
   "source": [
    "#new_raw_counts = pd.read_csv('../data/BAL/Reseq_ALL/counts_reseq.csv', sep='\\t', \n",
    "#                     index_col='sample_id')\n",
    "meta = pd.read_csv('../data/BAL/Reseq_ALL/meta_reseq.csv', sep='\\t', index_col='sample_id')\n",
    "new_fpkm = pd.read_csv(\"../data/BAL/new_counts_fpkm_R.txt\",sep='\\t')#, index_col='sample_id')\n",
    "\n",
    "old_fpkm = pd.read_csv('../data/BAL/Run0/granges.fpkms.txt', sep='\\t').T\n",
    "old_meta = pd.read_csv('../data/BAL/meta_r0.csv', sep='\\t', index_col=0)"
   ]
  },
  {
   "cell_type": "code",
   "execution_count": 3,
   "metadata": {
    "collapsed": false
   },
   "outputs": [],
   "source": [
    "new_fpkm = new_fpkm.T"
   ]
  },
  {
   "cell_type": "markdown",
   "metadata": {},
   "source": [
    "### Require X % of samples to have Y gene greater than 0"
   ]
  },
  {
   "cell_type": "code",
   "execution_count": 4,
   "metadata": {
    "collapsed": true
   },
   "outputs": [],
   "source": [
    "## Enforce minimum percentage of samples that have > min_count\n",
    "def check_min_percent(df, min_percent, min_count=0):\n",
    "    new_cols = []\n",
    "    for gene in df.columns:\n",
    "        percent_above_zero = float(len([x for x in df[gene].values if x > min_count]))/len(df[gene].values)*100\n",
    "        if percent_above_zero >= min_percent:\n",
    "            new_cols.append(gene)\n",
    "    return df[new_cols]"
   ]
  },
  {
   "cell_type": "code",
   "execution_count": 5,
   "metadata": {
    "collapsed": false
   },
   "outputs": [
    {
     "data": {
      "text/plain": [
       "(95, 57785)"
      ]
     },
     "execution_count": 5,
     "metadata": {},
     "output_type": "execute_result"
    }
   ],
   "source": [
    "new_fpkm.shape"
   ]
  },
  {
   "cell_type": "code",
   "execution_count": 12,
   "metadata": {
    "collapsed": true
   },
   "outputs": [],
   "source": [
    "new_fpkm = new_fpkm.apply(lambda x: np.log2(x + 1))\n",
    "new_fpkm = check_min_percent(new_fpkm, min_percent=75)"
   ]
  },
  {
   "cell_type": "code",
   "execution_count": 59,
   "metadata": {
    "collapsed": true
   },
   "outputs": [],
   "source": [
    "new_fpkm = new_fpkm[[col for col in new_fpkm.columns if col in old_fpkm.columns]]"
   ]
  },
  {
   "cell_type": "code",
   "execution_count": 60,
   "metadata": {
    "collapsed": false
   },
   "outputs": [
    {
     "data": {
      "text/plain": [
       "(95, 4936)"
      ]
     },
     "execution_count": 60,
     "metadata": {},
     "output_type": "execute_result"
    }
   ],
   "source": [
    "new_fpkm.shape"
   ]
  },
  {
   "cell_type": "code",
   "execution_count": 13,
   "metadata": {
    "collapsed": false
   },
   "outputs": [],
   "source": [
    "old_fpkm = old_fpkm.apply(lambda x: np.log2(x + 1))\n",
    "old_fpkm = check_min_percent(old_fpkm, min_percent=75)"
   ]
  },
  {
   "cell_type": "code",
   "execution_count": 14,
   "metadata": {
    "collapsed": false
   },
   "outputs": [
    {
     "data": {
      "text/plain": [
       "((95, 5175), (32, 16746))"
      ]
     },
     "execution_count": 14,
     "metadata": {},
     "output_type": "execute_result"
    }
   ],
   "source": [
    "new_fpkm.shape, old_fpkm.shape"
   ]
  },
  {
   "cell_type": "markdown",
   "metadata": {},
   "source": [
    "## Raw counts to FPKM "
   ]
  },
  {
   "cell_type": "code",
   "execution_count": 15,
   "metadata": {
    "collapsed": false
   },
   "outputs": [
    {
     "name": "stdout",
     "output_type": "stream",
     "text": [
      "(32, 16746) (32, 2)\n",
      "(95, 5175) (95, 32)\n"
     ]
    }
   ],
   "source": [
    "print old_fpkm.shape, old_meta.shape\n",
    "print new_fpkm.shape, meta.shape"
   ]
  },
  {
   "cell_type": "markdown",
   "metadata": {},
   "source": [
    "### In this study we have significantly more negative than positive samples\n",
    "### The function geteven_xy() returns an even number of neg and pos\n",
    "   - sampling = 'up' means that a random number of pos samples are added to make up the difference (there are duplicate pos. samples)\n",
    "   - sampling = 'down' means that a random number of neg. samples are removed (there are no duplicates, but the total number of samples is far fewer than when upsampling). "
   ]
  },
  {
   "cell_type": "code",
   "execution_count": 322,
   "metadata": {
    "collapsed": false
   },
   "outputs": [],
   "source": [
    "new_z = new_fpkm.apply(lambda x: zscore(x))"
   ]
  },
  {
   "cell_type": "code",
   "execution_count": 323,
   "metadata": {
    "collapsed": false
   },
   "outputs": [
    {
     "data": {
      "text/html": [
       "<div>\n",
       "<table border=\"1\" class=\"dataframe\">\n",
       "  <thead>\n",
       "    <tr style=\"text-align: right;\">\n",
       "      <th></th>\n",
       "      <th>ENSG00000000419</th>\n",
       "      <th>ENSG00000000938</th>\n",
       "      <th>ENSG00000001036</th>\n",
       "      <th>ENSG00000001561</th>\n",
       "      <th>ENSG00000001629</th>\n",
       "      <th>ENSG00000002549</th>\n",
       "      <th>ENSG00000002586</th>\n",
       "      <th>ENSG00000002587</th>\n",
       "      <th>ENSG00000002834</th>\n",
       "      <th>ENSG00000002919</th>\n",
       "      <th>...</th>\n",
       "      <th>ENSG00000277632</th>\n",
       "      <th>ENSG00000277791</th>\n",
       "      <th>ENSG00000278053</th>\n",
       "      <th>ENSG00000278133</th>\n",
       "      <th>ENSG00000278311</th>\n",
       "      <th>ENSG00000278970</th>\n",
       "      <th>ENSG00000279483</th>\n",
       "      <th>ENSG00000279602</th>\n",
       "      <th>ENSG00000279865</th>\n",
       "      <th>ENSG00000283041</th>\n",
       "    </tr>\n",
       "  </thead>\n",
       "  <tbody>\n",
       "    <tr>\n",
       "      <th>R1_BAL17_CD163_S1</th>\n",
       "      <td>0.669837</td>\n",
       "      <td>0.709135</td>\n",
       "      <td>-0.415655</td>\n",
       "      <td>-0.167682</td>\n",
       "      <td>-0.161751</td>\n",
       "      <td>-0.045394</td>\n",
       "      <td>1.055839</td>\n",
       "      <td>0.333772</td>\n",
       "      <td>0.657174</td>\n",
       "      <td>0.256925</td>\n",
       "      <td>...</td>\n",
       "      <td>1.082742</td>\n",
       "      <td>0.518786</td>\n",
       "      <td>0.317610</td>\n",
       "      <td>0.722396</td>\n",
       "      <td>0.618408</td>\n",
       "      <td>0.684693</td>\n",
       "      <td>0.777774</td>\n",
       "      <td>0.785445</td>\n",
       "      <td>-0.917703</td>\n",
       "      <td>-0.923840</td>\n",
       "    </tr>\n",
       "    <tr>\n",
       "      <th>R1_BAL25_AM_S2</th>\n",
       "      <td>0.007637</td>\n",
       "      <td>0.146286</td>\n",
       "      <td>0.162909</td>\n",
       "      <td>0.729504</td>\n",
       "      <td>0.789095</td>\n",
       "      <td>0.983479</td>\n",
       "      <td>-0.832816</td>\n",
       "      <td>0.085387</td>\n",
       "      <td>0.218039</td>\n",
       "      <td>1.020973</td>\n",
       "      <td>...</td>\n",
       "      <td>0.168713</td>\n",
       "      <td>0.109019</td>\n",
       "      <td>0.342504</td>\n",
       "      <td>0.639951</td>\n",
       "      <td>0.738580</td>\n",
       "      <td>0.666139</td>\n",
       "      <td>-0.163136</td>\n",
       "      <td>0.788134</td>\n",
       "      <td>0.879809</td>\n",
       "      <td>-0.155531</td>\n",
       "    </tr>\n",
       "    <tr>\n",
       "      <th>R1_BAL28_CD163_S3</th>\n",
       "      <td>-0.140794</td>\n",
       "      <td>0.145019</td>\n",
       "      <td>0.414551</td>\n",
       "      <td>0.344053</td>\n",
       "      <td>-0.450359</td>\n",
       "      <td>1.061159</td>\n",
       "      <td>-0.160810</td>\n",
       "      <td>2.030717</td>\n",
       "      <td>0.365263</td>\n",
       "      <td>0.307307</td>\n",
       "      <td>...</td>\n",
       "      <td>1.203624</td>\n",
       "      <td>0.659997</td>\n",
       "      <td>-0.679022</td>\n",
       "      <td>-1.442034</td>\n",
       "      <td>0.475173</td>\n",
       "      <td>1.015945</td>\n",
       "      <td>-2.134756</td>\n",
       "      <td>0.586625</td>\n",
       "      <td>-0.439008</td>\n",
       "      <td>0.182722</td>\n",
       "    </tr>\n",
       "    <tr>\n",
       "      <th>R1_BAL38_163_S4</th>\n",
       "      <td>1.432720</td>\n",
       "      <td>0.581286</td>\n",
       "      <td>-0.281883</td>\n",
       "      <td>-0.215439</td>\n",
       "      <td>-0.028928</td>\n",
       "      <td>-0.072849</td>\n",
       "      <td>-0.036668</td>\n",
       "      <td>1.008058</td>\n",
       "      <td>0.401872</td>\n",
       "      <td>-0.590093</td>\n",
       "      <td>...</td>\n",
       "      <td>0.826322</td>\n",
       "      <td>0.495974</td>\n",
       "      <td>0.123143</td>\n",
       "      <td>0.396291</td>\n",
       "      <td>-0.011973</td>\n",
       "      <td>-0.057439</td>\n",
       "      <td>-0.674585</td>\n",
       "      <td>-0.568465</td>\n",
       "      <td>-0.627957</td>\n",
       "      <td>-0.046070</td>\n",
       "    </tr>\n",
       "    <tr>\n",
       "      <th>R1_BAL48_AM_S5</th>\n",
       "      <td>-0.348680</td>\n",
       "      <td>-0.024048</td>\n",
       "      <td>1.355590</td>\n",
       "      <td>0.522240</td>\n",
       "      <td>-0.312826</td>\n",
       "      <td>0.694639</td>\n",
       "      <td>0.478532</td>\n",
       "      <td>1.744065</td>\n",
       "      <td>0.478354</td>\n",
       "      <td>0.715553</td>\n",
       "      <td>...</td>\n",
       "      <td>0.050166</td>\n",
       "      <td>0.599654</td>\n",
       "      <td>0.486596</td>\n",
       "      <td>0.307260</td>\n",
       "      <td>0.768787</td>\n",
       "      <td>0.594294</td>\n",
       "      <td>1.339705</td>\n",
       "      <td>1.754669</td>\n",
       "      <td>0.002175</td>\n",
       "      <td>0.927860</td>\n",
       "    </tr>\n",
       "  </tbody>\n",
       "</table>\n",
       "<p>5 rows × 5175 columns</p>\n",
       "</div>"
      ],
      "text/plain": [
       "                   ENSG00000000419  ENSG00000000938  ENSG00000001036  \\\n",
       "R1_BAL17_CD163_S1         0.669837         0.709135        -0.415655   \n",
       "R1_BAL25_AM_S2            0.007637         0.146286         0.162909   \n",
       "R1_BAL28_CD163_S3        -0.140794         0.145019         0.414551   \n",
       "R1_BAL38_163_S4           1.432720         0.581286        -0.281883   \n",
       "R1_BAL48_AM_S5           -0.348680        -0.024048         1.355590   \n",
       "\n",
       "                   ENSG00000001561  ENSG00000001629  ENSG00000002549  \\\n",
       "R1_BAL17_CD163_S1        -0.167682        -0.161751        -0.045394   \n",
       "R1_BAL25_AM_S2            0.729504         0.789095         0.983479   \n",
       "R1_BAL28_CD163_S3         0.344053        -0.450359         1.061159   \n",
       "R1_BAL38_163_S4          -0.215439        -0.028928        -0.072849   \n",
       "R1_BAL48_AM_S5            0.522240        -0.312826         0.694639   \n",
       "\n",
       "                   ENSG00000002586  ENSG00000002587  ENSG00000002834  \\\n",
       "R1_BAL17_CD163_S1         1.055839         0.333772         0.657174   \n",
       "R1_BAL25_AM_S2           -0.832816         0.085387         0.218039   \n",
       "R1_BAL28_CD163_S3        -0.160810         2.030717         0.365263   \n",
       "R1_BAL38_163_S4          -0.036668         1.008058         0.401872   \n",
       "R1_BAL48_AM_S5            0.478532         1.744065         0.478354   \n",
       "\n",
       "                   ENSG00000002919       ...         ENSG00000277632  \\\n",
       "R1_BAL17_CD163_S1         0.256925       ...                1.082742   \n",
       "R1_BAL25_AM_S2            1.020973       ...                0.168713   \n",
       "R1_BAL28_CD163_S3         0.307307       ...                1.203624   \n",
       "R1_BAL38_163_S4          -0.590093       ...                0.826322   \n",
       "R1_BAL48_AM_S5            0.715553       ...                0.050166   \n",
       "\n",
       "                   ENSG00000277791  ENSG00000278053  ENSG00000278133  \\\n",
       "R1_BAL17_CD163_S1         0.518786         0.317610         0.722396   \n",
       "R1_BAL25_AM_S2            0.109019         0.342504         0.639951   \n",
       "R1_BAL28_CD163_S3         0.659997        -0.679022        -1.442034   \n",
       "R1_BAL38_163_S4           0.495974         0.123143         0.396291   \n",
       "R1_BAL48_AM_S5            0.599654         0.486596         0.307260   \n",
       "\n",
       "                   ENSG00000278311  ENSG00000278970  ENSG00000279483  \\\n",
       "R1_BAL17_CD163_S1         0.618408         0.684693         0.777774   \n",
       "R1_BAL25_AM_S2            0.738580         0.666139        -0.163136   \n",
       "R1_BAL28_CD163_S3         0.475173         1.015945        -2.134756   \n",
       "R1_BAL38_163_S4          -0.011973        -0.057439        -0.674585   \n",
       "R1_BAL48_AM_S5            0.768787         0.594294         1.339705   \n",
       "\n",
       "                   ENSG00000279602  ENSG00000279865  ENSG00000283041  \n",
       "R1_BAL17_CD163_S1         0.785445        -0.917703        -0.923840  \n",
       "R1_BAL25_AM_S2            0.788134         0.879809        -0.155531  \n",
       "R1_BAL28_CD163_S3         0.586625        -0.439008         0.182722  \n",
       "R1_BAL38_163_S4          -0.568465        -0.627957        -0.046070  \n",
       "R1_BAL48_AM_S5            1.754669         0.002175         0.927860  \n",
       "\n",
       "[5 rows x 5175 columns]"
      ]
     },
     "execution_count": 323,
     "metadata": {},
     "output_type": "execute_result"
    }
   ],
   "source": [
    "new_z.head()"
   ]
  },
  {
   "cell_type": "code",
   "execution_count": 102,
   "metadata": {
    "collapsed": false
   },
   "outputs": [],
   "source": [
    "def geteven_xy(df, dfm, celltype, sampling='up', z=True):\n",
    "    dfm = dfm[dfm['CellType']==celltype]\n",
    "    y = dfm['Pneum'].values\n",
    "    df = df.ix[dfm.index]\n",
    "    #    if z: df = df.apply(lambda x: zscore(x))\n",
    "    genes = df.columns\n",
    "    pos = [i for i in range(len(y)) if y[i]==True]\n",
    "    neg = [i for i in range(len(y)) if y[i]==False]\n",
    "    \n",
    "    npos = len(pos)\n",
    "    nneg = len(neg)\n",
    "\n",
    "    #    print \"Num positive: {}\".format(len(pos))\n",
    "    #    print \"Num negative: {}\".format(len(neg))\n",
    "    if sampling=='down':\n",
    "        if nneg >= npos:\n",
    "            neg = random.sample(neg, npos)\n",
    "        else:\n",
    "            pos = random.sample(pos, nneg)\n",
    "    if sampling=='up':\n",
    "        if nneg >= npos:\n",
    "            dup_pos = random.sample(pos+pos, nneg-npos)\n",
    "            pos = pos + dup_pos ## pos+pos in case not enough in pos\n",
    "    #            print \"duplicated pos:\", dup_pos\n",
    "        else:\n",
    "            neg = neg + random.sample(neg+neg, npos-nneg)\n",
    "    \n",
    "    df = df.ix[(pos+neg),:]\n",
    "    if z: df = df.apply(lambda x: zscore(x))\n",
    "    dfm = dfm.ix[(pos+neg),:]\n",
    "    X = np.array(df)\n",
    "    y = dfm['Pneum'].values\n",
    "    #print \"Num pos after sampling: {}\".format(len(pos))\n",
    "    #print \"Num neg after sampling: {}\".format(len(neg))\n",
    "    #y = y[pos + neg] \n",
    "    #X = X[pos + neg] \n",
    "    return X,y, genes, df, dfm"
   ]
  },
  {
   "cell_type": "markdown",
   "metadata": {},
   "source": [
    "## PLSR - Q score"
   ]
  },
  {
   "cell_type": "markdown",
   "metadata": {},
   "source": [
    "## Still need to compare to jumbled genes"
   ]
  },
  {
   "cell_type": "markdown",
   "metadata": {},
   "source": [
    "### Build model using new data\n"
   ]
  },
  {
   "cell_type": "markdown",
   "metadata": {},
   "source": [
    "## Plot training error, test error"
   ]
  },
  {
   "cell_type": "code",
   "execution_count": 119,
   "metadata": {
    "collapsed": false
   },
   "outputs": [],
   "source": [
    "#determine the best number of genes for the training model\n",
    "def plotQ2(r=np.arange(5,105,5), celltype='AM', sampling='up', z=True):\n",
    "    Q2s = []\n",
    "    for n_top_genes in tqdm(r):\n",
    "        X, y, genes, df, dfm = geteven_xy(new_fpkm, meta, celltype=celltype, sampling=sampling, z=z)\n",
    "        neg_err, pos_err, Q2, pos_corr, neg_corr, vip_inds = calc_metrics(X, y, \n",
    "                                                        n_pcs=5, n_top_genes=n_top_genes)\n",
    "        Q2s.append(Q2)\n",
    "    return Q2s"
   ]
  },
  {
   "cell_type": "code",
   "execution_count": 127,
   "metadata": {
    "collapsed": false
   },
   "outputs": [
    {
     "name": "stderr",
     "output_type": "stream",
     "text": [
      "100%|██████████| 40/40 [03:48<00:00,  5.66s/it]\n"
     ]
    },
    {
     "data": {
      "text/plain": [
       "[<matplotlib.lines.Line2D at 0x1116dfc10>]"
      ]
     },
     "execution_count": 127,
     "metadata": {},
     "output_type": "execute_result"
    },
    {
     "data": {
      "image/png": "[encoded data removed]",
      "text/plain": [
       "<matplotlib.figure.Figure at 0x110491c90>"
      ]
     },
     "metadata": {},
     "output_type": "display_data"
    }
   ],
   "source": [
    "plt.plot(plotQ2(r=np.arange(5,205,5)))"
   ]
  },
  {
   "cell_type": "code",
   "execution_count": 124,
   "metadata": {
    "collapsed": false
   },
   "outputs": [
    {
     "data": {
      "text/plain": [
       "50"
      ]
     },
     "execution_count": 124,
     "metadata": {},
     "output_type": "execute_result"
    }
   ],
   "source": [
    "np.arange(5,105,5)[9]"
   ]
  },
  {
   "cell_type": "code",
   "execution_count": 133,
   "metadata": {
    "collapsed": false
   },
   "outputs": [
    {
     "data": {
      "text/plain": [
       "95"
      ]
     },
     "execution_count": 133,
     "metadata": {},
     "output_type": "execute_result"
    }
   ],
   "source": [
    "np.arange(5,205,5)[18]"
   ]
  },
  {
   "cell_type": "code",
   "execution_count": 128,
   "metadata": {
    "collapsed": false
   },
   "outputs": [
    {
     "name": "stderr",
     "output_type": "stream",
     "text": [
      "100%|██████████| 40/40 [03:49<00:00,  5.64s/it]\n"
     ]
    },
    {
     "data": {
      "text/plain": [
       "[<matplotlib.lines.Line2D at 0x11282a890>]"
      ]
     },
     "execution_count": 128,
     "metadata": {},
     "output_type": "execute_result"
    },
    {
     "data": {
      "image/png": "[encoded data removed]",
      "text/plain": [
       "<matplotlib.figure.Figure at 0x11174d510>"
      ]
     },
     "metadata": {},
     "output_type": "display_data"
    }
   ],
   "source": [
    "plt.plot(plotQ2(r=np.arange(5,205,5), celltype='CD163'))"
   ]
  },
  {
   "cell_type": "code",
   "execution_count": 104,
   "metadata": {
    "collapsed": false
   },
   "outputs": [],
   "source": [
    "\n",
    "def get_accuracy_stats(n, sampling, celltype, \n",
    "                   n_top_genes, z=False,\n",
    "                  flip_test_y=False, flip_train_y=False):\n",
    "    \n",
    "    neg_accuracy_train = []\n",
    "    neg_accuracy_test = []\n",
    "    pos_accuracy_train = []\n",
    "    pos_accuracy_test = []\n",
    "    all_top_genes_train = []\n",
    "    top_top_genes_train = [] # not a typo - these are the top across random samplings (n) of the top genes from LOO\n",
    "    old_genes = old_fpkm.columns\n",
    "    \n",
    "    ### TRAINING\n",
    "    #################\n",
    "    \n",
    "    ## Get most common genes from each model\n",
    "    for i in tqdm(range(n), desc=\"Training\"):\n",
    "        X, y, genes, df, dfm = geteven_xy(new_fpkm, meta, celltype=celltype, sampling=sampling, z=z)\n",
    "        #print y\n",
    "        if flip_train_y:\n",
    "            y = np.array(map(lambda x: True if x==0 else False, y))\n",
    "        #    print y\n",
    "        neg_err, pos_err, Q2, pos_corr, neg_corr, vip_inds = calc_metrics(X, y, \n",
    "                                                        n_pcs=5, n_top_genes=n_top_genes)\n",
    "        all_vips = [g for m in vip_inds for g in m]\n",
    "        c = Counter(all_vips)\n",
    "        top_inds = [i[0] for i in c.most_common(n_top_genes)]\n",
    "        top_genes_train = [genes[i] for i in top_inds]\n",
    "        all_top_genes_train += top_genes_train\n",
    "        \n",
    "        neg_accuracy_train.append(neg_corr)\n",
    "        pos_accuracy_train.append(pos_corr)\n",
    "\n",
    "    \n",
    "    ### Get the best of the top genes across all X,y\n",
    "    c = Counter(all_top_genes_train)\n",
    "    top_top_genes_train = [i[0] for i in c.most_common(n_top_genes)]\n",
    "    \n",
    "    ### Build model based on those genes\n",
    "    pls = PLSRegression(5, scale=True)\n",
    "    X = np.array(df[top_top_genes_train])\n",
    "    y = np.array(dfm['Pneum'])\n",
    "    pls.fit(X, y)\n",
    "        \n",
    "    \n",
    "    ### TESTING\n",
    "    ###############\n",
    "    \n",
    "    ### Random up-samples of old data for predictions\n",
    "    for i in tqdm(range(n), desc=\"Testing\"):\n",
    "        X_test, y_test, genes_test, df_test, dfm_test = geteven_xy(old_fpkm, \n",
    "                            old_meta, celltype=celltype, sampling=sampling, z=z)\n",
    "        #print y_test\n",
    "        if flip_test_y:\n",
    "            y_test = np.array(map(lambda x: True if x==0 else False, y_test))\n",
    "        X_test = np.array(df_test[top_top_genes_train])\n",
    "\n",
    "        y_pred = pls.predict(X_test)\n",
    "        \n",
    "        neg_err = [float(abs(y_pred[i]-y_test[i])) for i in range(len(y_pred)) if y_test[i]==0]\n",
    "        #print \"Negative error: \", neg_err\n",
    "        neg_acc = float(sum([(e < 0.5) for e in neg_err])) / len(neg_err)\n",
    "        #print \"Negative acc: \", neg_acc\n",
    "        \n",
    "        pos_err = [float(abs(y_pred[i]-y_test[i])) for i in range(len(y_pred)) if y_test[i]==1]\n",
    "        #print \"Positive error: \", pos_err\n",
    "        pos_acc = float(sum([(e < 0.5) for e in pos_err])) / len(pos_err)\n",
    "        #print \"Positive acc: \", pos_acc\n",
    "\n",
    "        neg_accuracy_test.append(neg_acc)\n",
    "        pos_accuracy_test.append(pos_acc)\n",
    "        \n",
    "    #print \"positive error mean= {}\".format(np.mean(pos_err))\n",
    "    #print \"negative error mean= {}\".format(np.mean(neg_err))\n",
    "    return neg_accuracy_train, neg_accuracy_test, pos_accuracy_train, pos_accuracy_test"
   ]
  },
  {
   "cell_type": "markdown",
   "metadata": {},
   "source": [
    "### Get genes from mean of train -> test"
   ]
  },
  {
   "cell_type": "markdown",
   "metadata": {},
   "source": [
    "# AM cells"
   ]
  },
  {
   "cell_type": "markdown",
   "metadata": {},
   "source": [
    "## AM - top 20 genes - \n",
    "### downsampling"
   ]
  },
  {
   "cell_type": "code",
   "execution_count": 99,
   "metadata": {
    "collapsed": false
   },
   "outputs": [
    {
     "name": "stderr",
     "output_type": "stream",
     "text": [
      "\r",
      "Training:   0%|          | 0/20 [00:00<?, ?it/s]"
     ]
    },
    {
     "name": "stdout",
     "output_type": "stream",
     "text": [
      "Num positive: 19\n",
      "Num negative: 30\n",
      "negs [27, 6, 25, 8, 43, 9, 7, 10, 5, 3, 45, 39, 19, 38, 42, 20, 16, 28, 0]\n",
      "poss [1, 4, 11, 15, 23, 24, 26, 29, 30, 31, 32, 33, 35, 36, 37, 40, 44, 46, 47]\n"
     ]
    },
    {
     "name": "stderr",
     "output_type": "stream",
     "text": [
      "\r",
      "Training:   5%|▌         | 1/20 [00:03<01:06,  3.50s/it]"
     ]
    },
    {
     "name": "stdout",
     "output_type": "stream",
     "text": [
      "Num positive: 19\n",
      "Num negative: 30\n",
      "negs [27, 7, 0, 25, 18, 6, 48, 19, 42, 13, 10, 43, 14, 39, 38, 12, 41, 21, 5]\n",
      "poss "
     ]
    },
    {
     "name": "stderr",
     "output_type": "stream",
     "text": [
      "\r",
      "Training:  10%|█         | 2/20 [00:06<01:02,  3.46s/it]"
     ]
    },
    {
     "name": "stdout",
     "output_type": "stream",
     "text": [
      "[1, 4, 11, 15, 23, 24, 26, 29, 30, 31, 32, 33, 35, 36, 37, 40, 44, 46, 47]\n",
      "Num positive: 19\n",
      "Num negative: 30\n",
      "negs [27, 41, 8, 18, 48, 10, 42, 20, 7, 17, 5, 38, 21, 2, 43, 6, 28, 34, 12]\n",
      "poss "
     ]
    },
    {
     "name": "stderr",
     "output_type": "stream",
     "text": [
      "\r",
      "Training:  15%|█▌        | 3/20 [00:10<00:58,  3.42s/it]"
     ]
    },
    {
     "name": "stdout",
     "output_type": "stream",
     "text": [
      "[1, 4, 11, 15, 23, 24, 26, 29, 30, 31, 32, 33, 35, 36, 37, 40, 44, 46, 47]\n",
      "Num positive: 19\n",
      "Num negative: 30\n",
      "negs [45, 9, 2, 22, 12, 20, 34, 10, 14, 13, 42, 3, 48, 39, 0, 41, 7, 16, 18]\n",
      "poss [1, 4, 11, 15, 23, 24, 26, 29, 30, 31, 32, 33, 35, 36, 37, 40, 44, 46, 47]"
     ]
    },
    {
     "name": "stderr",
     "output_type": "stream",
     "text": [
      "\r",
      "Training:  20%|██        | 4/20 [00:13<00:55,  3.48s/it]"
     ]
    },
    {
     "name": "stdout",
     "output_type": "stream",
     "text": [
      "\n",
      "Num positive: 19\n",
      "Num negative: 30\n",
      "negs [12, 38, 0, 10, 48, 3, 39, 13, 18, 17, 41, 6, 9, 14, 45, 2, 27, 42, 16]"
     ]
    },
    {
     "name": "stderr",
     "output_type": "stream",
     "text": [
      "\r",
      "Training:  25%|██▌       | 5/20 [00:17<00:55,  3.68s/it]"
     ]
    },
    {
     "name": "stdout",
     "output_type": "stream",
     "text": [
      "\n",
      "poss [1, 4, 11, 15, 23, 24, 26, 29, 30, 31, 32, 33, 35, 36, 37, 40, 44, 46, 47]\n",
      "Num positive: 19\n",
      "Num negative: 30\n",
      "negs [19, 6, 3, 5, 28, 38, 9, 7, 10, 45, 12, 21, 25, 48, 8, 27, 0, 18, 43]\n"
     ]
    },
    {
     "name": "stderr",
     "output_type": "stream",
     "text": [
      "\r",
      "Training:  30%|███       | 6/20 [00:21<00:52,  3.73s/it]"
     ]
    },
    {
     "name": "stdout",
     "output_type": "stream",
     "text": [
      "poss [1, 4, 11, 15, 23, 24, 26, 29, 30, 31, 32, 33, 35, 36, 37, 40, 44, 46, 47]\n",
      "Num positive: 19\n",
      "Num negative: 30\n",
      "negs [28, 39, 42, 16, 5, 20, 2, 48, 41, 3, 13, 7, 21, 18, 14, 45, 38, 27, 22]\n",
      "poss"
     ]
    },
    {
     "name": "stderr",
     "output_type": "stream",
     "text": [
      "\r",
      "Training:  35%|███▌      | 7/20 [00:25<00:47,  3.68s/it]"
     ]
    },
    {
     "name": "stdout",
     "output_type": "stream",
     "text": [
      " [1, 4, 11, 15, 23, 24, 26, 29, 30, 31, 32, 33, 35, 36, 37, 40, 44, 46, 47]\n",
      "Num positive: 19\n",
      "Num negative: 30\n",
      "negs [8, 21, 20, 18, 10, 17, 3, 34, 22, 5, 25, 48, 16, 41, 13, 43, 12, 9, 27]\n",
      "poss [1, 4, 11, 15, 23, 24, 26, 29, 30, 31, 32, 33, 35, 36, 37, 40, 44, 46, 47]\n"
     ]
    },
    {
     "name": "stderr",
     "output_type": "stream",
     "text": [
      "\r",
      "Training:  40%|████      | 8/20 [00:29<00:46,  3.89s/it]"
     ]
    },
    {
     "name": "stdout",
     "output_type": "stream",
     "text": [
      "Num positive: 19\n",
      "Num negative: 30\n",
      "negs [2, 17, 14, 21, 28, 27, 43, 19, 5, 7, 41, 45, 25, 34, 12, 16, 38, 10, 6]\n",
      "poss [1, 4, 11, 15, 23, 24, 26, 29, 30, 31, 32, 33, 35, 36, 37, 40, 44, 46, 47]"
     ]
    },
    {
     "name": "stderr",
     "output_type": "stream",
     "text": [
      "\r",
      "Training:  45%|████▌     | 9/20 [00:33<00:42,  3.87s/it]"
     ]
    },
    {
     "name": "stdout",
     "output_type": "stream",
     "text": [
      "\n",
      "Num positive: 19\n",
      "Num negative: 30\n",
      "negs [6, 0, 22, 25, 34, 42, 8, 27, 18, 20, 7, 3, 12, 43, 38, 28, 13, 45, 10]\n",
      "poss [1, 4, 11, 15, 23, 24, 26, 29, 30, 31, 32, 33, 35, 36, 37, 40, 44, 46, 47]\n"
     ]
    },
    {
     "name": "stderr",
     "output_type": "stream",
     "text": [
      "\r",
      "Training:  50%|█████     | 10/20 [00:36<00:37,  3.73s/it]"
     ]
    },
    {
     "name": "stdout",
     "output_type": "stream",
     "text": [
      "Num positive: 19\n",
      "Num negative: 30\n",
      "negs [27, 14, 19, 28, 12, 41, 7, 39, 16, 13, 42, 38, 8, 10, 22, 45, 48, 9, 20]\n",
      "poss [1, 4, 11, 15, 23, 24, 26, 29, 30, 31, 32, 33, 35, 36, 37, 40, 44, 46, 47]\n"
     ]
    },
    {
     "name": "stderr",
     "output_type": "stream",
     "text": [
      "\r",
      "Training:  55%|█████▌    | 11/20 [00:40<00:33,  3.72s/it]"
     ]
    },
    {
     "name": "stdout",
     "output_type": "stream",
     "text": [
      "Num positive: 19\n",
      "Num negative: 30\n",
      "negs [2, 13, 3, 17, 28, 7, 9, 12, 34, 14, 27, 22, 25, 41, 38, 45, 19, 21, 43]\n",
      "poss [1, 4, 11, 15, 23, 24, 26, 29, 30, 31, 32, 33, 35, 36, 37, 40, 44, 46, 47]\n"
     ]
    },
    {
     "name": "stderr",
     "output_type": "stream",
     "text": [
      "\r",
      "Training:  60%|██████    | 12/20 [00:44<00:29,  3.67s/it]"
     ]
    },
    {
     "name": "stdout",
     "output_type": "stream",
     "text": [
      "Num positive: 19\n",
      "Num negative: 30\n",
      "negs [8, 20, 3, 48, 7, 17, 5, 39, 9, 45, 41, 38, 13, 19, 16, 14, 42, 12, 28]\n",
      "poss [1, 4, 11, 15, 23, 24, 26, 29, 30, 31, 32, 33, 35, 36, 37, 40, 44, 46, 47]\n"
     ]
    },
    {
     "name": "stderr",
     "output_type": "stream",
     "text": [
      "\r",
      "Training:  65%|██████▌   | 13/20 [00:47<00:25,  3.61s/it]"
     ]
    },
    {
     "name": "stdout",
     "output_type": "stream",
     "text": [
      "Num positive: 19\n",
      "Num negative: 30\n",
      "negs [21, 6, 22, 7, 18, 12, 0, 20, 10, 16, 19, 8, 17, 48, 38, 27, 43, 39, 42]\n",
      "poss [1, 4, 11, 15, 23, 24, 26, 29, 30, 31, 32, 33, 35, 36, 37, 40, 44, 46, 47]\n"
     ]
    },
    {
     "name": "stderr",
     "output_type": "stream",
     "text": [
      "\r",
      "Training:  70%|███████   | 14/20 [00:51<00:21,  3.54s/it]"
     ]
    },
    {
     "name": "stdout",
     "output_type": "stream",
     "text": [
      "Num positive: 19\n",
      "Num negative: 30\n",
      "negs [12, 6, 8, 9, 5, 42, 39, 17, 21, 16, 25, 27, 34, 14, 0, 18, 2, 10, 19]\n",
      "poss"
     ]
    },
    {
     "name": "stderr",
     "output_type": "stream",
     "text": [
      "\r",
      "Training:  75%|███████▌  | 15/20 [00:54<00:17,  3.47s/it]"
     ]
    },
    {
     "name": "stdout",
     "output_type": "stream",
     "text": [
      " [1, 4, 11, 15, 23, 24, 26, 29, 30, 31, 32, 33, 35, 36, 37, 40, 44, 46, 47]\n",
      "Num positive: 19\n",
      "Num negative: 30\n",
      "negs [39, 10, 3, 48, 18, 2, 42, 5, 7, 9, 6, 12, 41, 27, 21, 34, 16, 14, 20]\n",
      "poss "
     ]
    },
    {
     "name": "stderr",
     "output_type": "stream",
     "text": [
      "\r",
      "Training:  80%|████████  | 16/20 [00:57<00:13,  3.42s/it]"
     ]
    },
    {
     "name": "stdout",
     "output_type": "stream",
     "text": [
      "[1, 4, 11, 15, 23, 24, 26, 29, 30, 31, 32, 33, 35, 36, 37, 40, 44, 46, 47]\n",
      "Num positive: 19\n",
      "Num negative: 30\n",
      "negs [48, 7, 3, 38, 9, 22, 43, 34, 8, 20, 14, 10, 21, 16, 27, 5, 12, 0, 6]"
     ]
    },
    {
     "name": "stderr",
     "output_type": "stream",
     "text": [
      "\r",
      "Training:  85%|████████▌ | 17/20 [01:01<00:10,  3.46s/it]"
     ]
    },
    {
     "name": "stdout",
     "output_type": "stream",
     "text": [
      "\n",
      "poss [1, 4, 11, 15, 23, 24, 26, 29, 30, 31, 32, 33, 35, 36, 37, 40, 44, 46, 47]\n",
      "Num positive: 19\n",
      "Num negative: 30\n",
      "negs [13, 5, 39, 8, 2, 45, 38, 12, 3, 14, 27, 20, 43, 6, 19, 21, 48, 18, 16]\n"
     ]
    },
    {
     "name": "stderr",
     "output_type": "stream",
     "text": [
      "\r",
      "Training:  90%|█████████ | 18/20 [01:05<00:07,  3.63s/it]"
     ]
    },
    {
     "name": "stdout",
     "output_type": "stream",
     "text": [
      "poss [1, 4, 11, 15, 23, 24, 26, 29, 30, 31, 32, 33, 35, 36, 37, 40, 44, 46, 47]\n",
      "Num positive: 19\n",
      "Num negative: 30\n",
      "negs [48, 38, 5, 17, 28, 45, 21, 8, 14, 19, 7, 27, 3, 25, 43, 18, 12, 0, 16]\n",
      "poss [1, 4, 11, 15, 23, 24, 26, 29, 30, 31, 32, 33, 35, 36, 37, 40, 44, 46, 47]\n"
     ]
    },
    {
     "name": "stderr",
     "output_type": "stream",
     "text": [
      "\r",
      "Training:  95%|█████████▌| 19/20 [01:08<00:03,  3.56s/it]"
     ]
    },
    {
     "name": "stdout",
     "output_type": "stream",
     "text": [
      "Num positive: 19\n",
      "Num negative: 30\n",
      "negs [25, 3, 6, 13, 10, 12, 8, 48, 42, 20, 38, 5, 0, 17, 41, 39, 18, 9, 7]\n",
      "poss [1, 4, 11, 15, 23, 24, 26, 29, 30, 31, 32, 33, 35, 36, 37, 40, 44, 46, 47]\n"
     ]
    },
    {
     "name": "stderr",
     "output_type": "stream",
     "text": [
      "Training: 100%|██████████| 20/20 [01:11<00:00,  3.48s/it]\n",
      "Testing:   0%|          | 0/20 [00:00<?, ?it/s]"
     ]
    },
    {
     "name": "stdout",
     "output_type": "stream",
     "text": [
      "Num positive: 6\n",
      "Num negative: 14\n",
      "negs [18, 7, 3, 4, 2, 0]\n",
      "poss [5, 11, 12, 13, 14, 17]\n"
     ]
    },
    {
     "name": "stderr",
     "output_type": "stream",
     "text": [
      "\r",
      "Testing:   5%|▌         | 1/20 [00:02<00:55,  2.90s/it]"
     ]
    },
    {
     "name": "stdout",
     "output_type": "stream",
     "text": [
      "Negative error:  [0.4167491681997306, 0.47693099129527255, 0.3071925490985193, 0.2495797311167512, 0.48030703085307314, 0.6123626602604819]\n",
      "Negative acc:  0.833333333333\n",
      "Positive error:  [0.04072269529506212, 0.6252858590138783, 0.6605991315553595, 0.5325541447511324, 0.3969029810204041, 0.28705731918799615]\n",
      "Positive acc:  0.5\n",
      "Num positive: 6\n",
      "Num negative: 14\n",
      "negs [0, 1, 2, 6, 10, 15]\n",
      "poss [5, 11, 12, 13, 14, 17]\n"
     ]
    },
    {
     "name": "stderr",
     "output_type": "stream",
     "text": [
      "\r",
      "Testing:  10%|█         | 2/20 [00:05<00:51,  2.87s/it]"
     ]
    },
    {
     "name": "stdout",
     "output_type": "stream",
     "text": [
      "Negative error:  [0.43529331479308664, 0.5748581873823038, 0.2976885124208652, 0.6256410759622204, 0.3150002212681219, 1.137702058873796]\n",
      "Negative acc:  0.5\n",
      "Positive error:  [0.19980770729521757, 0.7991740255138325, 0.7639837048533495, 0.6391365387085106, 0.5720135190283548, 0.41206787530113076]\n",
      "Positive acc:  0.333333333333\n",
      "Num positive: 6\n",
      "Num negative: 14\n",
      "negs [7, 15, 10, 0, 4, 2]\n",
      "poss [5, 11, 12, 13, 14, 17]\n"
     ]
    },
    {
     "name": "stderr",
     "output_type": "stream",
     "text": [
      "\r",
      "Testing:  15%|█▌        | 3/20 [00:08<00:50,  2.99s/it]"
     ]
    },
    {
     "name": "stdout",
     "output_type": "stream",
     "text": [
      "Negative error:  [0.4329313969433265, 1.187519473437869, 0.42566373410160513, 0.49771305992959447, 0.2288400215692778, 0.3970781490488367]\n",
      "Negative acc:  0.833333333333\n",
      "Positive error:  [0.17276378903068035, 0.7327942986849801, 0.7500074203299907, 0.6081303932669029, 0.5144626991635122, 0.39158723455444466]\n",
      "Positive acc:  0.333333333333\n",
      "Num positive: 6\n",
      "Num negative: 14\n"
     ]
    },
    {
     "name": "stderr",
     "output_type": "stream",
     "text": [
      "\r",
      "Testing:  20%|██        | 4/20 [00:12<00:49,  3.08s/it]"
     ]
    },
    {
     "name": "stdout",
     "output_type": "stream",
     "text": [
      "negs [15, 8, 0, 16, 19, 2]\n",
      "poss [5, 11, 12, 13, 14, 17]\n",
      "Negative error:  [1.2696396441457718, 0.044802652072369, 0.6148635176953255, 0.0942324677417603, 0.48748795023100844, 0.43624007792100655]\n",
      "Negative acc:  0.666666666667\n",
      "Positive error:  [0.08857811647384872, 0.686300600754881, 0.7210556600559423, 0.6086182925675715, 0.5125253022391486, 0.33018833771585254]\n",
      "Positive acc:  0.333333333333\n",
      "Num positive: 6\n",
      "Num negative: 14\n",
      "negs [0, 19, 10, 4, 9, 18]\n",
      "poss"
     ]
    },
    {
     "name": "stderr",
     "output_type": "stream",
     "text": [
      "\r",
      "Testing:  25%|██▌       | 5/20 [00:15<00:45,  3.06s/it]"
     ]
    },
    {
     "name": "stdout",
     "output_type": "stream",
     "text": [
      " [5, 11, 12, 13, 14, 17]\n",
      "Negative error:  [0.5456006405103249, 0.5475717968236387, 0.4792169647809161, 0.24420381652874695, 0.3309530634412751, 0.40964057109382]\n",
      "Negative acc:  0.666666666667\n",
      "Positive error:  [0.02707767964471408, 0.6939447926082888, 0.6707145572672063, 0.49166064397172315, 0.3844837233287888, 0.28930545635800287]\n",
      "Positive acc:  0.666666666667\n",
      "Num positive: 6\n",
      "Num negative: 14\n",
      "negs [4, 3, 15, 16, 9, 7]\n",
      "poss [5, 11, 12, 13, 14, 17]\n"
     ]
    },
    {
     "name": "stderr",
     "output_type": "stream",
     "text": [
      "\r",
      "Testing:  30%|███       | 6/20 [00:18<00:42,  3.04s/it]"
     ]
    },
    {
     "name": "stdout",
     "output_type": "stream",
     "text": [
      "Negative error:  [0.31224832479826636, 0.36785350434121583, 1.1844299280668118, 0.17922018419824326, 0.33595284980870344, 0.49231741849713523]\n",
      "Negative acc:  0.833333333333\n",
      "Positive error:  [0.1439333478586351, 0.647819887658314, 0.6725196079082015, 0.5979792738754912, 0.4668904861074681, 0.3428796063022679]\n",
      "Positive acc:  0.5\n",
      "Num positive: 6\n",
      "Num negative: 14\n",
      "negs [18, 4, 8, 2, 16, 1]\n",
      "poss [5, 11, 12, 13, 14, 17]\n"
     ]
    },
    {
     "name": "stderr",
     "output_type": "stream",
     "text": [
      "\r",
      "Testing:  35%|███▌      | 7/20 [00:21<00:41,  3.20s/it]"
     ]
    },
    {
     "name": "stdout",
     "output_type": "stream",
     "text": [
      "Negative error:  [0.45442945978654536, 0.3353473196249788, 0.16087792589141786, 0.5082493811106615, 0.19508101033512554, 0.7571170019169822]\n",
      "Negative acc:  0.666666666667\n",
      "Positive error:  [0.02307455112436041, 0.6351307965207987, 0.6093904402326902, 0.4987287878637886, 0.39455437797237547, 0.2502231449516985]\n",
      "Positive acc:  0.666666666667\n",
      "Num positive: 6\n",
      "Num negative: 14\n",
      "negs [1, 19, 9, 18, 2, 16]\n",
      "poss [5, 11, 12, 13, 14, 17]\n"
     ]
    },
    {
     "name": "stderr",
     "output_type": "stream",
     "text": [
      "\r",
      "Testing:  40%|████      | 8/20 [00:25<00:39,  3.27s/it]"
     ]
    },
    {
     "name": "stdout",
     "output_type": "stream",
     "text": [
      "Negative error:  [0.6674420888317081, 0.5450854376563015, 0.3162582374913564, 0.42799423346242965, 0.4613885782098377, 0.1249089625799849]\n",
      "Negative acc:  0.666666666667\n",
      "Positive error:  [0.006354825285200039, 0.6623863120192652, 0.6626487392899385, 0.5184138099105251, 0.4063047088308579, 0.28696914289583164]\n",
      "Positive acc:  0.5\n",
      "Num positive: 6\n",
      "Num negative: 14\n",
      "negs"
     ]
    },
    {
     "name": "stderr",
     "output_type": "stream",
     "text": [
      "\r",
      "Testing:  45%|████▌     | 9/20 [00:28<00:36,  3.29s/it]"
     ]
    },
    {
     "name": "stdout",
     "output_type": "stream",
     "text": [
      " [7, 6, 9, 0, 4, 1]\n",
      "poss [5, 11, 12, 13, 14, 17]\n",
      "Negative error:  [0.43862444179398424, 0.7434048629026738, 0.2811295061233832, 0.5060442280482111, 0.1832818251886803, 0.6465713688989289]\n",
      "Negative acc:  0.5\n",
      "Positive error:  [0.06048965885020008, 0.7438933436995291, 0.6808790378889447, 0.5291854066853492, 0.4441560751702166, 0.34045271066162197]\n",
      "Positive acc:  0.5\n",
      "Num positive: 6\n",
      "Num negative: 14\n",
      "negs [2, 4, 19, 18, 9, 10]\n",
      "poss [5, 11, 12, 13, 14, 17]\n"
     ]
    },
    {
     "name": "stderr",
     "output_type": "stream",
     "text": [
      "\r",
      "Testing:  50%|█████     | 10/20 [00:31<00:31,  3.16s/it]"
     ]
    },
    {
     "name": "stdout",
     "output_type": "stream",
     "text": [
      "Negative error:  [0.4742233913513683, 0.2636368952928403, 0.5629254354253541, 0.4258555921985267, 0.3369914919211913, 0.5010887215348588]\n",
      "Negative acc:  0.666666666667\n",
      "Positive error:  [0.0357695873563888, 0.6775039702799, 0.6743219598918396, 0.49249760963563305, 0.3802357982913348, 0.30439260226904497]\n",
      "Positive acc:  0.666666666667\n",
      "Num positive: 6\n",
      "Num negative: 14\n",
      "negs [19, 3, 4, 15, 0, 9]\n",
      "poss [5, 11, 12, 13, 14, 17]\n"
     ]
    },
    {
     "name": "stderr",
     "output_type": "stream",
     "text": [
      "\r",
      "Testing:  55%|█████▌    | 11/20 [00:34<00:29,  3.25s/it]"
     ]
    },
    {
     "name": "stdout",
     "output_type": "stream",
     "text": [
      "Negative error:  [0.44570900609898445, 0.2868262644434338, 0.24073051726976535, 1.1751970075721894, 0.5446034337492183, 0.30177808258163263]\n",
      "Negative acc:  0.666666666667\n",
      "Positive error:  [0.1383073287921528, 0.7045974540359929, 0.6906011827463523, 0.6065452451793184, 0.49927174864039126, 0.3555213523210179]\n",
      "Positive acc:  0.5\n",
      "Num positive: 6\n",
      "Num negative: 14\n",
      "negs [0, 7, 4, 18, 2, 19]\n",
      "poss [5, 11, 12, 13, 14, 17]\n"
     ]
    },
    {
     "name": "stderr",
     "output_type": "stream",
     "text": [
      "\r",
      "Testing:  60%|██████    | 12/20 [00:38<00:26,  3.28s/it]"
     ]
    },
    {
     "name": "stdout",
     "output_type": "stream",
     "text": [
      "Negative error:  [0.5581169218521941, 0.477736001671844, 0.2379275281076942, 0.3877113145599215, 0.46346269511655513, 0.5352230351529532]\n",
      "Negative acc:  0.666666666667\n",
      "Positive error:  [0.001564782010027299, 0.6833891856904426, 0.7210956488782455, 0.5180721693334998, 0.4247705133367481, 0.31128519721220094]\n",
      "Positive acc:  0.5\n",
      "Num positive: 6\n",
      "Num negative: 14\n",
      "negs "
     ]
    },
    {
     "name": "stderr",
     "output_type": "stream",
     "text": [
      "\r",
      "Testing:  65%|██████▌   | 13/20 [00:41<00:22,  3.16s/it]"
     ]
    },
    {
     "name": "stdout",
     "output_type": "stream",
     "text": [
      "[8, 3, 10, 0, 15, 4]\n",
      "poss [5, 11, 12, 13, 14, 17]\n",
      "Negative error:  [0.14848547288054692, 0.30385818147192223, 0.4679182684555526, 0.5708803501425244, 1.1719680744714718, 0.2657465393417452]\n",
      "Negative acc:  0.666666666667\n",
      "Positive error:  [0.17040042310786152, 0.6946564197692886, 0.6673068641772061, 0.5902061531988281, 0.47720201870172263, 0.32908500780885686]\n",
      "Positive acc:  0.5\n",
      "Num positive: 6\n",
      "Num negative: 14\n",
      "negs [8, 10, 9, 16, 4, 3]\n",
      "poss [5, 11, 12, 13, 14, 17]\n"
     ]
    },
    {
     "name": "stderr",
     "output_type": "stream",
     "text": [
      "\r",
      "Testing:  70%|███████   | 14/20 [00:43<00:18,  3.02s/it]"
     ]
    },
    {
     "name": "stdout",
     "output_type": "stream",
     "text": [
      "Negative error:  [0.2472221983055347, 0.5681326205848677, 0.39028673601591657, 0.23287142553846057, 0.33873382727615353, 0.4136904128838388]\n",
      "Negative acc:  0.833333333333\n",
      "Positive error:  [0.036092077674200196, 0.5847636092219151, 0.5575453184774086, 0.4713206136809661, 0.3206591110915272, 0.22055649045875614]\n",
      "Positive acc:  0.666666666667\n",
      "Num positive: 6\n",
      "Num negative: 14\n",
      "negs [1, 19, 18, 3, 7, 9]\n",
      "poss [5, 11, 12, 13, 14, 17]\n"
     ]
    },
    {
     "name": "stderr",
     "output_type": "stream",
     "text": [
      "\r",
      "Testing:  75%|███████▌  | 15/20 [00:46<00:15,  3.03s/it]"
     ]
    },
    {
     "name": "stdout",
     "output_type": "stream",
     "text": [
      "Negative error:  [0.6323434542942564, 0.5089504626081528, 0.39677312057336717, 0.3224302878368447, 0.45893164345628457, 0.30557422792576816]\n",
      "Negative acc:  0.666666666667\n",
      "Positive error:  [0.023854652202966786, 0.6869899218149442, 0.6681343358788181, 0.5424362997440791, 0.42284620622922386, 0.28074178082464085]\n",
      "Positive acc:  0.5\n",
      "Num positive: 6\n",
      "Num negative: 14\n",
      "negs [2, 7, 4, 19, 16, 0]\n",
      "poss [5, 11, 12, 13, 14, 17]\n"
     ]
    },
    {
     "name": "stderr",
     "output_type": "stream",
     "text": [
      "\r",
      "Testing:  80%|████████  | 16/20 [00:49<00:11,  2.94s/it]"
     ]
    },
    {
     "name": "stdout",
     "output_type": "stream",
     "text": [
      "Negative error:  [0.48277488212186564, 0.4926037142386854, 0.2686965483458368, 0.5457206035826119, 0.11458361345875984, 0.6064289965929583]\n",
      "Negative acc:  0.666666666667\n",
      "Positive error:  [0.005113999443389972, 0.6414105048967631, 0.6743130600837127, 0.5044494331191808, 0.40410652568697225, 0.29164283399748114]\n",
      "Positive acc:  0.5\n",
      "Num positive: 6\n",
      "Num negative: 14\n",
      "negs [15, 6, 2, 1, 7, 19]\n",
      "poss [5, 11, 12, 13, 14, 17]\n"
     ]
    },
    {
     "name": "stderr",
     "output_type": "stream",
     "text": [
      "\r",
      "Testing:  85%|████████▌ | 17/20 [00:52<00:08,  2.95s/it]"
     ]
    },
    {
     "name": "stdout",
     "output_type": "stream",
     "text": [
      "Negative error:  [1.163532076589775, 0.6506527440832901, 0.3055963310381048, 0.5963959620176617, 0.34631138571095343, 0.3805879296669892]\n",
      "Negative acc:  0.5\n",
      "Positive error:  [0.16895315232920738, 0.8160788910186252, 0.7923232703207115, 0.6513926506144998, 0.5910094784461422, 0.4233189863775909]\n",
      "Positive acc:  0.333333333333\n",
      "Num positive: 6\n",
      "Num negative: 14\n",
      "negs [15, 1, 6, 18, 4, 10]\n",
      "poss [5, 11, 12, 13, 14, 17]\n"
     ]
    },
    {
     "name": "stderr",
     "output_type": "stream",
     "text": [
      "\r",
      "Testing:  90%|█████████ | 18/20 [00:55<00:05,  2.89s/it]"
     ]
    },
    {
     "name": "stdout",
     "output_type": "stream",
     "text": [
      "Negative error:  [1.1255092440983159, 0.6184823668159612, 0.6707729768577742, 0.29767562722151, 0.19485419808962223, 0.3820901890828551]\n",
      "Negative acc:  0.5\n",
      "Positive error:  [0.2229136686760118, 0.7727164699157814, 0.7327898976873156, 0.6284137007321825, 0.5363478601777002, 0.39620300497704886]\n",
      "Positive acc:  0.333333333333\n",
      "Num positive: 6\n",
      "Num negative: 14\n",
      "negs [3, 0, 8, 2, 10, 7]\n",
      "poss [5, 11, 12, 13, 14, 17]"
     ]
    },
    {
     "name": "stderr",
     "output_type": "stream",
     "text": [
      "\r",
      "Testing:  95%|█████████▌| 19/20 [00:58<00:02,  2.87s/it]"
     ]
    },
    {
     "name": "stdout",
     "output_type": "stream",
     "text": [
      "\n",
      "Negative error:  [0.31100839573478384, 0.6207252429319643, 0.11890976826716199, 0.46601715789569786, 0.4488125733315916, 0.4785780177385128]\n",
      "Negative acc:  0.833333333333\n",
      "Positive error:  [0.02288134532592412, 0.6337221182854059, 0.6392966657401102, 0.5077576173929317, 0.3834558407329258, 0.256937568422416]\n",
      "Positive acc:  0.5\n",
      "Num positive: 6\n",
      "Num negative: 14\n",
      "negs [19, 4, 8, 18, 7, 10]\n",
      "poss [5, 11, 12, 13, 14, 17]\n"
     ]
    },
    {
     "name": "stderr",
     "output_type": "stream",
     "text": [
      "\r",
      "Testing: 100%|██████████| 20/20 [01:01<00:00,  3.14s/it]"
     ]
    },
    {
     "name": "stdout",
     "output_type": "stream",
     "text": [
      "Negative error:  [0.5620434714306878, 0.31165794037576555, 0.13763177179312203, 0.4374852837645849, 0.5324387934264104, 0.5210786939645246]\n",
      "Negative acc:  0.5\n",
      "Positive error:  [0.051647065004179926, 0.6509355006088154, 0.653197293289125, 0.5134719674428659, 0.3780286506832382, 0.255055477726871]\n",
      "Positive acc:  0.5\n"
     ]
    },
    {
     "name": "stderr",
     "output_type": "stream",
     "text": [
      "\n"
     ]
    }
   ],
   "source": [
    "testAM_down = get_accuracy_stats(n=20, celltype='AM', \n",
    "                        n_top_genes=50, sampling='down', \n",
    "                        z=True, flip_test_y=False, flip_train_y=False)\n"
   ]
  },
  {
   "cell_type": "code",
   "execution_count": 100,
   "metadata": {
    "collapsed": false
   },
   "outputs": [
    {
     "data": {
      "text/plain": [
       "<matplotlib.text.Text at 0x10d15cb10>"
      ]
     },
     "execution_count": 100,
     "metadata": {},
     "output_type": "execute_result"
    },
    {
     "data": {
      "image/png": "[encoded data removed]",
      "text/plain": [
       "<matplotlib.figure.Figure at 0x10aec5e50>"
      ]
     },
     "metadata": {},
     "output_type": "display_data"
    }
   ],
   "source": [
    "# AM\n",
    "plt.boxplot(list(testAM_down), labels=('Train (-)', 'Test (-)', 'Train (+)','Test (+)'))\n",
    "plt.ylabel(\"Fraction classified correctly\")\n",
    "plt.title(\"Human BAL Model Validation, using AM Cells, 20 genes\\ndownsampling\")"
   ]
  },
  {
   "cell_type": "markdown",
   "metadata": {},
   "source": [
    "## up-sampling"
   ]
  },
  {
   "cell_type": "code",
   "execution_count": 136,
   "metadata": {
    "collapsed": false
   },
   "outputs": [
    {
     "name": "stderr",
     "output_type": "stream",
     "text": [
      "Training: 100%|██████████| 50/50 [04:56<00:00,  6.25s/it]\n",
      "Testing: 100%|██████████| 50/50 [02:23<00:00,  2.75s/it]\n"
     ]
    }
   ],
   "source": [
    "testAM_up_100genes = get_accuracy_stats(n=50, celltype='AM', \n",
    "                        n_top_genes=100, sampling='up', \n",
    "                        z=True, flip_test_y=False, flip_train_y=False)\n"
   ]
  },
  {
   "cell_type": "markdown",
   "metadata": {},
   "source": [
    "## AM, upsampling, 100 genes"
   ]
  },
  {
   "cell_type": "code",
   "execution_count": 158,
   "metadata": {
    "collapsed": false,
    "scrolled": false
   },
   "outputs": [
    {
     "data": {
      "text/plain": [
       "<matplotlib.text.Text at 0x115613a50>"
      ]
     },
     "execution_count": 158,
     "metadata": {},
     "output_type": "execute_result"
    },
    {
     "data": {
      "image/png": "[encoded data removed]",
      "text/plain": [
       "<matplotlib.figure.Figure at 0x11406aed0>"
      ]
     },
     "metadata": {},
     "output_type": "display_data"
    }
   ],
   "source": [
    "# AM\n",
    "plt.boxplot(list(testAM_up_100genes), labels=('Train (-)', 'Test (-)', 'Train (+)','Test (+)'))\n",
    "plt.ylabel(\"Fraction classified correctly\")\n",
    "plt.title(\"Human BAL Model Validation, using AM Cells, 100 genes\\nupsampling\")"
   ]
  },
  {
   "cell_type": "code",
   "execution_count": 161,
   "metadata": {
    "collapsed": false
   },
   "outputs": [
    {
     "data": {
      "text/plain": [
       "([0.6666666666666666,\n",
       "  0.8666666666666667,\n",
       "  0.8,\n",
       "  0.9,\n",
       "  0.7666666666666667,\n",
       "  0.8333333333333334,\n",
       "  0.8666666666666667,\n",
       "  0.8666666666666667,\n",
       "  0.8666666666666667,\n",
       "  0.8666666666666667,\n",
       "  0.9,\n",
       "  0.8666666666666667,\n",
       "  0.8666666666666667,\n",
       "  0.7666666666666667,\n",
       "  0.8,\n",
       "  0.8333333333333334,\n",
       "  0.8,\n",
       "  0.7666666666666667,\n",
       "  0.8,\n",
       "  0.8333333333333334,\n",
       "  0.7666666666666667,\n",
       "  0.8333333333333334,\n",
       "  0.8,\n",
       "  0.8333333333333334,\n",
       "  0.8333333333333334,\n",
       "  0.8666666666666667,\n",
       "  0.8,\n",
       "  0.8,\n",
       "  0.8,\n",
       "  0.8333333333333334,\n",
       "  0.8666666666666667,\n",
       "  0.8666666666666667,\n",
       "  0.9,\n",
       "  0.8333333333333334,\n",
       "  0.8666666666666667,\n",
       "  0.7666666666666667,\n",
       "  0.8,\n",
       "  0.7666666666666667,\n",
       "  0.8666666666666667,\n",
       "  0.7333333333333333,\n",
       "  0.8,\n",
       "  0.8666666666666667,\n",
       "  0.7666666666666667,\n",
       "  0.8666666666666667,\n",
       "  0.8333333333333334,\n",
       "  0.6666666666666666,\n",
       "  0.7,\n",
       "  0.8333333333333334,\n",
       "  0.8333333333333334,\n",
       "  0.8],\n",
       " [0.7142857142857143,\n",
       "  0.7142857142857143,\n",
       "  0.7142857142857143,\n",
       "  0.7142857142857143,\n",
       "  0.7142857142857143,\n",
       "  0.7142857142857143,\n",
       "  0.7142857142857143,\n",
       "  0.7142857142857143,\n",
       "  0.7142857142857143,\n",
       "  0.7142857142857143,\n",
       "  0.7142857142857143,\n",
       "  0.7142857142857143,\n",
       "  0.7142857142857143,\n",
       "  0.7142857142857143,\n",
       "  0.7142857142857143,\n",
       "  0.7142857142857143,\n",
       "  0.7142857142857143,\n",
       "  0.7142857142857143,\n",
       "  0.7142857142857143,\n",
       "  0.7142857142857143,\n",
       "  0.7142857142857143,\n",
       "  0.7142857142857143,\n",
       "  0.7142857142857143,\n",
       "  0.7142857142857143,\n",
       "  0.7142857142857143,\n",
       "  0.7142857142857143,\n",
       "  0.7142857142857143,\n",
       "  0.7142857142857143,\n",
       "  0.7142857142857143,\n",
       "  0.7142857142857143,\n",
       "  0.7142857142857143,\n",
       "  0.7142857142857143,\n",
       "  0.7142857142857143,\n",
       "  0.7142857142857143,\n",
       "  0.7142857142857143,\n",
       "  0.7142857142857143,\n",
       "  0.7142857142857143,\n",
       "  0.7142857142857143,\n",
       "  0.7142857142857143,\n",
       "  0.7142857142857143,\n",
       "  0.7142857142857143,\n",
       "  0.7142857142857143,\n",
       "  0.7142857142857143,\n",
       "  0.7142857142857143,\n",
       "  0.7142857142857143,\n",
       "  0.7142857142857143,\n",
       "  0.7142857142857143,\n",
       "  0.7142857142857143,\n",
       "  0.7142857142857143,\n",
       "  0.7142857142857143],\n",
       " [0.5666666666666667,\n",
       "  0.5,\n",
       "  0.5,\n",
       "  0.6333333333333333,\n",
       "  0.6333333333333333,\n",
       "  0.6333333333333333,\n",
       "  0.7,\n",
       "  0.6333333333333333,\n",
       "  0.6666666666666666,\n",
       "  0.5666666666666667,\n",
       "  0.5666666666666667,\n",
       "  0.6,\n",
       "  0.6333333333333333,\n",
       "  0.7,\n",
       "  0.7666666666666667,\n",
       "  0.5333333333333333,\n",
       "  0.5333333333333333,\n",
       "  0.6666666666666666,\n",
       "  0.6,\n",
       "  0.6333333333333333,\n",
       "  0.6,\n",
       "  0.5333333333333333,\n",
       "  0.5333333333333333,\n",
       "  0.6,\n",
       "  0.6333333333333333,\n",
       "  0.7333333333333333,\n",
       "  0.5666666666666667,\n",
       "  0.6,\n",
       "  0.5,\n",
       "  0.7,\n",
       "  0.6333333333333333,\n",
       "  0.5,\n",
       "  0.6666666666666666,\n",
       "  0.43333333333333335,\n",
       "  0.5333333333333333,\n",
       "  0.5,\n",
       "  0.5333333333333333,\n",
       "  0.6333333333333333,\n",
       "  0.6,\n",
       "  0.6,\n",
       "  0.6,\n",
       "  0.6,\n",
       "  0.6,\n",
       "  0.8333333333333334,\n",
       "  0.6333333333333333,\n",
       "  0.5666666666666667,\n",
       "  0.5666666666666667,\n",
       "  0.5666666666666667,\n",
       "  0.8333333333333334,\n",
       "  0.5333333333333333],\n",
       " [0.5714285714285714,\n",
       "  0.42857142857142855,\n",
       "  0.42857142857142855,\n",
       "  0.5714285714285714,\n",
       "  0.5,\n",
       "  0.42857142857142855,\n",
       "  0.5,\n",
       "  0.5,\n",
       "  0.5714285714285714,\n",
       "  0.5,\n",
       "  0.5,\n",
       "  0.6428571428571429,\n",
       "  0.42857142857142855,\n",
       "  0.5,\n",
       "  0.5,\n",
       "  0.5,\n",
       "  0.5714285714285714,\n",
       "  0.5,\n",
       "  0.5,\n",
       "  0.5,\n",
       "  0.5,\n",
       "  0.5,\n",
       "  0.5,\n",
       "  0.5,\n",
       "  0.42857142857142855,\n",
       "  0.5,\n",
       "  0.5,\n",
       "  0.5,\n",
       "  0.5,\n",
       "  0.5,\n",
       "  0.5,\n",
       "  0.5714285714285714,\n",
       "  0.5,\n",
       "  0.42857142857142855,\n",
       "  0.5,\n",
       "  0.42857142857142855,\n",
       "  0.5714285714285714,\n",
       "  0.5,\n",
       "  0.5714285714285714,\n",
       "  0.5,\n",
       "  0.5,\n",
       "  0.5,\n",
       "  0.5714285714285714,\n",
       "  0.5714285714285714,\n",
       "  0.5714285714285714,\n",
       "  0.42857142857142855,\n",
       "  0.5,\n",
       "  0.42857142857142855,\n",
       "  0.42857142857142855,\n",
       "  0.5])"
      ]
     },
     "execution_count": 161,
     "metadata": {},
     "output_type": "execute_result"
    }
   ],
   "source": [
    "testAM_up_100genes"
   ]
  },
  {
   "cell_type": "code",
   "execution_count": 188,
   "metadata": {
    "collapsed": false
   },
   "outputs": [
    {
     "data": {
      "text/plain": [
       "<matplotlib.text.Text at 0x11b9e1450>"
      ]
     },
     "execution_count": 188,
     "metadata": {},
     "output_type": "execute_result"
    },
    {
     "data": {
      "image/png": "[encoded data removed]",
      "text/plain": [
       "<matplotlib.figure.Figure at 0x11b9f0f10>"
      ]
     },
     "metadata": {},
     "output_type": "display_data"
    }
   ],
   "source": [
    "index = np.arange(2)\n",
    "width = 0.5\n",
    "plt.figure(num=None, figsize=(3, 5), dpi=80, facecolor='w', edgecolor='k')\n",
    "plt.bar(index, [np.mean(test163_up[1]), np.mean(testAM_up_100genes[1])], width=width, color='k')\n",
    "plt.xticks(index + width / 2, ('CD163+', 'AM'))\n",
    "plt.ylabel(\"Fraction classified correct\")"
   ]
  },
  {
   "cell_type": "code",
   "execution_count": 165,
   "metadata": {
    "collapsed": true
   },
   "outputs": [],
   "source": []
  },
  {
   "cell_type": "code",
   "execution_count": 160,
   "metadata": {
    "collapsed": false
   },
   "outputs": [
    {
     "data": {
      "text/plain": [
       "[0.7142857142857143,\n",
       " 0.8571428571428571,\n",
       " 0.7142857142857143,\n",
       " 0.7142857142857143,\n",
       " 0.8571428571428571,\n",
       " 0.8571428571428571,\n",
       " 0.8571428571428571,\n",
       " 0.8571428571428571,\n",
       " 0.8571428571428571,\n",
       " 0.8571428571428571,\n",
       " 0.7142857142857143,\n",
       " 0.7142857142857143,\n",
       " 0.8571428571428571,\n",
       " 0.8571428571428571,\n",
       " 0.8571428571428571,\n",
       " 0.8571428571428571,\n",
       " 0.8571428571428571,\n",
       " 0.8571428571428571,\n",
       " 0.7142857142857143,\n",
       " 0.8571428571428571,\n",
       " 0.8571428571428571,\n",
       " 0.8571428571428571,\n",
       " 0.5714285714285714,\n",
       " 0.8571428571428571,\n",
       " 0.7142857142857143,\n",
       " 0.8571428571428571,\n",
       " 0.8571428571428571,\n",
       " 0.8571428571428571,\n",
       " 0.8571428571428571,\n",
       " 0.7142857142857143,\n",
       " 0.7142857142857143,\n",
       " 0.8571428571428571,\n",
       " 0.7142857142857143,\n",
       " 0.8571428571428571,\n",
       " 0.7142857142857143,\n",
       " 0.7142857142857143,\n",
       " 0.8571428571428571,\n",
       " 0.8571428571428571,\n",
       " 0.7142857142857143,\n",
       " 0.8571428571428571,\n",
       " 0.8571428571428571,\n",
       " 0.8571428571428571,\n",
       " 0.7142857142857143,\n",
       " 0.8571428571428571,\n",
       " 0.7142857142857143,\n",
       " 0.8571428571428571,\n",
       " 0.8571428571428571,\n",
       " 0.7142857142857143,\n",
       " 0.7142857142857143,\n",
       " 0.8571428571428571]"
      ]
     },
     "execution_count": 160,
     "metadata": {},
     "output_type": "execute_result"
    }
   ],
   "source": [
    "test163_up[1]"
   ]
  },
  {
   "cell_type": "markdown",
   "metadata": {},
   "source": [
    "## CD163, upsampling,  100 genes"
   ]
  },
  {
   "cell_type": "code",
   "execution_count": 134,
   "metadata": {
    "collapsed": false,
    "scrolled": true
   },
   "outputs": [
    {
     "name": "stderr",
     "output_type": "stream",
     "text": [
      "Training: 100%|██████████| 50/50 [04:54<00:00,  5.74s/it]\n",
      "Testing: 100%|██████████| 50/50 [02:28<00:00,  2.85s/it]\n"
     ]
    }
   ],
   "source": [
    "test163_up = get_accuracy_stats(n=50, celltype='CD163', \n",
    "                        n_top_genes=100, sampling='up', \n",
    "                        z=True, flip_test_y=False, flip_train_y=False)\n"
   ]
  },
  {
   "cell_type": "code",
   "execution_count": 135,
   "metadata": {
    "collapsed": false
   },
   "outputs": [
    {
     "data": {
      "text/plain": [
       "<matplotlib.text.Text at 0x1140b1fd0>"
      ]
     },
     "execution_count": 135,
     "metadata": {},
     "output_type": "execute_result"
    },
    {
     "data": {
      "image/png": "[encoded data removed]",
      "text/plain": [
       "<matplotlib.figure.Figure at 0x11284eed0>"
      ]
     },
     "metadata": {},
     "output_type": "display_data"
    }
   ],
   "source": [
    "# AM\n",
    "plt.boxplot(list(test163_up), labels=('Train (-)', 'Test (-)', 'Train (+)','Test (+)'))\n",
    "plt.ylabel(\"Fraction classified correctly\")\n",
    "plt.title(\"Human BAL Model Validation, using CD163+ Cells, 100 genes\\nupsampling\")"
   ]
  },
  {
   "cell_type": "markdown",
   "metadata": {},
   "source": [
    "## AM, upsampling, 20 genes"
   ]
  },
  {
   "cell_type": "code",
   "execution_count": 156,
   "metadata": {
    "collapsed": false
   },
   "outputs": [
    {
     "data": {
      "text/plain": [
       "32"
      ]
     },
     "execution_count": 156,
     "metadata": {},
     "output_type": "execute_result"
    }
   ],
   "source": [
    "len(old_meta.index.unique())"
   ]
  },
  {
   "cell_type": "code",
   "execution_count": 132,
   "metadata": {
    "collapsed": false,
    "scrolled": false
   },
   "outputs": [
    {
     "data": {
      "text/plain": [
       "<matplotlib.text.Text at 0x11452c390>"
      ]
     },
     "execution_count": 132,
     "metadata": {},
     "output_type": "execute_result"
    },
    {
     "data": {
      "image/png": "[encoded data removed]",
      "text/plain": [
       "<matplotlib.figure.Figure at 0x1128df450>"
      ]
     },
     "metadata": {},
     "output_type": "display_data"
    }
   ],
   "source": [
    "# AM\n",
    "plt.boxplot(list(testAM_up), labels=('Train (-)', 'Test (-)', 'Train (+)','Test (+)'))\n",
    "plt.ylabel(\"Fraction classified correctly\")\n",
    "plt.title(\"Human BAL Model Validation, using AM Cells, 50 genes\\nupsampling\")"
   ]
  },
  {
   "cell_type": "markdown",
   "metadata": {},
   "source": [
    "## CD163, upsampling,  50 genes"
   ]
  },
  {
   "cell_type": "code",
   "execution_count": 130,
   "metadata": {
    "collapsed": false
   },
   "outputs": [
    {
     "name": "stderr",
     "output_type": "stream",
     "text": [
      "Training: 100%|██████████| 50/50 [04:41<00:00,  5.65s/it]\n",
      "Testing: 100%|██████████| 50/50 [02:23<00:00,  2.83s/it]\n"
     ]
    }
   ],
   "source": [
    "test163_up = get_accuracy_stats(n=50, celltype='CD163', \n",
    "                        n_top_genes=50, sampling='up', \n",
    "                        z=True, flip_test_y=False, flip_train_y=False)\n"
   ]
  },
  {
   "cell_type": "code",
   "execution_count": 131,
   "metadata": {
    "collapsed": false
   },
   "outputs": [
    {
     "data": {
      "text/plain": [
       "<matplotlib.text.Text at 0x1136d3f10>"
      ]
     },
     "execution_count": 131,
     "metadata": {},
     "output_type": "execute_result"
    },
    {
     "data": {
      "image/png": "[encoded data removed]",
      "text/plain": [
       "<matplotlib.figure.Figure at 0x111743950>"
      ]
     },
     "metadata": {},
     "output_type": "display_data"
    }
   ],
   "source": [
    "# AM\n",
    "plt.boxplot(list(test163_up), labels=('Train (-)', 'Test (-)', 'Train (+)','Test (+)'))\n",
    "plt.ylabel(\"Fraction classified correctly\")\n",
    "plt.title(\"Human BAL Model Validation, using CD163+ Cells, 50 genes\\nupsampling\")"
   ]
  },
  {
   "cell_type": "code",
   "execution_count": 20,
   "metadata": {
    "collapsed": false
   },
   "outputs": [],
   "source": [
    "def calc_metrics(X, y, n_pcs, n_top_genes):\n",
    "    \n",
    "    n_samples = len(X)\n",
    "    pred = []\n",
    "    vip_inds_all = []\n",
    "    #print X.shape, y.shape\n",
    "    \n",
    "    ### Leave-One-Out Cross-validation\n",
    "    \n",
    "    for sample in range(n_samples):\n",
    "        samples = range(n_samples)\n",
    "        samples.remove(sample)\n",
    "        X_t = X[(samples)]\n",
    "        y_t = y[(samples)]\n",
    "        #print X_t.shape    \n",
    "        \n",
    "        ### Get VIPs for model built without the LOO sample\n",
    "        plsv = PLSRegression(5, scale=False)\n",
    "        plsv.fit(X_t, y_t)\n",
    "        vips = vipp(X_t, y_t, plsv.x_scores_, plsv.x_weights_)\n",
    "        vips = [float(v) for v in vips]\n",
    "        vip_inds = np.argsort(vips)[::-1][:n_top_genes]\n",
    "        vip_inds_all.append(vip_inds)\n",
    "        \n",
    "        ### Xn takes the original X to get the loo sample\n",
    "        Xn = X.T[vip_inds].T\n",
    "        loo_sample = Xn[sample]\n",
    "        loo_sample = np.array(loo_sample).reshape((1, -1))\n",
    "        \n",
    "        ### Filter the samples \n",
    "        X_tn = X_t.T[vip_inds].T\n",
    "        #print X_tn.shape\n",
    "        pls = PLSRegression(n_pcs, scale=False)\n",
    "        pls.fit(X_tn, y_t)\n",
    "\n",
    "        pred.append(float(pls.predict(loo_sample)))\n",
    "\n",
    "    # Calculate metrics\n",
    "    ### Q squared\n",
    "    num = sum([float((pred[i] - y[i]))**2 for i in range(len(pred))])\n",
    "    den = sum([(y[i] - np.mean(y))**2 for i in range(len(pred))])\n",
    "    Q2 = float(1 - num/den)\n",
    "\n",
    "    ### Prediction error\n",
    "    errs = [abs(float((pred[i] - y[i]))) for i in range(len(pred))]\n",
    " \n",
    "    ### Percent correct for neg and pos Pneumonia\n",
    "    neg_err = [errs[i] for i in range(len(errs)) if y[i]==0]  \n",
    "    neg_corr = [e < 0.5 for e in neg_err]   \n",
    "    neg_corr = float(sum(neg_corr)) / len(neg_err)\n",
    "\n",
    "    \n",
    "    pos_err = [errs[i] for i in range(len(errs)) if y[i]==1]\n",
    "    pos_corr = [e < 0.5 for e in pos_err]\n",
    "    pos_corr = float(sum(pos_corr)) / len(pos_err)\n",
    "    \n",
    "\n",
    "    #print \"num: {0: .3f}, den: {1: .3f}, \n",
    "    #print \"Q^2: {0: .3f}\".format(Q2)\n",
    "    \n",
    "    return neg_err, pos_err, Q2, neg_corr, pos_corr, vip_inds_all\n",
    "    #return [float(abs(pred[p] - y[p])) for p in range(len(pred))]"
   ]
  },
  {
   "cell_type": "code",
   "execution_count": 21,
   "metadata": {
    "collapsed": true
   },
   "outputs": [],
   "source": [
    "def vipp(x, y, t, w):\n",
    "\n",
    "    \"\"\"\n",
    "    From original MATLAB code\n",
    "    See https://code.google.com/p/carspls/\n",
    "\n",
    "    #+++ vip=vipp(x,y,t,w);\n",
    "    #+++ t: scores, which can be obtained by pls_nipals.m\n",
    "    #+++ w: weight, which can be obtained by pls_nipals.m\n",
    "    #+++ to calculate the vip for each variable to the response;\n",
    "    #+++ vip=sqrt(p*q/s);\n",
    "    \"\"\"\n",
    "    #initializing\n",
    "    [p, h] = w.shape\n",
    "    co = np.matrix(np.zeros([1, h]))\n",
    "\n",
    "    # Calculate s\n",
    "    for ii in range(h):\n",
    "        corr = np.corrcoef(y, t[:, ii], rowvar=0)\n",
    "        co[0, ii] = corr[0, 1]**2\n",
    "    s = np.sum(co)\n",
    "\n",
    "    # Calculate q\n",
    "    # This has been linearized to replace the original nested for loop\n",
    "    w_power = np.power(w, 2)\n",
    "    d = np.multiply(w_power, co)\n",
    "    q = np.sum(d, 1)\n",
    "    vip = np.sqrt(p*q/s)\n",
    "    return vip"
   ]
  },
  {
   "cell_type": "code",
   "execution_count": 75,
   "metadata": {
    "collapsed": true
   },
   "outputs": [],
   "source": [
    "def calc_Q2_kfold(X, y, k=5, n_rand=10, n_pcs=5, method='PLSR'):\n",
    "    n_samples = len(X)\n",
    "    pred = []\n",
    "    Q2s = []\n",
    "    for ki in range(n_rand):\n",
    "        sample_ind = range(n_samples)\n",
    "        withheld_samples = random.sample(sample_ind, k)\n",
    "        lo_samples = X[withheld_samples]\n",
    "        for s in withheld_samples:\n",
    "            sample_ind.remove(s)\n",
    "        X_t = X[(sample_ind)]\n",
    "        y_t = y[(sample_ind)]\n",
    "        if method=='PLSR':\n",
    "            model = PLSRegression(n_pcs, scale=False)\n",
    "        elif method=='RF':\n",
    "            model = RandomForestClassifier()\n",
    "        elif method=='SVM':\n",
    "            model = SVC()\n",
    "        else:\n",
    "            print \"Method not found\"\n",
    "        model.fit(X_t, y_t)\n",
    "\n",
    "        for s in withheld_samples:\n",
    "            pred.append(float(model.predict(X[s])))\n",
    "        #Eprint \"samples\", withheld_samples\n",
    "        #Eprint \"pred\", pred\n",
    "        num = sum([(pred[i] - y[s])**2 for i, s in enumerate(withheld_samples)])\n",
    "        den = sum([(y[s] - np.mean(y[withheld_samples]))**2 for s in withheld_samples])\n",
    "        Q2 = float(1- num/den)\n",
    "        Q2s.append(Q2)\n",
    "    print \"Q^2: mean={0: .2f}, std={1: .2f}\".format(np.mean(Q2s),np.std(Q2s))\n",
    "    #return [float(abs(pred[p] - y[p])) for p in range(len(pred))]"
   ]
  },
  {
   "cell_type": "code",
   "execution_count": null,
   "metadata": {
    "collapsed": true
   },
   "outputs": [],
   "source": []
  }
 ],
 "metadata": {
  "anaconda-cloud": {},
  "kernelspec": {
   "display_name": "Python [default]",
   "language": "python",
   "name": "python2"
  },
  "language_info": {
   "codemirror_mode": {
    "name": "ipython",
    "version": 2
   },
   "file_extension": ".py",
   "mimetype": "text/x-python",
   "name": "python",
   "nbconvert_exporter": "python",
   "pygments_lexer": "ipython2",
   "version": "2.7.12"
  }
 },
 "nbformat": 4,
 "nbformat_minor": 0
}
